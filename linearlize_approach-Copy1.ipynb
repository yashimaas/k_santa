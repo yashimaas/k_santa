{
 "cells": [
  {
   "cell_type": "markdown",
   "metadata": {},
   "source": [
    "# Imports"
   ]
  },
  {
   "cell_type": "code",
   "execution_count": 1,
   "metadata": {
    "ExecuteTime": {
     "end_time": "2020-01-07T15:28:47.920277Z",
     "start_time": "2020-01-07T15:28:46.377697Z"
    }
   },
   "outputs": [],
   "source": [
    "import numpy as np\n",
    "import pandas as pd\n",
    "from numba import njit\n",
    "from itertools import product\n",
    "from ortools.linear_solver import pywraplp\n",
    "from multiprocessing import Process"
   ]
  },
  {
   "cell_type": "code",
   "execution_count": 2,
   "metadata": {
    "ExecuteTime": {
     "end_time": "2020-01-07T15:29:06.729347Z",
     "start_time": "2020-01-07T15:29:06.719448Z"
    }
   },
   "outputs": [
    {
     "name": "stdout",
     "output_type": "stream",
     "text": [
      "\n"
     ]
    }
   ],
   "source": [
    "print()"
   ]
  },
  {
   "cell_type": "markdown",
   "metadata": {},
   "source": [
    "# Initialize"
   ]
  },
  {
   "cell_type": "markdown",
   "metadata": {},
   "source": [
    "## Load Data"
   ]
  },
  {
   "cell_type": "code",
   "execution_count": 3,
   "metadata": {
    "ExecuteTime": {
     "end_time": "2020-01-07T13:29:08.008541Z",
     "start_time": "2020-01-07T13:29:07.993369Z"
    }
   },
   "outputs": [],
   "source": [
    "data = pd.read_csv('./data/family_data.csv', index_col='family_id')"
   ]
  },
  {
   "cell_type": "markdown",
   "metadata": {},
   "source": [
    "## Set Static Variables"
   ]
  },
  {
   "cell_type": "code",
   "execution_count": 4,
   "metadata": {
    "ExecuteTime": {
     "end_time": "2020-01-07T13:29:08.015982Z",
     "start_time": "2020-01-07T13:29:08.011244Z"
    }
   },
   "outputs": [],
   "source": [
    "N_DAYS = 100\n",
    "N_FAMILIES = 5000\n",
    "MAX_OCCUPANCY = 300\n",
    "MIN_OCCUPANCY = 125\n",
    "\n",
    "FAMILY_SIZE = data.n_people.values\n",
    "DESIRED     = data.values[:, :-1] - 1"
   ]
  },
  {
   "cell_type": "markdown",
   "metadata": {},
   "source": [
    "# Cost Function"
   ]
  },
  {
   "cell_type": "markdown",
   "metadata": {},
   "source": [
    "## Preference Cost"
   ]
  },
  {
   "cell_type": "markdown",
   "metadata": {},
   "source": [
    "### Preference Cost Function"
   ]
  },
  {
   "cell_type": "code",
   "execution_count": 5,
   "metadata": {
    "ExecuteTime": {
     "end_time": "2020-01-07T13:29:08.064089Z",
     "start_time": "2020-01-07T13:29:08.017663Z"
    }
   },
   "outputs": [],
   "source": [
    "def get_penalty(n, choice):\n",
    "    penalty = None\n",
    "    if choice == 0:\n",
    "        penalty = 0\n",
    "    elif choice == 1:\n",
    "        penalty = 50\n",
    "    elif choice == 2:\n",
    "        penalty = 50 + 9 * n\n",
    "    elif choice == 3:\n",
    "        penalty = 100 + 9 * n\n",
    "    elif choice == 4:\n",
    "        penalty = 200 + 9 * n\n",
    "    elif choice == 5:\n",
    "        penalty = 200 + 18 * n\n",
    "    elif choice == 6:\n",
    "        penalty = 300 + 18 * n\n",
    "    elif choice == 7:\n",
    "        penalty = 300 + 36 * n\n",
    "    elif choice == 8:\n",
    "        penalty = 400 + 36 * n\n",
    "    elif choice == 9:\n",
    "        penalty = 500 + 36 * n + 199 * n\n",
    "    else:\n",
    "        penalty = 500 + 36 * n + 398 * n\n",
    "    return penalty"
   ]
  },
  {
   "cell_type": "code",
   "execution_count": 6,
   "metadata": {
    "ExecuteTime": {
     "end_time": "2020-01-07T13:29:08.074667Z",
     "start_time": "2020-01-07T13:29:08.066391Z"
    }
   },
   "outputs": [],
   "source": [
    "def GetPreferenceCostMatrix(data):\n",
    "    cost_matrix = np.zeros((N_FAMILIES, N_DAYS), dtype=np.int64)\n",
    "    for i in range(N_FAMILIES):\n",
    "        desired = data.values[i, :-1]\n",
    "        cost_matrix[i, :] = get_penalty(FAMILY_SIZE[i], 10)\n",
    "        for j, day in enumerate(desired):\n",
    "            cost_matrix[i, day-1] = get_penalty(FAMILY_SIZE[i], j)\n",
    "    return cost_matrix"
   ]
  },
  {
   "cell_type": "markdown",
   "metadata": {},
   "source": [
    "### Make Matrix"
   ]
  },
  {
   "cell_type": "code",
   "execution_count": 7,
   "metadata": {
    "ExecuteTime": {
     "end_time": "2020-01-07T13:29:08.214621Z",
     "start_time": "2020-01-07T13:29:08.077048Z"
    }
   },
   "outputs": [],
   "source": [
    "PCOSTM = GetPreferenceCostMatrix(data)"
   ]
  },
  {
   "cell_type": "code",
   "execution_count": 8,
   "metadata": {
    "ExecuteTime": {
     "end_time": "2020-01-07T13:29:08.227714Z",
     "start_time": "2020-01-07T13:29:08.217122Z"
    }
   },
   "outputs": [
    {
     "name": "stdout",
     "output_type": "stream",
     "text": [
      "(5000, 100)\n"
     ]
    },
    {
     "data": {
      "text/plain": [
       "array([2236, 2236, 2236, 2236, 2236, 2236, 2236, 2236, 2236,  544, 2236,\n",
       "         86, 2236, 2236, 2236, 2236, 2236, 2236, 2236, 2236, 2236, 2236,\n",
       "       2236, 2236, 2236, 2236, 2236, 1440, 2236, 2236, 2236, 2236,  236,\n",
       "       2236, 2236, 2236, 2236,   50, 2236, 2236, 2236, 2236, 2236, 2236,\n",
       "       2236, 2236, 2236, 2236, 2236, 2236, 2236,    0, 2236, 2236, 2236,\n",
       "       2236, 2236, 2236, 2236, 2236, 2236, 2236, 2236,  372, 2236, 2236,\n",
       "       2236, 2236, 2236, 2236, 2236, 2236, 2236, 2236,  272,  444, 2236,\n",
       "       2236, 2236, 2236, 2236,  136, 2236, 2236, 2236, 2236, 2236, 2236,\n",
       "       2236, 2236, 2236, 2236, 2236, 2236, 2236, 2236, 2236, 2236, 2236,\n",
       "       2236])"
      ]
     },
     "execution_count": 8,
     "metadata": {},
     "output_type": "execute_result"
    }
   ],
   "source": [
    "print(PCOSTM.shape)\n",
    "PCOSTM[0]"
   ]
  },
  {
   "cell_type": "markdown",
   "metadata": {},
   "source": [
    "### Calculate Preference Cost"
   ]
  },
  {
   "cell_type": "code",
   "execution_count": 9,
   "metadata": {
    "ExecuteTime": {
     "end_time": "2020-01-07T13:29:08.235194Z",
     "start_time": "2020-01-07T13:29:08.230162Z"
    }
   },
   "outputs": [],
   "source": [
    "@njit(fastmath=True)\n",
    "def pcost(prediction):\n",
    "    daily_occupancy = np.zeros(N_DAYS+1, dtype=np.int64)\n",
    "    penalty = 0\n",
    "    for (i, p) in enumerate(prediction):\n",
    "        n = FAMILY_SIZE[i]\n",
    "        penalty += PCOSTM[i, p]\n",
    "        daily_occupancy[p] += n\n",
    "    return penalty, daily_occupancy"
   ]
  },
  {
   "cell_type": "markdown",
   "metadata": {},
   "source": [
    "## Accounting Cost"
   ]
  },
  {
   "cell_type": "code",
   "execution_count": 10,
   "metadata": {
    "ExecuteTime": {
     "end_time": "2020-01-07T13:29:08.244049Z",
     "start_time": "2020-01-07T13:29:08.236991Z"
    }
   },
   "outputs": [],
   "source": [
    "def GetAccountingCostMatrix():\n",
    "    ac = np.zeros((1000, 1000), dtype=np.float64)\n",
    "    for n in range(ac.shape[0]):\n",
    "        for n_p1 in range(ac.shape[1]):\n",
    "            diff = abs(n - n_p1)\n",
    "            ac[n, n_p1] = max(0, (n - 125) / 400 * n**(0.5 + diff / 50.0))\n",
    "    return ac"
   ]
  },
  {
   "cell_type": "markdown",
   "metadata": {},
   "source": [
    "### Make Matrix"
   ]
  },
  {
   "cell_type": "code",
   "execution_count": 11,
   "metadata": {
    "ExecuteTime": {
     "end_time": "2020-01-07T13:29:08.878394Z",
     "start_time": "2020-01-07T13:29:08.245814Z"
    }
   },
   "outputs": [],
   "source": [
    "ACOSTM = GetAccountingCostMatrix() "
   ]
  },
  {
   "cell_type": "code",
   "execution_count": 12,
   "metadata": {
    "ExecuteTime": {
     "end_time": "2020-01-07T13:29:08.890601Z",
     "start_time": "2020-01-07T13:29:08.881204Z"
    }
   },
   "outputs": [
    {
     "name": "stdout",
     "output_type": "stream",
     "text": [
      "(1000, 1000)\n"
     ]
    },
    {
     "data": {
      "text/plain": [
       "array([[0.00000000e+00, 0.00000000e+00, 0.00000000e+00, ...,\n",
       "        0.00000000e+00, 0.00000000e+00, 0.00000000e+00],\n",
       "       [0.00000000e+00, 0.00000000e+00, 0.00000000e+00, ...,\n",
       "        0.00000000e+00, 0.00000000e+00, 0.00000000e+00],\n",
       "       [0.00000000e+00, 0.00000000e+00, 0.00000000e+00, ...,\n",
       "        0.00000000e+00, 0.00000000e+00, 0.00000000e+00],\n",
       "       ...,\n",
       "       [4.28336940e+61, 3.73088297e+61, 3.24965849e+61, ...,\n",
       "        6.88341688e+01, 7.90274513e+01, 9.07302023e+01],\n",
       "       [5.02533626e+61, 4.37706017e+61, 3.81241268e+61, ...,\n",
       "        7.91593344e+01, 6.89476587e+01, 7.91593344e+01],\n",
       "       [5.89593436e+61, 5.13524692e+61, 4.47270259e+61, ...,\n",
       "        9.10367626e+01, 7.92912921e+01, 6.90612103e+01]])"
      ]
     },
     "execution_count": 12,
     "metadata": {},
     "output_type": "execute_result"
    }
   ],
   "source": [
    "print(ACOSTM.shape)\n",
    "ACOSTM"
   ]
  },
  {
   "cell_type": "markdown",
   "metadata": {},
   "source": [
    "### Calculate Accounting Cost"
   ]
  },
  {
   "cell_type": "code",
   "execution_count": 13,
   "metadata": {
    "ExecuteTime": {
     "end_time": "2020-01-07T13:29:08.897451Z",
     "start_time": "2020-01-07T13:29:08.892322Z"
    }
   },
   "outputs": [],
   "source": [
    "@njit(fastmath=True)\n",
    "def acost(daily_occupancy):\n",
    "    accounting_cost = 0\n",
    "    n_out_of_range = 0\n",
    "    daily_occupancy[-1] = daily_occupancy[-2]\n",
    "    for day in range(N_DAYS):\n",
    "        n_p1 = daily_occupancy[day + 1]\n",
    "        n    = daily_occupancy[day]\n",
    "        n_out_of_range += (n > MAX_OCCUPANCY) or (n < MIN_OCCUPANCY)\n",
    "        accounting_cost += ACOSTM[n, n_p1]\n",
    "    return accounting_cost, n_out_of_range"
   ]
  },
  {
   "cell_type": "markdown",
   "metadata": {},
   "source": [
    "## Total Cost"
   ]
  },
  {
   "cell_type": "code",
   "execution_count": 14,
   "metadata": {
    "ExecuteTime": {
     "end_time": "2020-01-07T13:29:08.903743Z",
     "start_time": "2020-01-07T13:29:08.899541Z"
    }
   },
   "outputs": [],
   "source": [
    "@njit(fastmath=True)\n",
    "def cost_function(prediction):\n",
    "    penalty, daily_occupancy = pcost(prediction)\n",
    "    accounting_cost, n_out_of_range = acost(daily_occupancy)\n",
    "    return penalty + accounting_cost + n_out_of_range*100000000"
   ]
  },
  {
   "cell_type": "markdown",
   "metadata": {},
   "source": [
    "## Evaluation Method"
   ]
  },
  {
   "cell_type": "code",
   "execution_count": 15,
   "metadata": {
    "ExecuteTime": {
     "end_time": "2020-01-07T13:29:08.910380Z",
     "start_time": "2020-01-07T13:29:08.905826Z"
    }
   },
   "outputs": [],
   "source": [
    "def eval(prediction):\n",
    "    pc, occ = pcost(prediction)\n",
    "    ac, _ = acost(occ)\n",
    "    print('Preferenced Cost : ', pc)\n",
    "    print('Accounting Cost : {: .2f}'.format(ac))\n",
    "    print('Total Cost : {: .2f}'.format(pc+ac))\n",
    "    print('')\n",
    "    print('Max Occupancy : {} , Min Ocupancy : {}'.format(occ.min(), occ.max()))"
   ]
  },
  {
   "cell_type": "markdown",
   "metadata": {},
   "source": [
    "# Solver"
   ]
  },
  {
   "cell_type": "markdown",
   "metadata": {},
   "source": [
    "## Linear Programming Solver"
   ]
  },
  {
   "cell_type": "markdown",
   "metadata": {},
   "source": [
    "**NOTE :**\n",
    "\n",
    "<font color='Red'>Modify the accounting penalty to **linear** with binary variables.</font>"
   ]
  },
  {
   "cell_type": "markdown",
   "metadata": {},
   "source": [
    "### Make Solver"
   ]
  },
  {
   "cell_type": "code",
   "execution_count": 16,
   "metadata": {
    "ExecuteTime": {
     "end_time": "2020-01-07T15:14:20.128655Z",
     "start_time": "2020-01-07T15:14:20.102895Z"
    }
   },
   "outputs": [],
   "source": [
    "def solveSantaLP():\n",
    "    \n",
    "    S = pywraplp.Solver('SolveAssignmentProblem', pywraplp.Solver.CBC_MIXED_INTEGER_PROGRAMMING)\n",
    "#     S = pywraplp.Solver('SolveAssignmentProblem', pywraplp.Solver.GLOP_LINEAR_PROGRAMMING)    \n",
    "    GAP = MAX_OCCUPANCY-MIN_OCCUPANCY + 1\n",
    "    \n",
    "    print('start pre')\n",
    "    candidates = [[] for _ in range(N_DAYS)] \n",
    "    \n",
    "    x = {}\n",
    "    for i in range(N_FAMILIES):\n",
    "        for j in DESIRED[i, :]:\n",
    "            candidates[j].append(i)\n",
    "            x[i, j] = S.BoolVar('x[%i,%i]' % (i, j))\n",
    "    \n",
    "    N = {}\n",
    "    for day in range(N_DAYS):\n",
    "        for i in range(GAP):\n",
    "            for j in range(GAP):\n",
    "                N[day, i+MIN_OCCUPANCY, j+MIN_OCCUPANCY] = S.BoolVar('N[%i,%i,%i]' % (day, i+MIN_OCCUPANCY, j+MIN_OCCUPANCY))\n",
    "            \n",
    "\n",
    "    family_presence = [S.Sum([x[i, j] for j in DESIRED[i, :]])\n",
    "                                                        for i in range(N_FAMILIES)]\n",
    "    \n",
    "    linear_constraint = [S.Sum(N[day, i+MIN_OCCUPANCY, j+MIN_OCCUPANCY] for i in range(GAP)\n",
    "                                                                                                                               for j in range(GAP)) \n",
    "                                                                                                                               for day in range(N_DAYS) ]\n",
    " \n",
    "        \n",
    "    # Objective    \n",
    "    preference_cost = S.Sum([PCOSTM[i, j] * x[i,j] for i in range(N_FAMILIES)\n",
    "                                                                            for j in DESIRED[i, :] ])\n",
    "    \n",
    "    penalties = []\n",
    "    for day in range(N_DAYS):\n",
    "        day_penalties = []\n",
    "        for i in range(GAP):\n",
    "            for j in range(GAP):\n",
    "                daily_occupancy = i + MIN_OCCUPANCY\n",
    "                p_occupancy = j + MIN_OCCUPANCY\n",
    "                day_penalties.append((daily_occupancy - 125)/400 * daily_occupancy**(1/2+abs(daily_occupancy - p_occupancy)/50) \n",
    "                                         * N[day, daily_occupancy, p_occupancy])\n",
    "        day_penalty = S.Sum(day_penalties)\n",
    "        penalties.append(day_penalty)\n",
    "        \n",
    "    accounting_penalty = S.Sum(penalties)\n",
    "    \n",
    "    total_cost = preference_cost + accounting_penalty\n",
    "\n",
    "    S.Minimize(total_cost)\n",
    "\n",
    "\n",
    "\n",
    "    # Constraints\n",
    "    for day in range(N_DAYS):\n",
    "        S.Add(linear_constraint[day] == 1)\n",
    "        S.Add(\n",
    "            S.Sum([x[i, day] * FAMILY_SIZE[i] for i in candidates[day]]) == \n",
    "            S.Sum( [(i + MIN_OCCUPANCY)* N[day, i+MIN_OCCUPANCY, j+MIN_OCCUPANCY] for i in range(GAP)\n",
    "                                                                                                                                                for j in range(GAP)])\n",
    "            )\n",
    "        \n",
    "    for i in range(N_FAMILIES):\n",
    "        S.Add(family_presence[i] == 1)\n",
    "\n",
    "    print('redeay and start')\n",
    "    print(S.SetNumThreads(4))\n",
    "    res = S.Solve()\n",
    "\n",
    "    resdict = {0:'OPTIMAL', 1:'FEASIBLE', 2:'INFEASIBLE', 3:'UNBOUNDED', \n",
    "               4:'ABNORMAL', 5:'MODEL_INVALID', 6:'NOT_SOLVED'}\n",
    "\n",
    "    print('LP solver result:', resdict[res])\n",
    "\n",
    "\n",
    "    l = [(i, j, x[i, j].solution_value()) for i in range(N_FAMILIES)\n",
    "                                                      for j in DESIRED[i, :] \n",
    "                                                      if x[i, j].solution_value()>0]\n",
    "\n",
    "    df = pd.DataFrame(l, columns=['family_id', 'day', 'n'])\n",
    "    return df"
   ]
  },
  {
   "cell_type": "markdown",
   "metadata": {},
   "source": [
    "### Solve"
   ]
  },
  {
   "cell_type": "code",
   "execution_count": null,
   "metadata": {
    "ExecuteTime": {
     "start_time": "2020-01-07T15:14:23.820Z"
    }
   },
   "outputs": [
    {
     "name": "stdout",
     "output_type": "stream",
     "text": [
      "start pre\n"
     ]
    }
   ],
   "source": [
    "df_tmp = solveSantaLP()"
   ]
  },
  {
   "cell_type": "markdown",
   "metadata": {},
   "source": [
    "### Check"
   ]
  },
  {
   "cell_type": "code",
   "execution_count": null,
   "metadata": {
    "ExecuteTime": {
     "end_time": "2020-01-07T15:03:40.823457Z",
     "start_time": "2020-01-07T15:03:40.816605Z"
    }
   },
   "outputs": [],
   "source": [
    "df_tmp.shape"
   ]
  },
  {
   "cell_type": "code",
   "execution_count": 20,
   "metadata": {
    "ExecuteTime": {
     "end_time": "2020-01-07T15:03:43.894629Z",
     "start_time": "2020-01-07T15:03:43.879307Z"
    }
   },
   "outputs": [
    {
     "name": "stdout",
     "output_type": "stream",
     "text": [
      "--- About df_tmp.n ---\n",
      "Over 1.0 :  0\n",
      "Under 0.999 :  110\n"
     ]
    }
   ],
   "source": [
    "print('--- About df_tmp.n ---')\n",
    "print('Over 1.0 : ', len(df_tmp[df_tmp.n > 1.0]))\n",
    "print('Under 0.999 : ', len(df_tmp[df_tmp.n < 0.999]))"
   ]
  },
  {
   "cell_type": "code",
   "execution_count": 21,
   "metadata": {
    "ExecuteTime": {
     "end_time": "2020-01-07T15:03:46.514373Z",
     "start_time": "2020-01-07T15:03:46.489064Z"
    }
   },
   "outputs": [],
   "source": [
    "assigned_tmp_df = df_tmp[df_tmp.n > 0.999].copy()\n",
    "assigned_tmp_df['family_size'] = FAMILY_SIZE[assigned_tmp_df.family_id]\n",
    "occupancy = assigned_tmp_df.groupby('day').family_size.sum().values\n",
    "min_occupancy = np.array([max(0, MIN_OCCUPANCY-o) for o in occupancy])\n",
    "max_occupancy = np.array([MAX_OCCUPANCY - o for o in occupancy])\n",
    "\n",
    "unassigned_tmp_df = df_tmp[(df_tmp.n <= 0.999) & (df_tmp.n > (1 - 0.999))]"
   ]
  },
  {
   "cell_type": "code",
   "execution_count": 22,
   "metadata": {
    "ExecuteTime": {
     "end_time": "2020-01-07T15:03:47.797402Z",
     "start_time": "2020-01-07T15:03:47.780080Z"
    }
   },
   "outputs": [
    {
     "name": "stdout",
     "output_type": "stream",
     "text": [
      "Assigened :  4946\n",
      " - Under Min Occupancies :  28\n",
      "    [4 4 7 1 3 4 1 1 6 1 6 1 8 5 3 3 3 1 4 9 3 5 4 2 6 3 2 2]\n",
      " - Over Max Occupancies :  0\n",
      "\n",
      "Unassigned :  54\n"
     ]
    }
   ],
   "source": [
    "print('Assigened : ', len(assigned_tmp_df.family_id.unique()))\n",
    "print(' - Under Min Occupancies : ', len(min_occupancy[min_occupancy != 0]))\n",
    "print('   ', min_occupancy[min_occupancy != 0])\n",
    "print(' - Over Max Occupancies : ', len(max_occupancy[max_occupancy < 0]))\n",
    "print('')\n",
    "print('Unassigned : ', len(unassigned_tmp_df.family_id.unique()))"
   ]
  },
  {
   "cell_type": "markdown",
   "metadata": {},
   "source": [
    "## Mixed Integer Programming Solver"
   ]
  },
  {
   "cell_type": "markdown",
   "metadata": {},
   "source": [
    "### Make Solver"
   ]
  },
  {
   "cell_type": "code",
   "execution_count": 24,
   "metadata": {
    "ExecuteTime": {
     "end_time": "2020-01-07T15:13:20.013133Z",
     "start_time": "2020-01-07T15:13:19.993450Z"
    }
   },
   "outputs": [],
   "source": [
    "def solveSantaIP(families, min_occupancy, max_occupancy):\n",
    "\n",
    "    S = pywraplp.Solver('SolveAssignmentProblem', pywraplp.Solver.CBC_MIXED_INTEGER_PROGRAMMING)\n",
    "    \n",
    "    #S.SetNumThreads(NumThreads) \n",
    "    #S.set_time_limit(limit_in_seconds*1000*NumThreads) #cpu time = wall time * N_threads\n",
    "\n",
    "    n_families = len(families)\n",
    "    \n",
    "    x = {}\n",
    "    candidates = [[] for _ in range(N_DAYS)] #families that can be assigned to each day\n",
    "\n",
    "    for i in families:\n",
    "        for j in DESIRED[i, :]:\n",
    "            candidates[j].append(i)\n",
    "            x[i, j] = S.BoolVar('x[%i,%i]' % (i, j))\n",
    "\n",
    "            \n",
    "    daily_occupancy = [S.Sum([x[i, j] * FAMILY_SIZE[i] for i in candidates[j]])\n",
    "                                                                                   for j in range(N_DAYS)]\n",
    "\n",
    "    family_presence = [S.Sum([x[i, j] for j in DESIRED[i, :]])\n",
    "                                                        for i in families]\n",
    "\n",
    "\n",
    "\n",
    "    # Objective\n",
    "    preference_cost = S.Sum([PCOSTM[i, j] * x[i,j] for i in families\n",
    "                                                                            for j in DESIRED[i, :] ])\n",
    "    \n",
    "\n",
    "    S.Minimize(preference_cost)\n",
    "\n",
    "\n",
    "    # Constraints\n",
    "\n",
    "    for i in range(n_families):\n",
    "        S.Add(family_presence[i] == 1)\n",
    "\n",
    "    for j in range(N_DAYS):\n",
    "        S.Add(daily_occupancy[j] >= min_occupancy[j])\n",
    "        S.Add(daily_occupancy[j] <= max_occupancy[j])\n",
    "\n",
    "    res = S.Solve()\n",
    "    \n",
    "    resdict = {0:'OPTIMAL', 1:'FEASIBLE', 2:'INFEASIBLE', 3:'UNBOUNDED', \n",
    "               4:'ABNORMAL', 5:'MODEL_INVALID', 6:'NOT_SOLVED'}\n",
    "    \n",
    "    print('MIP solver result:', resdict[res])\n",
    "    \n",
    "                \n",
    "    l = [(i, j) for i in families\n",
    "                 for j in DESIRED[i, :] \n",
    "                 if x[i, j].solution_value()>0]\n",
    "\n",
    "\n",
    "    df = pd.DataFrame(l, columns=['family_id', 'day'])\n",
    "    return df\n"
   ]
  },
  {
   "cell_type": "markdown",
   "metadata": {},
   "source": [
    "### Solve"
   ]
  },
  {
   "cell_type": "code",
   "execution_count": 25,
   "metadata": {
    "ExecuteTime": {
     "end_time": "2020-01-07T15:13:23.234249Z",
     "start_time": "2020-01-07T15:13:23.137375Z"
    }
   },
   "outputs": [
    {
     "name": "stdout",
     "output_type": "stream",
     "text": [
      "MIP solver result: OPTIMAL\n"
     ]
    }
   ],
   "source": [
    "tmp_rdf = solveSantaIP(unassigned_tmp_df.family_id.unique(), min_occupancy, max_occupancy)"
   ]
  },
  {
   "cell_type": "code",
   "execution_count": 26,
   "metadata": {
    "ExecuteTime": {
     "end_time": "2020-01-07T15:13:25.540032Z",
     "start_time": "2020-01-07T15:13:25.512643Z"
    }
   },
   "outputs": [],
   "source": [
    "tmp_df2 = pd.concat((assigned_tmp_df[['family_id', 'day']], tmp_rdf)).sort_values('family_id')\n",
    "tmp_df2['family_size'] = FAMILY_SIZE[tmp_df2.family_id]\n",
    "\n",
    "occupancy2 = tmp_df2.groupby('day').family_size.sum().values\n",
    "min_occupancy2 = np.array([max(0, MIN_OCCUPANCY-o) for o in occupancy2])\n",
    "max_occupancy2 = np.array([MAX_OCCUPANCY - o for o in occupancy2])"
   ]
  },
  {
   "cell_type": "markdown",
   "metadata": {},
   "source": [
    "### Check"
   ]
  },
  {
   "cell_type": "code",
   "execution_count": 27,
   "metadata": {
    "ExecuteTime": {
     "end_time": "2020-01-07T15:13:36.111758Z",
     "start_time": "2020-01-07T15:13:36.095266Z"
    }
   },
   "outputs": [
    {
     "name": "stdout",
     "output_type": "stream",
     "text": [
      "Assigened :  5000\n",
      " - Under Min Occupancies :  0\n",
      " - Over Max Occupancies :  0\n"
     ]
    }
   ],
   "source": [
    "print('Assigened : ', len(tmp_df2.family_id.unique()))\n",
    "print(' - Under Min Occupancies : ', len(min_occupancy2[min_occupancy2 != 0]))\n",
    "print(' - Over Max Occupancies : ', len(max_occupancy2[max_occupancy2 < 0]))"
   ]
  },
  {
   "cell_type": "code",
   "execution_count": 28,
   "metadata": {
    "ExecuteTime": {
     "end_time": "2020-01-07T15:12:26.430825Z",
     "start_time": "2020-01-07T15:12:26.419940Z"
    }
   },
   "outputs": [
    {
     "name": "stdout",
     "output_type": "stream",
     "text": [
      "Preferenced Cost :  44931\n",
      "Accounting Cost :  10190711667.51\n",
      "Total Cost :  10190756598.51\n",
      "\n",
      "Max Occupancy : 125 , Min Ocupancy : 300\n"
     ]
    }
   ],
   "source": [
    "eval(tmp_df2.day.values)"
   ]
  },
  {
   "cell_type": "code",
   "execution_count": null,
   "metadata": {},
   "outputs": [],
   "source": []
  }
 ],
 "metadata": {
  "kernelspec": {
   "display_name": "Python 3",
   "language": "python",
   "name": "python3"
  },
  "language_info": {
   "codemirror_mode": {
    "name": "ipython",
    "version": 3
   },
   "file_extension": ".py",
   "mimetype": "text/x-python",
   "name": "python",
   "nbconvert_exporter": "python",
   "pygments_lexer": "ipython3",
   "version": "3.6.7"
  },
  "toc": {
   "base_numbering": 1,
   "nav_menu": {},
   "number_sections": true,
   "sideBar": true,
   "skip_h1_title": false,
   "title_cell": "Table of Contents",
   "title_sidebar": "Contents",
   "toc_cell": false,
   "toc_position": {
    "height": "calc(100% - 180px)",
    "left": "10px",
    "top": "150px",
    "width": "320px"
   },
   "toc_section_display": true,
   "toc_window_display": true
  }
 },
 "nbformat": 4,
 "nbformat_minor": 4
}
