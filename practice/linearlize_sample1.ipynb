{
 "cells": [
  {
   "cell_type": "markdown",
   "metadata": {},
   "source": [
    "# Imports"
   ]
  },
  {
   "cell_type": "code",
   "execution_count": 1,
   "metadata": {
    "ExecuteTime": {
     "end_time": "2020-01-07T17:41:05.036093Z",
     "start_time": "2020-01-07T17:41:04.369186Z"
    }
   },
   "outputs": [],
   "source": [
    "import numpy as np\n",
    "import pandas as pd\n",
    "from ortools.linear_solver import pywraplp"
   ]
  },
  {
   "cell_type": "markdown",
   "metadata": {},
   "source": [
    "# Minimize Practice"
   ]
  },
  {
   "cell_type": "markdown",
   "metadata": {},
   "source": [
    "## Constraints"
   ]
  },
  {
   "cell_type": "markdown",
   "metadata": {},
   "source": [
    "$$\n",
    "\\begin{cases}\n",
    "    0 \\leq x \\leq 10 \\\\\n",
    "    0 \\leq y \\leq 10 \\\\\n",
    "    x + y \\le 8\n",
    "\\end{cases}\n",
    "$$"
   ]
  },
  {
   "cell_type": "code",
   "execution_count": 2,
   "metadata": {
    "ExecuteTime": {
     "end_time": "2020-01-07T18:10:33.232754Z",
     "start_time": "2020-01-07T18:10:33.229418Z"
    }
   },
   "outputs": [],
   "source": [
    "MAX_X = 10\n",
    "MAX_Y = 10\n",
    "INCEPTION = 8"
   ]
  },
  {
   "cell_type": "markdown",
   "metadata": {},
   "source": [
    "## Objective Function"
   ]
  },
  {
   "cell_type": "markdown",
   "metadata": {},
   "source": [
    "$$\n",
    "(x-3)^2 + (y-4)^2 \n",
    "$$"
   ]
  },
  {
   "cell_type": "code",
   "execution_count": 4,
   "metadata": {
    "ExecuteTime": {
     "end_time": "2020-01-07T18:19:59.431110Z",
     "start_time": "2020-01-07T18:19:59.426573Z"
    }
   },
   "outputs": [],
   "source": [
    "CENTER_X = 3\n",
    "CENTER_Y = 4"
   ]
  },
  {
   "cell_type": "code",
   "execution_count": 7,
   "metadata": {
    "ExecuteTime": {
     "end_time": "2020-01-07T18:24:07.584385Z",
     "start_time": "2020-01-07T18:24:07.578197Z"
    }
   },
   "outputs": [],
   "source": [
    "def partial_func(x, y):\n",
    "    return (x - 3)**2 + (y - 4)**2"
   ]
  },
  {
   "cell_type": "markdown",
   "metadata": {},
   "source": [
    "## Solver"
   ]
  },
  {
   "cell_type": "code",
   "execution_count": 13,
   "metadata": {
    "ExecuteTime": {
     "end_time": "2020-01-07T18:46:28.383212Z",
     "start_time": "2020-01-07T18:46:28.372154Z"
    }
   },
   "outputs": [],
   "source": [
    "def IP():\n",
    "    \n",
    "    S = pywraplp.Solver('SolveSampleProblem', pywraplp.Solver.CBC_MIXED_INTEGER_PROGRAMMING)\n",
    "        \n",
    "    params = {}\n",
    "    for x in range(MAX_X+1):\n",
    "        for y in range(MAX_Y+1):\n",
    "            params[x, y] = S.BoolVar('[x_%i, y_%i]' % (x, y))\n",
    "    \n",
    "    \n",
    "    \n",
    "    # Objective\n",
    "    objective = S.Sum([partial_func(x,y)*params[x,y] for x in range(MAX_X+1)\n",
    "                                                                                for y in range(MAX_Y+1)])\n",
    "    S.Minimize(objective)\n",
    "\n",
    "    \n",
    "\n",
    "    # Constraints\n",
    "    linear_const = S.Sum([params[x, y] for x in range(MAX_X+1)\n",
    "                                                           for y in range(MAX_Y+1)])\n",
    "    S.Add(linear_const == 1)\n",
    "\n",
    "        \n",
    "        \n",
    "    res = S.Solve()\n",
    "\n",
    "    resdict = {0:'OPTIMAL', 1:'FEASIBLE', 2:'INFEASIBLE', 3:'UNBOUNDED', \n",
    "               4:'ABNORMAL', 5:'MODEL_INVALID', 6:'NOT_SOLVED'}\n",
    "\n",
    "    print('IP solver result:', resdict[res])\n",
    "\n",
    "    \n",
    "    for x in range(MAX_X+1):\n",
    "        for y in range(MAX_Y+1):\n",
    "            if params[x, y].solution_value()==1:\n",
    "                optimal = (x, y)\n",
    "\n",
    "    return optimal"
   ]
  },
  {
   "cell_type": "markdown",
   "metadata": {},
   "source": [
    "## Solve"
   ]
  },
  {
   "cell_type": "code",
   "execution_count": 14,
   "metadata": {
    "ExecuteTime": {
     "end_time": "2020-01-07T18:46:31.059220Z",
     "start_time": "2020-01-07T18:46:31.046555Z"
    }
   },
   "outputs": [
    {
     "name": "stdout",
     "output_type": "stream",
     "text": [
      "IP solver result: OPTIMAL\n"
     ]
    }
   ],
   "source": [
    "optimal = IP()"
   ]
  },
  {
   "cell_type": "code",
   "execution_count": 15,
   "metadata": {
    "ExecuteTime": {
     "end_time": "2020-01-07T18:46:32.525551Z",
     "start_time": "2020-01-07T18:46:32.521834Z"
    }
   },
   "outputs": [
    {
     "data": {
      "text/plain": [
       "(3, 4)"
      ]
     },
     "execution_count": 15,
     "metadata": {},
     "output_type": "execute_result"
    }
   ],
   "source": [
    "optimal"
   ]
  }
 ],
 "metadata": {
  "kernelspec": {
   "display_name": "py37",
   "language": "python",
   "name": "py37"
  },
  "language_info": {
   "codemirror_mode": {
    "name": "ipython",
    "version": 3
   },
   "file_extension": ".py",
   "mimetype": "text/x-python",
   "name": "python",
   "nbconvert_exporter": "python",
   "pygments_lexer": "ipython3",
   "version": "3.7.3"
  },
  "toc": {
   "base_numbering": 1,
   "nav_menu": {},
   "number_sections": true,
   "sideBar": true,
   "skip_h1_title": false,
   "title_cell": "Table of Contents",
   "title_sidebar": "Contents",
   "toc_cell": false,
   "toc_position": {},
   "toc_section_display": true,
   "toc_window_display": true
  }
 },
 "nbformat": 4,
 "nbformat_minor": 2
}
