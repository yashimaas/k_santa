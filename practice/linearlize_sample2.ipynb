{
 "cells": [
  {
   "cell_type": "markdown",
   "metadata": {},
   "source": [
    "# Imports"
   ]
  },
  {
   "cell_type": "code",
   "execution_count": 3,
   "metadata": {
    "ExecuteTime": {
     "end_time": "2020-01-08T09:28:28.431445Z",
     "start_time": "2020-01-08T09:28:27.660993Z"
    }
   },
   "outputs": [],
   "source": [
    "import numpy as np\n",
    "import pandas as pd\n",
    "from ortools.linear_solver import pywraplp\n",
    "from numba import njit\n",
    "from itertools import product"
   ]
  },
  {
   "cell_type": "markdown",
   "metadata": {},
   "source": [
    "# Sample Data"
   ]
  },
  {
   "cell_type": "markdown",
   "metadata": {},
   "source": [
    "## Load Data"
   ]
  },
  {
   "cell_type": "code",
   "execution_count": 4,
   "metadata": {
    "ExecuteTime": {
     "end_time": "2020-01-08T09:28:31.062884Z",
     "start_time": "2020-01-08T09:28:31.048372Z"
    }
   },
   "outputs": [],
   "source": [
    "data_org = pd.read_csv('../data/family_data.csv', index_col='family_id')"
   ]
  },
  {
   "cell_type": "markdown",
   "metadata": {},
   "source": [
    "## Extractioin"
   ]
  },
  {
   "cell_type": "code",
   "execution_count": 5,
   "metadata": {
    "ExecuteTime": {
     "end_time": "2020-01-08T09:28:31.362775Z",
     "start_time": "2020-01-08T09:28:31.357047Z"
    }
   },
   "outputs": [],
   "source": [
    "data = data_org.iloc[0:50,:]"
   ]
  },
  {
   "cell_type": "code",
   "execution_count": 6,
   "metadata": {
    "ExecuteTime": {
     "end_time": "2020-01-08T09:28:31.530667Z",
     "start_time": "2020-01-08T09:28:31.523074Z"
    }
   },
   "outputs": [
    {
     "name": "stdout",
     "output_type": "stream",
     "text": [
      "MEAN OCCUPANCY :  3.98\n"
     ]
    }
   ],
   "source": [
    "mean_occupnacy = data.n_people.sum()/len(data)\n",
    "print('MEAN OCCUPANCY : ', mean_occupnacy)"
   ]
  },
  {
   "cell_type": "markdown",
   "metadata": {},
   "source": [
    "## Set"
   ]
  },
  {
   "cell_type": "code",
   "execution_count": 7,
   "metadata": {
    "ExecuteTime": {
     "end_time": "2020-01-08T09:28:31.869378Z",
     "start_time": "2020-01-08T09:28:31.861936Z"
    }
   },
   "outputs": [],
   "source": [
    "N_DAYS = 100\n",
    "N_FAMILIES = len(data)\n",
    "MAX_OCCUPANCY = 8\n",
    "MIN_OCCUPANCY = 0\n",
    "\n",
    "FAMILY_SIZE = data.n_people.values\n",
    "DESIRED     = data.values[:, :-1] - 1"
   ]
  },
  {
   "cell_type": "markdown",
   "metadata": {},
   "source": [
    "# Cost Function"
   ]
  },
  {
   "cell_type": "markdown",
   "metadata": {},
   "source": [
    "## Preference Cost"
   ]
  },
  {
   "cell_type": "markdown",
   "metadata": {},
   "source": [
    "### Preference Cost Function"
   ]
  },
  {
   "cell_type": "code",
   "execution_count": 8,
   "metadata": {
    "ExecuteTime": {
     "end_time": "2020-01-08T09:28:32.581567Z",
     "start_time": "2020-01-08T09:28:32.570037Z"
    }
   },
   "outputs": [],
   "source": [
    "def get_penalty(n, choice):\n",
    "    penalty = None\n",
    "    if choice == 0:\n",
    "        penalty = 0\n",
    "    elif choice == 1:\n",
    "        penalty = 50\n",
    "    elif choice == 2:\n",
    "        penalty = 50 + 9 * n\n",
    "    elif choice == 3:\n",
    "        penalty = 100 + 9 * n\n",
    "    elif choice == 4:\n",
    "        penalty = 200 + 9 * n\n",
    "    elif choice == 5:\n",
    "        penalty = 200 + 18 * n\n",
    "    elif choice == 6:\n",
    "        penalty = 300 + 18 * n\n",
    "    elif choice == 7:\n",
    "        penalty = 300 + 36 * n\n",
    "    elif choice == 8:\n",
    "        penalty = 400 + 36 * n\n",
    "    elif choice == 9:\n",
    "        penalty = 500 + 36 * n + 199 * n\n",
    "    else:\n",
    "        penalty = 500 + 36 * n + 398 * n\n",
    "    return penalty"
   ]
  },
  {
   "cell_type": "code",
   "execution_count": 9,
   "metadata": {
    "ExecuteTime": {
     "end_time": "2020-01-08T09:28:32.751219Z",
     "start_time": "2020-01-08T09:28:32.743040Z"
    }
   },
   "outputs": [],
   "source": [
    "def GetPreferenceCostMatrix(data):\n",
    "    cost_matrix = np.zeros((N_FAMILIES, N_DAYS), dtype=np.int64)\n",
    "    for i in range(N_FAMILIES):\n",
    "        desired = data.values[i, :-1]\n",
    "        cost_matrix[i, :] = get_penalty(FAMILY_SIZE[i], 10)\n",
    "        for j, day in enumerate(desired):\n",
    "            cost_matrix[i, day-1] = get_penalty(FAMILY_SIZE[i], j)\n",
    "    return cost_matrix"
   ]
  },
  {
   "cell_type": "markdown",
   "metadata": {},
   "source": [
    "### Make Matrix"
   ]
  },
  {
   "cell_type": "code",
   "execution_count": 10,
   "metadata": {
    "ExecuteTime": {
     "end_time": "2020-01-08T09:28:33.108975Z",
     "start_time": "2020-01-08T09:28:33.101393Z"
    }
   },
   "outputs": [],
   "source": [
    "PCOSTM = GetPreferenceCostMatrix(data)"
   ]
  },
  {
   "cell_type": "code",
   "execution_count": 11,
   "metadata": {
    "ExecuteTime": {
     "end_time": "2020-01-08T09:28:33.292326Z",
     "start_time": "2020-01-08T09:28:33.276838Z"
    }
   },
   "outputs": [
    {
     "name": "stdout",
     "output_type": "stream",
     "text": [
      "(50, 100)\n"
     ]
    },
    {
     "data": {
      "text/plain": [
       "array([2236, 2236, 2236, 2236, 2236, 2236, 2236, 2236, 2236,  544, 2236,\n",
       "         86, 2236, 2236, 2236, 2236, 2236, 2236, 2236, 2236, 2236, 2236,\n",
       "       2236, 2236, 2236, 2236, 2236, 1440, 2236, 2236, 2236, 2236,  236,\n",
       "       2236, 2236, 2236, 2236,   50, 2236, 2236, 2236, 2236, 2236, 2236,\n",
       "       2236, 2236, 2236, 2236, 2236, 2236, 2236,    0, 2236, 2236, 2236,\n",
       "       2236, 2236, 2236, 2236, 2236, 2236, 2236, 2236,  372, 2236, 2236,\n",
       "       2236, 2236, 2236, 2236, 2236, 2236, 2236, 2236,  272,  444, 2236,\n",
       "       2236, 2236, 2236, 2236,  136, 2236, 2236, 2236, 2236, 2236, 2236,\n",
       "       2236, 2236, 2236, 2236, 2236, 2236, 2236, 2236, 2236, 2236, 2236,\n",
       "       2236])"
      ]
     },
     "execution_count": 11,
     "metadata": {},
     "output_type": "execute_result"
    }
   ],
   "source": [
    "print(PCOSTM.shape)\n",
    "PCOSTM[0]"
   ]
  },
  {
   "cell_type": "markdown",
   "metadata": {},
   "source": [
    "### Calculate Preference Cost"
   ]
  },
  {
   "cell_type": "code",
   "execution_count": 12,
   "metadata": {
    "ExecuteTime": {
     "end_time": "2020-01-08T09:28:33.606876Z",
     "start_time": "2020-01-08T09:28:33.601226Z"
    }
   },
   "outputs": [],
   "source": [
    "@njit(fastmath=True)\n",
    "def pcost(prediction):\n",
    "    daily_occupancy = np.zeros(N_DAYS+1, dtype=np.int64)\n",
    "    penalty = 0\n",
    "    for (i, p) in enumerate(prediction):\n",
    "        n = FAMILY_SIZE[i]\n",
    "        penalty += PCOSTM[i, p]\n",
    "        daily_occupancy[p] += n\n",
    "    return penalty, daily_occupancy"
   ]
  },
  {
   "cell_type": "markdown",
   "metadata": {},
   "source": [
    "## Accounting Cost"
   ]
  },
  {
   "cell_type": "code",
   "execution_count": 13,
   "metadata": {
    "ExecuteTime": {
     "end_time": "2020-01-08T09:28:33.969570Z",
     "start_time": "2020-01-08T09:28:33.961279Z"
    }
   },
   "outputs": [],
   "source": [
    "def GetAccountingCostMatrix():\n",
    "    ac = np.zeros((20, 20), dtype=np.float64)\n",
    "    for n in range(ac.shape[0]):\n",
    "        for n_p1 in range(ac.shape[1]):\n",
    "            diff = abs(n - n_p1)\n",
    "#             ac[n, n_p1] = max(0, (n - 125) / 400 * n**(0.5 + diff / 50.0))\n",
    "            ac[n, n_p1] = max(0, (n - 2) / 8 * n**(0.5 + diff))\n",
    "    return ac"
   ]
  },
  {
   "cell_type": "markdown",
   "metadata": {},
   "source": [
    "### Make Matirx"
   ]
  },
  {
   "cell_type": "code",
   "execution_count": 14,
   "metadata": {
    "ExecuteTime": {
     "end_time": "2020-01-08T09:28:34.323196Z",
     "start_time": "2020-01-08T09:28:34.318285Z"
    }
   },
   "outputs": [],
   "source": [
    "ACOSTM = GetAccountingCostMatrix() "
   ]
  },
  {
   "cell_type": "code",
   "execution_count": 15,
   "metadata": {
    "ExecuteTime": {
     "end_time": "2020-01-08T09:28:34.521580Z",
     "start_time": "2020-01-08T09:28:34.509146Z"
    },
    "scrolled": true
   },
   "outputs": [
    {
     "name": "stdout",
     "output_type": "stream",
     "text": [
      "(20, 20)\n"
     ]
    },
    {
     "data": {
      "text/plain": [
       "array([3.55898496e+07, 4.44873120e+06, 5.56091400e+05, 6.95114250e+04,\n",
       "       8.68892813e+03, 1.08611602e+03, 1.35764502e+02, 1.69705627e+01,\n",
       "       2.12132034e+00, 1.69705627e+01, 1.35764502e+02, 1.08611602e+03,\n",
       "       8.68892813e+03, 6.95114250e+04, 5.56091400e+05, 4.44873120e+06,\n",
       "       3.55898496e+07, 2.84718797e+08, 2.27775037e+09, 1.82220030e+10])"
      ]
     },
     "execution_count": 15,
     "metadata": {},
     "output_type": "execute_result"
    }
   ],
   "source": [
    "print(ACOSTM.shape)\n",
    "ACOSTM[8]"
   ]
  },
  {
   "cell_type": "markdown",
   "metadata": {},
   "source": [
    "### Accounting Cost"
   ]
  },
  {
   "cell_type": "code",
   "execution_count": 16,
   "metadata": {
    "ExecuteTime": {
     "end_time": "2020-01-08T09:28:35.308836Z",
     "start_time": "2020-01-08T09:28:35.298730Z"
    }
   },
   "outputs": [],
   "source": [
    "@njit(fastmath=True)\n",
    "def acost(daily_occupancy):\n",
    "    accounting_cost = 0\n",
    "    n_out_of_range = 0\n",
    "    daily_occupancy[-1] = daily_occupancy[-2]\n",
    "    for day in range(N_DAYS):\n",
    "        n_p1 = daily_occupancy[day + 1]\n",
    "        n    = daily_occupancy[day]\n",
    "        n_out_of_range += (n > MAX_OCCUPANCY) or (n < MIN_OCCUPANCY)\n",
    "        accounting_cost += ACOSTM[n, n_p1]\n",
    "    return accounting_cost, n_out_of_range"
   ]
  },
  {
   "cell_type": "markdown",
   "metadata": {},
   "source": [
    "## Total Cost"
   ]
  },
  {
   "cell_type": "code",
   "execution_count": 17,
   "metadata": {
    "ExecuteTime": {
     "end_time": "2020-01-08T09:28:35.691375Z",
     "start_time": "2020-01-08T09:28:35.682024Z"
    }
   },
   "outputs": [],
   "source": [
    "@njit(fastmath=True)\n",
    "def cost_function(prediction):\n",
    "    penalty, daily_occupancy = pcost(prediction)\n",
    "    accounting_cost, n_out_of_range = acost(daily_occupancy)\n",
    "    return penalty + accounting_cost + n_out_of_range*100000000"
   ]
  },
  {
   "cell_type": "markdown",
   "metadata": {},
   "source": [
    "## Evaluation Method"
   ]
  },
  {
   "cell_type": "code",
   "execution_count": 18,
   "metadata": {
    "ExecuteTime": {
     "end_time": "2020-01-08T09:28:36.475497Z",
     "start_time": "2020-01-08T09:28:36.464563Z"
    }
   },
   "outputs": [],
   "source": [
    "def eval(prediction):\n",
    "    pc, occ = pcost(prediction)\n",
    "    ac, _ = acost(occ)\n",
    "    print('Preferenced Cost : ', pc)\n",
    "    print('Accounting Cost : {: .2f}'.format(ac))\n",
    "    print('Total Cost : {: .2f}'.format(pc+ac))\n",
    "    print('')\n",
    "    print('Max Occupancy : {} , Min Ocupancy : {}'.format(occ.max(), occ.min()))"
   ]
  },
  {
   "cell_type": "markdown",
   "metadata": {},
   "source": [
    "# Minimize Practice"
   ]
  },
  {
   "cell_type": "markdown",
   "metadata": {},
   "source": [
    "## Solver"
   ]
  },
  {
   "cell_type": "code",
   "execution_count": 19,
   "metadata": {
    "ExecuteTime": {
     "end_time": "2020-01-08T09:28:38.273699Z",
     "start_time": "2020-01-08T09:28:38.244642Z"
    }
   },
   "outputs": [],
   "source": [
    "def IP():\n",
    "    \n",
    "    S = pywraplp.Solver('SolveAssignmentProblem', pywraplp.Solver.CBC_MIXED_INTEGER_PROGRAMMING)\n",
    "#     S = pywraplp.Solver('SolveAssignmentProblem', pywraplp.Solver.GLOP_LINEAR_PROGRAMMING)    \n",
    "    GAP = MAX_OCCUPANCY-MIN_OCCUPANCY + 1\n",
    "    \n",
    "    candidates = [[] for _ in range(N_DAYS)] \n",
    "    \n",
    "    x = {}\n",
    "    for i in range(N_FAMILIES):\n",
    "        for j in DESIRED[i, :]:\n",
    "            candidates[j].append(i)\n",
    "            x[i, j] = S.BoolVar('x[%i,%i]' % (i, j))\n",
    "    \n",
    "    N = {}\n",
    "    for day in range(N_DAYS):\n",
    "        for i in range(GAP):\n",
    "            for j in range(GAP):\n",
    "                N[day, i+MIN_OCCUPANCY, j+MIN_OCCUPANCY] = S.BoolVar('N[%i,%i,%i]' % (day, i+MIN_OCCUPANCY, j+MIN_OCCUPANCY))\n",
    "            \n",
    "\n",
    "    family_presence = [S.Sum([x[i, j] for j in DESIRED[i, :]])\n",
    "                                                        for i in range(N_FAMILIES)]\n",
    "    \n",
    "    linear_constraint = [S.Sum(N[day, i+MIN_OCCUPANCY, j+MIN_OCCUPANCY] for i in range(GAP)\n",
    "                                                                                                                               for j in range(GAP)) \n",
    "                                                                                                                               for day in range(N_DAYS) ]\n",
    "    \n",
    "    daily_occupancy_x = [S.Sum([x[i, j] * FAMILY_SIZE[i] for i in candidates[j]])\n",
    "                                                                                      for j in range(N_DAYS)]\n",
    "    \n",
    "#     daily_occupancy_n = [S.Sum( [(i + MIN_OCCUPANCY)* N[day, i+MIN_OCCUPANCY, j+MIN_OCCUPANCY] for i in range(GAP)\n",
    "#                                                                                                                                                                            for j in range(GAP)] )\n",
    "#                                                                                                                                                                            for day in range(N_DAYS)]\n",
    "    \n",
    " \n",
    "        \n",
    "    # Objective    \n",
    "    partial_costs = [PCOSTM[i, j] * x[i,j] for i in range(N_FAMILIES) for j in DESIRED[i, :] ]\n",
    "    preference_cost = S.Sum(partial_costs)\n",
    "    \n",
    "    penalties = []\n",
    "    for day in range(N_DAYS):\n",
    "        for i in range(GAP):\n",
    "            for j in range(GAP):\n",
    "                daily_occupancy = i + MIN_OCCUPANCY\n",
    "                p_occupancy = j + MIN_OCCUPANCY\n",
    "                penalties.append((daily_occupancy - 2)/8 * daily_occupancy**(1/2+abs(daily_occupancy - p_occupancy)) * N[day, daily_occupancy, p_occupancy])\n",
    "        \n",
    "    accounting_penalty = S.Sum(penalties)\n",
    "    \n",
    "    total_cost = S.Sum([preference_cost,accounting_penalty])\n",
    "#     total_cost = preference_cost + accounting_penalty\n",
    "\n",
    "#     S.Minimize(total_cost)\n",
    "    S.Minimize(accounting_penalty)\n",
    "#     S.Minimize(preference_cost)\n",
    "\n",
    "\n",
    "# \n",
    "    # Constraints\n",
    "    for day in range(N_DAYS):\n",
    "        S.Add(linear_constraint[day] == 1)\n",
    "        S.Add(\n",
    "#         daily_occupancy_x[day] - daily_occupancy_n[day] == 0\n",
    "            S.Sum([N[day, i+MIN_OCCUPANCY, j+MIN_OCCUPANCY]*(i+MIN_OCCUPANCY) for i in range(GAP) for j in range(GAP)]) \n",
    "                == daily_occupancy_x[day]\n",
    "        )       \n",
    "\n",
    "    for day in range(N_DAYS-1):\n",
    "        S.Add(\n",
    "            S.Sum([N[day, i+MIN_OCCUPANCY, j+MIN_OCCUPANCY]*(j+MIN_OCCUPANCY) for i in range(GAP) for j in range(GAP)]) \n",
    "                == daily_occupancy_x[day+1]\n",
    "        ) \n",
    "        \n",
    "#         S.Add(daily_occupancy_n[day] == 0)\n",
    "        \n",
    "    for i in range(N_FAMILIES):\n",
    "        S.Add(family_presence[i] == 1)\n",
    "            \n",
    "        \n",
    "\n",
    "    S.EnableOutput() \n",
    "    S.SetNumThreads(2)\n",
    "    res = S.Solve()\n",
    "\n",
    "    resdict = {0:'OPTIMAL', 1:'FEASIBLE', 2:'INFEASIBLE', 3:'UNBOUNDED', \n",
    "               4:'ABNORMAL', 5:'MODEL_INVALID', 6:'NOT_SOLVED'}\n",
    "\n",
    "    print('LP solver result:', resdict[res])\n",
    "\n",
    "\n",
    "    l = [(i, j, x[i, j].solution_value()) for i in range(N_FAMILIES)\n",
    "                                                      for j in DESIRED[i, :] \n",
    "                                                      if x[i, j].solution_value()>0]\n",
    "    \n",
    "\n",
    "    df = pd.DataFrame(l, columns=['family_id', 'day', 'n'])\n",
    "    return df"
   ]
  },
  {
   "cell_type": "markdown",
   "metadata": {},
   "source": [
    "## Solve"
   ]
  },
  {
   "cell_type": "code",
   "execution_count": null,
   "metadata": {
    "ExecuteTime": {
     "start_time": "2020-01-08T09:28:39.387Z"
    }
   },
   "outputs": [],
   "source": [
    "df_tmp = IP()"
   ]
  },
  {
   "cell_type": "markdown",
   "metadata": {
    "ExecuteTime": {
     "end_time": "2020-01-08T03:56:59.086181Z",
     "start_time": "2020-01-08T03:56:59.081274Z"
    }
   },
   "source": [
    "## Check"
   ]
  },
  {
   "cell_type": "code",
   "execution_count": null,
   "metadata": {
    "ExecuteTime": {
     "start_time": "2020-01-08T09:26:05.839Z"
    }
   },
   "outputs": [],
   "source": [
    "df_tmp.shape"
   ]
  },
  {
   "cell_type": "code",
   "execution_count": null,
   "metadata": {
    "ExecuteTime": {
     "start_time": "2020-01-08T09:26:05.845Z"
    }
   },
   "outputs": [],
   "source": [
    "eval(df_tmp.day.values)"
   ]
  },
  {
   "cell_type": "code",
   "execution_count": null,
   "metadata": {
    "ExecuteTime": {
     "start_time": "2020-01-08T09:26:05.849Z"
    }
   },
   "outputs": [],
   "source": [
    "pc, occ = pcost(df_tmp.day.values)\n",
    "occ"
   ]
  },
  {
   "cell_type": "code",
   "execution_count": null,
   "metadata": {},
   "outputs": [],
   "source": []
  }
 ],
 "metadata": {
  "kernelspec": {
   "display_name": "py37",
   "language": "python",
   "name": "py37"
  },
  "language_info": {
   "codemirror_mode": {
    "name": "ipython",
    "version": 3
   },
   "file_extension": ".py",
   "mimetype": "text/x-python",
   "name": "python",
   "nbconvert_exporter": "python",
   "pygments_lexer": "ipython3",
   "version": "3.7.3"
  },
  "toc": {
   "base_numbering": 1,
   "nav_menu": {},
   "number_sections": true,
   "sideBar": true,
   "skip_h1_title": false,
   "title_cell": "Table of Contents",
   "title_sidebar": "Contents",
   "toc_cell": false,
   "toc_position": {
    "height": "calc(100% - 180px)",
    "left": "10px",
    "top": "150px",
    "width": "320px"
   },
   "toc_section_display": true,
   "toc_window_display": false
  }
 },
 "nbformat": 4,
 "nbformat_minor": 2
}
