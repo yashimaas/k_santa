{
 "cells": [
  {
   "cell_type": "markdown",
   "metadata": {},
   "source": [
    "# Imports"
   ]
  },
  {
   "cell_type": "code",
   "execution_count": 1,
   "metadata": {
    "ExecuteTime": {
     "end_time": "2020-01-10T09:15:17.630128Z",
     "start_time": "2020-01-10T09:15:16.931656Z"
    }
   },
   "outputs": [],
   "source": [
    "import numpy as np\n",
    "import pandas as pd\n",
    "from numba import njit\n",
    "from itertools import product\n",
    "from ortools.linear_solver import pywraplp\n",
    "from multiprocessing import Process"
   ]
  },
  {
   "cell_type": "markdown",
   "metadata": {},
   "source": [
    "# csv2mst"
   ]
  },
  {
   "cell_type": "code",
   "execution_count": 2,
   "metadata": {
    "ExecuteTime": {
     "end_time": "2020-01-10T09:15:17.646268Z",
     "start_time": "2020-01-10T09:15:17.632017Z"
    }
   },
   "outputs": [],
   "source": [
    "data = pd.read_csv('../data/family_data.csv')\n",
    "n_neople = data.n_people\n",
    "data = data.drop(['family_id', 'n_people'], axis=1)"
   ]
  },
  {
   "cell_type": "code",
   "execution_count": 3,
   "metadata": {
    "ExecuteTime": {
     "end_time": "2020-01-10T09:15:17.652712Z",
     "start_time": "2020-01-10T09:15:17.648081Z"
    }
   },
   "outputs": [],
   "source": [
    "N_DAYS = 100\n",
    "N_FAMILIES = 5000\n",
    "MAX_OCCUPANCY = 300\n",
    "MIN_OCCUPANCY = 125\n",
    "\n",
    "FAMILY_SIZE = n_neople.values\n",
    "DESIRED     = data.values[:, :-1] - 1"
   ]
  },
  {
   "cell_type": "code",
   "execution_count": 4,
   "metadata": {
    "ExecuteTime": {
     "end_time": "2020-01-10T09:15:17.660600Z",
     "start_time": "2020-01-10T09:15:17.654752Z"
    }
   },
   "outputs": [],
   "source": [
    "kernel_csv = pd.read_csv('../submissions/best.csv')"
   ]
  },
  {
   "cell_type": "code",
   "execution_count": 5,
   "metadata": {
    "ExecuteTime": {
     "end_time": "2020-01-10T09:15:17.672374Z",
     "start_time": "2020-01-10T09:15:17.662285Z"
    }
   },
   "outputs": [
    {
     "data": {
      "text/plain": [
       "(100, 1)"
      ]
     },
     "execution_count": 5,
     "metadata": {},
     "output_type": "execute_result"
    }
   ],
   "source": [
    "kernel_csv.assigned_day.max(), kernel_csv.assigned_day.min()"
   ]
  },
  {
   "cell_type": "code",
   "execution_count": 6,
   "metadata": {
    "ExecuteTime": {
     "end_time": "2020-01-10T09:16:55.335237Z",
     "start_time": "2020-01-10T09:16:55.326747Z"
    }
   },
   "outputs": [
    {
     "data": {
      "text/plain": [
       "(4999, 0)"
      ]
     },
     "execution_count": 6,
     "metadata": {},
     "output_type": "execute_result"
    }
   ],
   "source": [
    "kernel_csv.family_id.max(), kernel_csv.family_id.min()"
   ]
  },
  {
   "cell_type": "code",
   "execution_count": 7,
   "metadata": {
    "ExecuteTime": {
     "end_time": "2020-01-10T09:15:17.875594Z",
     "start_time": "2020-01-10T09:15:17.675144Z"
    }
   },
   "outputs": [],
   "source": [
    "kernel_occs = []\n",
    "for day in range(1,N_DAYS+1):\n",
    "    tmp_id = kernel_csv[kernel_csv.assigned_day==day].family_id\n",
    "    kernel_occs.append(n_neople[tmp_id].sum())"
   ]
  },
  {
   "cell_type": "code",
   "execution_count": 8,
   "metadata": {
    "ExecuteTime": {
     "end_time": "2020-01-10T09:15:17.882961Z",
     "start_time": "2020-01-10T09:15:17.877530Z"
    }
   },
   "outputs": [
    {
     "data": {
      "text/plain": [
       "(219, 188)"
      ]
     },
     "execution_count": 8,
     "metadata": {},
     "output_type": "execute_result"
    }
   ],
   "source": [
    "kernel_occs[47], kernel_occs[48]"
   ]
  },
  {
   "cell_type": "code",
   "execution_count": 11,
   "metadata": {
    "ExecuteTime": {
     "end_time": "2020-01-10T09:25:24.625912Z",
     "start_time": "2020-01-10T09:25:13.814394Z"
    }
   },
   "outputs": [],
   "source": [
    "f = open('../practice/kernel_init.mst', 'w')\n",
    "f.write('# MIP start\\n')\n",
    "\n",
    "for index in range(N_FAMILIES):\n",
    "    choice_days = data.iloc[index, :]\n",
    "    for choice in choice_days:\n",
    "        f.write('x[%i,%i] ' %(index, choice-1))\n",
    "        if kernel_csv.iloc[index, :][1] == choice:\n",
    "            f.write('1\\n')\n",
    "        else:\n",
    "            f.write('0\\n')\n",
    "        \n",
    "for day in range(N_DAYS):\n",
    "    for occ_now in range(MIN_OCCUPANCY,MAX_OCCUPANCY+1):\n",
    "        for occ_past in range(MIN_OCCUPANCY,MAX_OCCUPANCY+1):\n",
    "            f.write('N[%i,%i,%i] ' %(day, occ_now, occ_past))\n",
    "            if day == N_DAYS-1:\n",
    "                if (occ_now==kernel_occs[day]) and (occ_now==occ_past):\n",
    "                    f.write('1\\n')\n",
    "                else:\n",
    "                    f.write('0\\n')\n",
    "            elif (occ_now==kernel_occs[day]) and (occ_past==kernel_occs[day+1]):\n",
    "                f.write('1\\n')\n",
    "            else:\n",
    "                f.write('0\\n')\n",
    "            \n",
    "f.close()"
   ]
  },
  {
   "cell_type": "code",
   "execution_count": null,
   "metadata": {},
   "outputs": [],
   "source": []
  }
 ],
 "metadata": {
  "kernelspec": {
   "display_name": "Python 3",
   "language": "python",
   "name": "python3"
  },
  "language_info": {
   "codemirror_mode": {
    "name": "ipython",
    "version": 3
   },
   "file_extension": ".py",
   "mimetype": "text/x-python",
   "name": "python",
   "nbconvert_exporter": "python",
   "pygments_lexer": "ipython3",
   "version": "3.6.7"
  },
  "toc": {
   "base_numbering": 1,
   "nav_menu": {},
   "number_sections": true,
   "sideBar": true,
   "skip_h1_title": false,
   "title_cell": "Table of Contents",
   "title_sidebar": "Contents",
   "toc_cell": false,
   "toc_position": {
    "height": "calc(100% - 180px)",
    "left": "10px",
    "top": "150px",
    "width": "320px"
   },
   "toc_section_display": true,
   "toc_window_display": false
  }
 },
 "nbformat": 4,
 "nbformat_minor": 4
}
