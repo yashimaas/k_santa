{
 "cells": [
  {
   "cell_type": "markdown",
   "metadata": {},
   "source": [
    "# Imports"
   ]
  },
  {
   "cell_type": "code",
   "execution_count": 1,
   "metadata": {
    "ExecuteTime": {
     "end_time": "2020-01-10T07:58:34.100276Z",
     "start_time": "2020-01-10T07:58:33.155611Z"
    }
   },
   "outputs": [],
   "source": [
    "import numpy as np\n",
    "import pandas as pd\n",
    "from numba import njit\n",
    "from itertools import product\n",
    "from ortools.linear_solver import pywraplp\n",
    "from multiprocessing import Process"
   ]
  },
  {
   "cell_type": "markdown",
   "metadata": {},
   "source": [
    "# cvs2mst"
   ]
  },
  {
   "cell_type": "code",
   "execution_count": 108,
   "metadata": {
    "ExecuteTime": {
     "end_time": "2020-01-10T08:36:01.110360Z",
     "start_time": "2020-01-10T08:36:01.090723Z"
    }
   },
   "outputs": [],
   "source": [
    "data = pd.read_csv('../data/family_data.csv')\n",
    "n_neople = data.n_people\n",
    "data = data.drop(['family_id', 'n_people'], axis=1)"
   ]
  },
  {
   "cell_type": "code",
   "execution_count": 109,
   "metadata": {
    "ExecuteTime": {
     "end_time": "2020-01-10T08:36:06.875252Z",
     "start_time": "2020-01-10T08:36:06.867789Z"
    }
   },
   "outputs": [],
   "source": [
    "N_DAYS = 100\n",
    "N_FAMILIES = 5000\n",
    "MAX_OCCUPANCY = 300\n",
    "MIN_OCCUPANCY = 125\n",
    "\n",
    "FAMILY_SIZE = n_neople.values\n",
    "DESIRED     = data.values[:, :-1] - 1"
   ]
  },
  {
   "cell_type": "code",
   "execution_count": 112,
   "metadata": {
    "ExecuteTime": {
     "end_time": "2020-01-10T08:39:58.993018Z",
     "start_time": "2020-01-10T08:39:58.984447Z"
    }
   },
   "outputs": [],
   "source": [
    "kernel_csv = pd.read_csv('../submissions/best.csv')"
   ]
  },
  {
   "cell_type": "code",
   "execution_count": 138,
   "metadata": {
    "ExecuteTime": {
     "end_time": "2020-01-10T08:50:26.678197Z",
     "start_time": "2020-01-10T08:50:26.672340Z"
    }
   },
   "outputs": [
    {
     "data": {
      "text/plain": [
       "(100, 1)"
      ]
     },
     "execution_count": 138,
     "metadata": {},
     "output_type": "execute_result"
    }
   ],
   "source": [
    "kernel_csv.assigned_day.max(), kernel_csv.assigned_day.min()"
   ]
  },
  {
   "cell_type": "code",
   "execution_count": 147,
   "metadata": {
    "ExecuteTime": {
     "end_time": "2020-01-10T09:00:38.913612Z",
     "start_time": "2020-01-10T09:00:38.752420Z"
    }
   },
   "outputs": [],
   "source": [
    "kernel_occs = []\n",
    "for day in range(1,N_DAYS+1):\n",
    "    tmp_id = kernel_csv[kernel_csv.assigned_day==day].family_id\n",
    "    kernel_occs.append(n_neople[tmp_id].sum())"
   ]
  },
  {
   "cell_type": "code",
   "execution_count": 159,
   "metadata": {
    "ExecuteTime": {
     "end_time": "2020-01-10T09:08:18.042393Z",
     "start_time": "2020-01-10T09:08:18.031994Z"
    }
   },
   "outputs": [
    {
     "data": {
      "text/plain": [
       "(219, 188)"
      ]
     },
     "execution_count": 159,
     "metadata": {},
     "output_type": "execute_result"
    }
   ],
   "source": [
    "kernel_occs[47], kernel_occs[48]"
   ]
  },
  {
   "cell_type": "code",
   "execution_count": 160,
   "metadata": {
    "ExecuteTime": {
     "end_time": "2020-01-10T09:09:55.877715Z",
     "start_time": "2020-01-10T09:09:45.252578Z"
    }
   },
   "outputs": [],
   "source": [
    "f = open('../practice/kernel_init.mst', 'w')\n",
    "f.write('# MIP start\\n')\n",
    "\n",
    "for index in range(N_FAMILIES):\n",
    "    choice_days = data.iloc[index, :]\n",
    "    for choice in choice_days:\n",
    "        f.write('x[%i,%i] ' %(index, choice))\n",
    "        if kernel_csv.iloc[index, :][1] == choice:\n",
    "            f.write('1\\n')\n",
    "        else:\n",
    "            f.write('0\\n')\n",
    "        \n",
    "for day in range(N_DAYS):\n",
    "    for occ_now in range(MIN_OCCUPANCY,MAX_OCCUPANCY+1):\n",
    "        for occ_past in range(MIN_OCCUPANCY,MAX_OCCUPANCY+1):\n",
    "            f.write('N[%i,%i,%i] ' %(day, occ_now, occ_past))\n",
    "            if day == N_DAYS-1:\n",
    "                f.write('0\\n')\n",
    "            elif (occ_now==kernel_occs[day]) and (occ_past==kernel_occs[day+1]):\n",
    "                f.write('1\\n')\n",
    "            else:\n",
    "                f.write('0\\n')\n",
    "            \n",
    "f.close()"
   ]
  }
 ],
 "metadata": {
  "kernelspec": {
   "display_name": "Python 3",
   "language": "python",
   "name": "python3"
  },
  "language_info": {
   "codemirror_mode": {
    "name": "ipython",
    "version": 3
   },
   "file_extension": ".py",
   "mimetype": "text/x-python",
   "name": "python",
   "nbconvert_exporter": "python",
   "pygments_lexer": "ipython3",
   "version": "3.7.3"
  },
  "toc": {
   "base_numbering": 1,
   "nav_menu": {},
   "number_sections": true,
   "sideBar": true,
   "skip_h1_title": false,
   "title_cell": "Table of Contents",
   "title_sidebar": "Contents",
   "toc_cell": false,
   "toc_position": {
    "height": "calc(100% - 180px)",
    "left": "10px",
    "top": "150px",
    "width": "320px"
   },
   "toc_section_display": true,
   "toc_window_display": false
  }
 },
 "nbformat": 4,
 "nbformat_minor": 4
}
