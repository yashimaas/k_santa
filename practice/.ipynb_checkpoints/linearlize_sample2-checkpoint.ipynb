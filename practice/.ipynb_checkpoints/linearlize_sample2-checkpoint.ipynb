{
 "cells": [
  {
   "cell_type": "markdown",
   "metadata": {},
   "source": [
    "# Imports"
   ]
  },
  {
   "cell_type": "code",
   "execution_count": 218,
   "metadata": {
    "ExecuteTime": {
     "end_time": "2020-01-12T07:06:54.207919Z",
     "start_time": "2020-01-12T07:06:54.199392Z"
    }
   },
   "outputs": [],
   "source": [
    "from __future__ import print_function\n",
    "import numpy as np\n",
    "import pandas as pd\n",
    "from ortools.linear_solver import pywraplp\n",
    "from numba import njit\n",
    "from itertools import product"
   ]
  },
  {
   "cell_type": "markdown",
   "metadata": {},
   "source": [
    "# Sample Data"
   ]
  },
  {
   "cell_type": "markdown",
   "metadata": {},
   "source": [
    "## Load Data"
   ]
  },
  {
   "cell_type": "code",
   "execution_count": 219,
   "metadata": {
    "ExecuteTime": {
     "end_time": "2020-01-12T07:06:54.712597Z",
     "start_time": "2020-01-12T07:06:54.696421Z"
    }
   },
   "outputs": [],
   "source": [
    "data_org = pd.read_csv('../data/family_data.csv', index_col='family_id')"
   ]
  },
  {
   "cell_type": "markdown",
   "metadata": {},
   "source": [
    "## Extractioin"
   ]
  },
  {
   "cell_type": "code",
   "execution_count": 220,
   "metadata": {
    "ExecuteTime": {
     "end_time": "2020-01-12T07:06:55.039405Z",
     "start_time": "2020-01-12T07:06:55.032556Z"
    }
   },
   "outputs": [],
   "source": [
    "data = data_org.iloc[0:500,:]"
   ]
  },
  {
   "cell_type": "code",
   "execution_count": 221,
   "metadata": {
    "ExecuteTime": {
     "end_time": "2020-01-12T07:06:55.191282Z",
     "start_time": "2020-01-12T07:06:55.182159Z"
    }
   },
   "outputs": [
    {
     "name": "stdout",
     "output_type": "stream",
     "text": [
      "MEAN OCCUPANCY :  4.136\n"
     ]
    }
   ],
   "source": [
    "mean_occupnacy = data.n_people.sum()/len(data)\n",
    "print('MEAN OCCUPANCY : ', mean_occupnacy)"
   ]
  },
  {
   "cell_type": "code",
   "execution_count": 222,
   "metadata": {
    "ExecuteTime": {
     "end_time": "2020-01-12T07:06:55.331235Z",
     "start_time": "2020-01-12T07:06:55.325334Z"
    }
   },
   "outputs": [
    {
     "data": {
      "text/plain": [
       "(500, 11)"
      ]
     },
     "execution_count": 222,
     "metadata": {},
     "output_type": "execute_result"
    }
   ],
   "source": [
    "data.shape"
   ]
  },
  {
   "cell_type": "markdown",
   "metadata": {},
   "source": [
    "## Set"
   ]
  },
  {
   "cell_type": "code",
   "execution_count": 223,
   "metadata": {
    "ExecuteTime": {
     "end_time": "2020-01-12T07:06:55.892434Z",
     "start_time": "2020-01-12T07:06:55.886995Z"
    }
   },
   "outputs": [],
   "source": [
    "N_DAYS = 100\n",
    "N_FAMILIES = len(data)\n",
    "MAX_OCCUPANCY = 300\n",
    "MIN_OCCUPANCY = 125\n",
    "\n",
    "FAMILY_SIZE = data.n_people.values\n",
    "DESIRED     = data.values[:, :-1] - 1"
   ]
  },
  {
   "cell_type": "code",
   "execution_count": 238,
   "metadata": {
    "ExecuteTime": {
     "end_time": "2020-01-12T07:09:09.401427Z",
     "start_time": "2020-01-12T07:09:09.391459Z"
    }
   },
   "outputs": [],
   "source": [
    "GAP = range(MIN_OCCUPANCY,MAX_OCCUPANCY+1)\n",
    "GAP_P = {}\n",
    "_C_GAP =20\n",
    "for i in GAP:\n",
    "    if i <= MIN_OCCUPANCY + 1:\n",
    "        GAP_P[i]= range(MIN_OCCUPANCY,MAX_OCCUPANCY+1)\n",
    "    else:\n",
    "        GAP_P[i]= (range(max(i-(_C_GAP),MIN_OCCUPANCY),min(i+(_C_GAP),MAX_OCCUPANCY+1)))"
   ]
  },
  {
   "cell_type": "markdown",
   "metadata": {},
   "source": [
    "# Cost Function"
   ]
  },
  {
   "cell_type": "markdown",
   "metadata": {},
   "source": [
    "## Preference Cost"
   ]
  },
  {
   "cell_type": "markdown",
   "metadata": {},
   "source": [
    "### Preference Cost Function"
   ]
  },
  {
   "cell_type": "code",
   "execution_count": 239,
   "metadata": {
    "ExecuteTime": {
     "end_time": "2020-01-12T07:09:10.050127Z",
     "start_time": "2020-01-12T07:09:10.035796Z"
    }
   },
   "outputs": [],
   "source": [
    "def get_penalty(n, choice):\n",
    "    penalty = None\n",
    "    if choice == 0:\n",
    "        penalty = 0\n",
    "    elif choice == 1:\n",
    "        penalty = 50\n",
    "    elif choice == 2:\n",
    "        penalty = 50 + 9 * n\n",
    "    elif choice == 3:\n",
    "        penalty = 100 + 9 * n\n",
    "    elif choice == 4:\n",
    "        penalty = 200 + 9 * n\n",
    "    elif choice == 5:\n",
    "        penalty = 200 + 18 * n\n",
    "    elif choice == 6:\n",
    "        penalty = 300 + 18 * n\n",
    "    elif choice == 7:\n",
    "        penalty = 300 + 36 * n\n",
    "    elif choice == 8:\n",
    "        penalty = 400 + 36 * n\n",
    "    elif choice == 9:\n",
    "        penalty = 500 + 36 * n + 199 * n\n",
    "    else:\n",
    "        penalty = 500 + 36 * n + 398 * n\n",
    "    return penalty"
   ]
  },
  {
   "cell_type": "code",
   "execution_count": 240,
   "metadata": {
    "ExecuteTime": {
     "end_time": "2020-01-12T07:09:10.175942Z",
     "start_time": "2020-01-12T07:09:10.161962Z"
    }
   },
   "outputs": [],
   "source": [
    "def GetPreferenceCostMatrix(data):\n",
    "    cost_matrix = np.zeros((N_FAMILIES, N_DAYS), dtype=np.int64)\n",
    "    for i in range(N_FAMILIES):\n",
    "        desired = data.values[i, :-1]\n",
    "        cost_matrix[i, :] = get_penalty(FAMILY_SIZE[i], 10)\n",
    "        for j, day in enumerate(desired):\n",
    "            cost_matrix[i, day-1] = get_penalty(FAMILY_SIZE[i], j)\n",
    "    return cost_matrix"
   ]
  },
  {
   "cell_type": "markdown",
   "metadata": {},
   "source": [
    "### Make Matrix"
   ]
  },
  {
   "cell_type": "code",
   "execution_count": 241,
   "metadata": {
    "ExecuteTime": {
     "end_time": "2020-01-12T07:09:10.493347Z",
     "start_time": "2020-01-12T07:09:10.464198Z"
    }
   },
   "outputs": [],
   "source": [
    "PCOSTM = GetPreferenceCostMatrix(data)"
   ]
  },
  {
   "cell_type": "code",
   "execution_count": 242,
   "metadata": {
    "ExecuteTime": {
     "end_time": "2020-01-12T07:09:10.590900Z",
     "start_time": "2020-01-12T07:09:10.584706Z"
    }
   },
   "outputs": [
    {
     "name": "stdout",
     "output_type": "stream",
     "text": [
      "(500, 100)\n"
     ]
    },
    {
     "data": {
      "text/plain": [
       "array([2236, 2236, 2236, 2236, 2236, 2236, 2236, 2236, 2236,  544, 2236,\n",
       "         86, 2236, 2236, 2236, 2236, 2236, 2236, 2236, 2236, 2236, 2236,\n",
       "       2236, 2236, 2236, 2236, 2236, 1440, 2236, 2236, 2236, 2236,  236,\n",
       "       2236, 2236, 2236, 2236,   50, 2236, 2236, 2236, 2236, 2236, 2236,\n",
       "       2236, 2236, 2236, 2236, 2236, 2236, 2236,    0, 2236, 2236, 2236,\n",
       "       2236, 2236, 2236, 2236, 2236, 2236, 2236, 2236,  372, 2236, 2236,\n",
       "       2236, 2236, 2236, 2236, 2236, 2236, 2236, 2236,  272,  444, 2236,\n",
       "       2236, 2236, 2236, 2236,  136, 2236, 2236, 2236, 2236, 2236, 2236,\n",
       "       2236, 2236, 2236, 2236, 2236, 2236, 2236, 2236, 2236, 2236, 2236,\n",
       "       2236])"
      ]
     },
     "execution_count": 242,
     "metadata": {},
     "output_type": "execute_result"
    }
   ],
   "source": [
    "print(PCOSTM.shape)\n",
    "PCOSTM[0]"
   ]
  },
  {
   "cell_type": "markdown",
   "metadata": {},
   "source": [
    "### Calculate Preference Cost"
   ]
  },
  {
   "cell_type": "code",
   "execution_count": 243,
   "metadata": {
    "ExecuteTime": {
     "end_time": "2020-01-12T07:09:10.909907Z",
     "start_time": "2020-01-12T07:09:10.900714Z"
    }
   },
   "outputs": [],
   "source": [
    "@njit(fastmath=True)\n",
    "def pcost(prediction):\n",
    "    daily_occupancy = np.zeros(N_DAYS+1, dtype=np.int64)\n",
    "    penalty = 0\n",
    "    for (i, p) in enumerate(prediction):\n",
    "        n = FAMILY_SIZE[i]\n",
    "        penalty += PCOSTM[i, p]\n",
    "        daily_occupancy[p] += n\n",
    "    return penalty, daily_occupancy"
   ]
  },
  {
   "cell_type": "markdown",
   "metadata": {},
   "source": [
    "## Accounting Cost"
   ]
  },
  {
   "cell_type": "code",
   "execution_count": 244,
   "metadata": {
    "ExecuteTime": {
     "end_time": "2020-01-12T07:09:11.292111Z",
     "start_time": "2020-01-12T07:09:11.275100Z"
    }
   },
   "outputs": [],
   "source": [
    "def GetAccountingCostMatrix():\n",
    "    ac = np.zeros((MAX_OCCUPANCY+1, MAX_OCCUPANCY+1), dtype=np.float64)\n",
    "    for n in range(ac.shape[0]):\n",
    "        for n_p1 in range(ac.shape[1]):\n",
    "            diff = abs(n - n_p1)\n",
    "            ac[n, n_p1] = max(0, (n - MIN_OCCUPANCY) / 400 * n**(0.5 + diff / 50.0))\n",
    "#             ac[n, n_p1] = max(0, (n - 2) / 8 * n**(0.5 + diff))\n",
    "    return ac"
   ]
  },
  {
   "cell_type": "markdown",
   "metadata": {},
   "source": [
    "### Make Matirx"
   ]
  },
  {
   "cell_type": "code",
   "execution_count": 245,
   "metadata": {
    "ExecuteTime": {
     "end_time": "2020-01-12T07:09:11.749859Z",
     "start_time": "2020-01-12T07:09:11.677552Z"
    }
   },
   "outputs": [],
   "source": [
    "ACOSTM = GetAccountingCostMatrix() "
   ]
  },
  {
   "cell_type": "code",
   "execution_count": 246,
   "metadata": {
    "ExecuteTime": {
     "end_time": "2020-01-12T07:09:12.038883Z",
     "start_time": "2020-01-12T07:09:12.029581Z"
    },
    "scrolled": true
   },
   "outputs": [
    {
     "name": "stdout",
     "output_type": "stream",
     "text": [
      "(301, 301)\n"
     ]
    },
    {
     "data": {
      "text/plain": [
       "10576.716425036819"
      ]
     },
     "execution_count": 246,
     "metadata": {},
     "output_type": "execute_result"
    }
   ],
   "source": [
    "print(ACOSTM.shape)\n",
    "ACOSTM[227][300]"
   ]
  },
  {
   "cell_type": "markdown",
   "metadata": {},
   "source": [
    "### Accounting Cost"
   ]
  },
  {
   "cell_type": "code",
   "execution_count": 247,
   "metadata": {
    "ExecuteTime": {
     "end_time": "2020-01-12T07:09:12.582307Z",
     "start_time": "2020-01-12T07:09:12.573514Z"
    }
   },
   "outputs": [],
   "source": [
    "@njit(fastmath=True)\n",
    "def acost(daily_occupancy):\n",
    "    accounting_cost = 0\n",
    "    n_out_of_range = 0\n",
    "    daily_occupancy[-1] = daily_occupancy[-2]\n",
    "    for day in range(N_DAYS):\n",
    "        n_p1 = daily_occupancy[day + 1]\n",
    "        n    = daily_occupancy[day]\n",
    "        n_out_of_range += (n > MAX_OCCUPANCY) or (n < MIN_OCCUPANCY)\n",
    "        accounting_cost += ACOSTM[n, n_p1]\n",
    "    return accounting_cost, n_out_of_range"
   ]
  },
  {
   "cell_type": "markdown",
   "metadata": {},
   "source": [
    "## Total Cost"
   ]
  },
  {
   "cell_type": "code",
   "execution_count": 248,
   "metadata": {
    "ExecuteTime": {
     "end_time": "2020-01-12T07:09:13.178913Z",
     "start_time": "2020-01-12T07:09:13.170557Z"
    }
   },
   "outputs": [],
   "source": [
    "@njit(fastmath=True)\n",
    "def cost_function(prediction):\n",
    "    penalty, daily_occupancy = pcost(prediction)\n",
    "    accounting_cost, n_out_of_range = acost(daily_occupancy)\n",
    "    return penalty + accounting_cost + n_out_of_range*100000000"
   ]
  },
  {
   "cell_type": "markdown",
   "metadata": {},
   "source": [
    "## Evaluation Method"
   ]
  },
  {
   "cell_type": "code",
   "execution_count": 249,
   "metadata": {
    "ExecuteTime": {
     "end_time": "2020-01-12T07:09:13.796000Z",
     "start_time": "2020-01-12T07:09:13.782521Z"
    }
   },
   "outputs": [],
   "source": [
    "def eval(prediction):\n",
    "    pc, occ = pcost(prediction)\n",
    "    ac, _ = acost(occ)\n",
    "    print('Preferenced Cost : ', pc)\n",
    "    print('Accounting Cost : {: .2f}'.format(ac))\n",
    "    print('Total Cost : {: .2f}'.format(pc+ac))\n",
    "    print('')\n",
    "    print('Max Occupancy : {} , Min Ocupancy : {}'.format(occ.max(), occ.min()))"
   ]
  },
  {
   "cell_type": "markdown",
   "metadata": {},
   "source": [
    "# Minimize Practice"
   ]
  },
  {
   "cell_type": "markdown",
   "metadata": {},
   "source": [
    "## Solver"
   ]
  },
  {
   "cell_type": "code",
   "execution_count": 254,
   "metadata": {
    "ExecuteTime": {
     "end_time": "2020-01-12T07:14:09.338258Z",
     "start_time": "2020-01-12T07:14:09.305430Z"
    }
   },
   "outputs": [],
   "source": [
    "def IP():\n",
    "    \n",
    "    S = pywraplp.Solver('SolveAssignmentProblem', pywraplp.Solver.CBC_MIXED_INTEGER_PROGRAMMING)\n",
    "#     S = pywraplp.Solver('SolveAssignmentProblem', pywraplp.Solver.GLOP_LINEAR_PROGRAMMING)    \n",
    "#     GAP = MAX_OCCUPANCY-MIN_OCCUPANCY + 1\n",
    "    \n",
    "    candidates = [[] for _ in range(N_DAYS)] \n",
    "    \n",
    "    x = {}\n",
    "    for i in range(N_FAMILIES):\n",
    "        for j in DESIRED[i, :]:\n",
    "            candidates[j].append(i)\n",
    "            x[i, j] = S.BoolVar('x[%i,%i]' % (i, j))\n",
    "    \n",
    "    N = {}\n",
    "    for day in range(N_DAYS):\n",
    "        for i in GAP:\n",
    "#             for j in GAP_P[i]:\n",
    "#                 N[day, i, j] = S.BoolVar('N[%i,%i,%i]' % (day, i, j))\n",
    "            for j in GAP:\n",
    "                N[day, i, j] = S.BoolVar('N[%i,%i,%i]' % (day, i, j))\n",
    "            \n",
    "\n",
    "    family_presence = [S.Sum([x[i, j] for j in DESIRED[i, :]])\n",
    "                                                        for i in range(N_FAMILIES)]\n",
    "    \n",
    "    linear_constraint = [S.Sum(N[day, i, j] for i in GAP\n",
    "                                                                                                                               for j in GAP_P[i]) \n",
    "                                                                                                                               for day in range(N_DAYS) ]\n",
    "    \n",
    "    daily_occupancy_x = [S.Sum([x[i, j] * FAMILY_SIZE[i] for i in candidates[j]])\n",
    "                                                                                      for j in range(N_DAYS)]\n",
    "    \n",
    "#     daily_occupancy_n = [S.Sum( [(i)* N[day, i, j] for i in GAP\n",
    "#                                                                                                                                                                            for j in GAP_P[i]] )\n",
    "#                                                                                                                                                                            for day in range(N_DAYS)]\n",
    "    \n",
    " \n",
    "        \n",
    "    # Objective    \n",
    "    partial_costs = [PCOSTM[i, j] * x[i,j] for i in range(N_FAMILIES) for j in DESIRED[i, :] ]\n",
    "    preference_cost = S.Sum(partial_costs)\n",
    "    \n",
    "    penalties = []\n",
    "    for day in range(N_DAYS):\n",
    "        for i in GAP:\n",
    "            for j in GAP:\n",
    "                daily_occupancy = i\n",
    "                p_occupancy = j\n",
    "                penalties.append(abs(daily_occupancy - MIN_OCCUPANCY)/400 * daily_occupancy**(1/2+abs(daily_occupancy - p_occupancy)/50) * N[day, daily_occupancy, p_occupancy])\n",
    "\n",
    "    accounting_penalty = S.Sum(penalties)\n",
    "    \n",
    "    total_cost = S.Sum([preference_cost,accounting_penalty])\n",
    "#     total_cost = preference_cost + accounting_penalty\n",
    "\n",
    "    S.Minimize(total_cost)\n",
    "#     S.Minimize(accounting_penalty)\n",
    "#     S.Minimize(preference_cost)\n",
    "\n",
    "\n",
    "# \n",
    "    # Constraints\n",
    "    for day in range(N_DAYS):\n",
    "        for i in range(GAP):\n",
    "            for j in range(GAP):\n",
    "                if ACOSTM[i][j] > 6020:\n",
    "                    S.Add(N[day,i,j] == 0)\n",
    "    \n",
    "    \n",
    "    for day in range(N_DAYS):\n",
    "        S.Add(linear_constraint[day] == 1)\n",
    "        S.Add(\n",
    "#         daily_occupancy_x[day] - daily_occupancy_n[day] == 0\n",
    "            S.Sum([N[day, i, j]*(i) for i in GAP for j in GAP_P[i]]) \n",
    "                == daily_occupancy_x[day]\n",
    "        )       \n",
    "\n",
    "    for day in range(N_DAYS-1):\n",
    "        S.Add(\n",
    "            S.Sum([N[day, i, j]*(j) for i in GAP for j in GAP_P[i]]) \n",
    "                == daily_occupancy_x[day+1]\n",
    "        ) \n",
    "        \n",
    "#         S.Add(daily_occupancy_n[day] == 0)\n",
    "        \n",
    "    for i in range(N_FAMILIES):\n",
    "        S.Add(family_presence[i] == 1)\n",
    "        \n",
    "# #         差の条件を加えてみる\n",
    "#     for j in range(N_DAYS-1):\n",
    "#         S.Add(daily_occupancy[j]   - daily_occupancy[j+1] <= 23)\n",
    "#         S.Add(daily_occupancy[j+1] - daily_occupancy[j]   <= 23)\n",
    "            \n",
    "        \n",
    "\n",
    "    print('ready !!')\n",
    "    S.EnableOutput() \n",
    "    S.SetNumThreads(24)\n",
    "#     S.SuppressOutput()\n",
    "#     S.SetTimeLimit(1000*60*10)\n",
    "    res = S.Solve()\n",
    "\n",
    "    resdict = {0:'OPTIMAL', 1:'FEASIBLE', 2:'INFEASIBLE', 3:'UNBOUNDED', \n",
    "               4:'ABNORMAL', 5:'MODEL_INVALID', 6:'NOT_SOLVED'}\n",
    "\n",
    "    print('IP solver result:', resdict[res])\n",
    "\n",
    "\n",
    "    l = [(i, j, x[i, j].solution_value()) for i in range(N_FAMILIES)\n",
    "                                                      for j in DESIRED[i, :] \n",
    "                                                      if x[i, j].solution_value()>0]\n",
    "    \n",
    "\n",
    "    df = pd.DataFrame(l, columns=['family_id', 'day', 'n'])\n",
    "    return df"
   ]
  },
  {
   "cell_type": "code",
   "execution_count": 255,
   "metadata": {
    "ExecuteTime": {
     "end_time": "2020-01-12T07:14:10.202498Z",
     "start_time": "2020-01-12T07:14:10.194364Z"
    }
   },
   "outputs": [
    {
     "data": {
      "text/plain": [
       "range(125, 301)"
      ]
     },
     "execution_count": 255,
     "metadata": {},
     "output_type": "execute_result"
    }
   ],
   "source": [
    "GAP"
   ]
  },
  {
   "cell_type": "code",
   "execution_count": 256,
   "metadata": {
    "ExecuteTime": {
     "end_time": "2020-01-12T07:14:49.174550Z",
     "start_time": "2020-01-12T07:14:49.148729Z"
    }
   },
   "outputs": [],
   "source": [
    "def make_IP():\n",
    "    S = pywraplp.Solver('SolveAssignmentProblem', pywraplp.Solver.CBC_MIXED_INTEGER_PROGRAMMING)\n",
    "#     S = pywraplp.Solver('SolveAssignmentProblem', pywraplp.Solver.GLOP_LINEAR_PROGRAMMING)    \n",
    "#     GAP = MAX_OCCUPANCY-MIN_OCCUPANCY + 1\n",
    "    \n",
    "    candidates = [[] for _ in range(N_DAYS)] \n",
    "    \n",
    "    x = {}\n",
    "    for i in range(N_FAMILIES):\n",
    "        for j in DESIRED[i, :]:\n",
    "            candidates[j].append(i)\n",
    "            x[i, j] = S.BoolVar('x[%i,%i]' % (i, j))\n",
    "    \n",
    "    N = {}\n",
    "    for day in range(N_DAYS):\n",
    "        for i in GAP:\n",
    "#             for j in GAP_P[i]:\n",
    "#                 N[day, i, j] = S.BoolVar('N[%i,%i,%i]' % (day, i, j))\n",
    "            for j in GAP:\n",
    "                N[day, i, j] = S.BoolVar('N[%i,%i,%i]' % (day, i, j))\n",
    "            \n",
    "\n",
    "    family_presence = [S.Sum([x[i, j] for j in DESIRED[i, :]]) for i in range(N_FAMILIES)]\n",
    "    \n",
    "    linear_constraint = [S.Sum(N[day, i, j] for i in GAP for j in GAP_P[i]) for day in range(N_DAYS) ]\n",
    "    \n",
    "    daily_occupancy_x = [S.Sum([x[i, j] * FAMILY_SIZE[i] for i in candidates[j]]) for j in range(N_DAYS)]\n",
    "    \n",
    "#     daily_occupancy_n = [S.Sum( [(i)* N[day, i, j] for i in GAP\n",
    "#                                                                                                                                                                            for j in GAP_P[i]] )\n",
    "#                                                                                                                                                                            for day in range(N_DAYS)]\n",
    "    \n",
    " \n",
    "        \n",
    "    # Objective    \n",
    "    partial_costs = [PCOSTM[i, j] * x[i,j] for i in range(N_FAMILIES) for j in DESIRED[i, :] ]\n",
    "    preference_cost = S.Sum(partial_costs)\n",
    "    \n",
    "    penalties = []\n",
    "    for day in range(N_DAYS):\n",
    "        for i in GAP:\n",
    "            for j in GAP_P[i]:\n",
    "                daily_occupancy = i\n",
    "                p_occupancy = j\n",
    "                penalties.append(abs(daily_occupancy - MIN_OCCUPANCY)/400 \n",
    "                                 * daily_occupancy**(1/2+abs(daily_occupancy - p_occupancy)/50) \n",
    "                                 * N[day, daily_occupancy, p_occupancy])\n",
    "\n",
    "    accounting_penalty = S.Sum(penalties)\n",
    "    \n",
    "    total_cost = S.Sum([preference_cost,accounting_penalty])\n",
    "#     total_cost = preference_cost + accounting_penalty\n",
    "\n",
    "    S.Minimize(total_cost)\n",
    "#     S.Minimize(accounting_penalty)\n",
    "#     S.Minimize(preference_cost)\n",
    "\n",
    "\n",
    "# \n",
    "    # Constraints\n",
    "    for day in range(N_DAYS):\n",
    "        for i in GAP:\n",
    "            for j in GAP:\n",
    "                if ACOSTM[i][j] > 6020:\n",
    "                    S.Add(N[day,i,j] == 0)\n",
    "    \n",
    "    for day in range(N_DAYS):\n",
    "        S.Add(linear_constraint[day] == 1)\n",
    "        S.Add(\n",
    "#         daily_occupancy_x[day] - daily_occupancy_n[day] == 0\n",
    "            S.Sum([N[day, i, j]*(i) for i in GAP for j in GAP_P[i]]) \n",
    "                == daily_occupancy_x[day]\n",
    "        )       \n",
    "\n",
    "    for day in range(N_DAYS-1):\n",
    "        S.Add(\n",
    "            S.Sum([N[day, i, j]*(j) for i in GAP for j in GAP_P[i]]) \n",
    "                == daily_occupancy_x[day+1]\n",
    "        ) \n",
    "        \n",
    "#         S.Add(daily_occupancy_n[day] == 0)\n",
    "        \n",
    "    for i in range(N_FAMILIES):\n",
    "        S.Add(family_presence[i] == 1)\n",
    "        \n",
    "#     for day in range(N_DAYS):\n",
    "#         for i in range(MIN_OCCUPANCY):\n",
    "#             for j in range(MIN_OCCUPANCY):\n",
    "#                 if abs(i - j)\n",
    "    \n",
    "        \n",
    "# #         差の条件を加えてみる\n",
    "#     for j in range(N_DAYS-1):\n",
    "#         S.Add(daily_occupancy[j]   - daily_occupancy[j+1] <= 23)\n",
    "#         S.Add(daily_occupancy[j+1] - daily_occupancy[j]   <= 23)\n",
    "            \n",
    "        \n",
    "\n",
    "    print('ready !!')\n",
    "    S.EnableOutput() \n",
    "#     S.SetNumThreads(24)\n",
    "#     S.SuppressOutput()\n",
    "#     S.SetTimeLimit(1000*60*10)\n",
    "\n",
    "    return S\n",
    "    res = S.Solve()"
   ]
  },
  {
   "cell_type": "code",
   "execution_count": 257,
   "metadata": {
    "ExecuteTime": {
     "end_time": "2020-01-12T07:15:30.241648Z",
     "start_time": "2020-01-12T07:14:51.144088Z"
    }
   },
   "outputs": [
    {
     "name": "stdout",
     "output_type": "stream",
     "text": [
      "ready !!\n"
     ]
    }
   ],
   "source": [
    "S = make_IP()"
   ]
  },
  {
   "cell_type": "code",
   "execution_count": 84,
   "metadata": {
    "ExecuteTime": {
     "end_time": "2020-01-10T12:45:48.647517Z",
     "start_time": "2020-01-10T12:45:42.650468Z"
    }
   },
   "outputs": [],
   "source": [
    "lp = S.ExportModelAsLpFormat(False)"
   ]
  },
  {
   "cell_type": "code",
   "execution_count": 85,
   "metadata": {
    "ExecuteTime": {
     "end_time": "2020-01-10T12:46:00.514352Z",
     "start_time": "2020-01-10T12:46:00.391120Z"
    }
   },
   "outputs": [],
   "source": [
    "with open('santa_lb.lp', 'w') as f:\n",
    "  print(lp, file=f)"
   ]
  },
  {
   "cell_type": "code",
   "execution_count": 25,
   "metadata": {
    "ExecuteTime": {
     "end_time": "2020-01-10T12:44:40.699527Z",
     "start_time": "2020-01-10T12:44:22.322Z"
    }
   },
   "outputs": [],
   "source": [
    "# res = S.Solve()\n",
    "# resdict = {0:'OPTIMAL', 1:'FEASIBLE', 2:'INFEASIBLE', 3:'UNBOUNDED', \n",
    "#            4:'ABNORMAL', 5:'MODEL_INVALID', 6:'NOT_SOLVED'}\n",
    "\n",
    "# print('IP solver result:', resdict[res])\n",
    "\n",
    "\n",
    "# l = [(i, j, x[i, j].solution_value()) for i in range(N_FAMILIES)\n",
    "#                                                   for j in DESIRED[i, :] \n",
    "#                                                   if x[i, j].solution_value()>0]\n",
    "\n",
    "\n",
    "# df = pd.DataFrame(l, columns=['family_id', 'day', 'n'])\n"
   ]
  },
  {
   "cell_type": "markdown",
   "metadata": {},
   "source": [
    "## Solve"
   ]
  },
  {
   "cell_type": "code",
   "execution_count": 46,
   "metadata": {
    "ExecuteTime": {
     "start_time": "2020-01-08T09:28:39.387Z"
    }
   },
   "outputs": [],
   "source": [
    "# %%time\n",
    "# df_tmp = IP()"
   ]
  },
  {
   "cell_type": "markdown",
   "metadata": {
    "ExecuteTime": {
     "end_time": "2020-01-08T03:56:59.086181Z",
     "start_time": "2020-01-08T03:56:59.081274Z"
    }
   },
   "source": [
    "## Check"
   ]
  },
  {
   "cell_type": "code",
   "execution_count": 27,
   "metadata": {
    "ExecuteTime": {
     "start_time": "2020-01-08T09:26:05.839Z"
    }
   },
   "outputs": [
    {
     "ename": "NameError",
     "evalue": "name 'df_tmp' is not defined",
     "output_type": "error",
     "traceback": [
      "\u001b[0;31m---------------------------------------------------------------------------\u001b[0m",
      "\u001b[0;31mNameError\u001b[0m                                 Traceback (most recent call last)",
      "\u001b[0;32m<ipython-input-27-f5e204f41c35>\u001b[0m in \u001b[0;36m<module>\u001b[0;34m\u001b[0m\n\u001b[0;32m----> 1\u001b[0;31m \u001b[0mdf_tmp\u001b[0m\u001b[0;34m.\u001b[0m\u001b[0mshape\u001b[0m\u001b[0;34m\u001b[0m\u001b[0;34m\u001b[0m\u001b[0m\n\u001b[0m",
      "\u001b[0;31mNameError\u001b[0m: name 'df_tmp' is not defined"
     ]
    }
   ],
   "source": [
    "df_tmp.shape"
   ]
  },
  {
   "cell_type": "code",
   "execution_count": null,
   "metadata": {
    "ExecuteTime": {
     "start_time": "2020-01-08T09:26:05.845Z"
    }
   },
   "outputs": [],
   "source": [
    "eval(df_tmp.day.values)"
   ]
  },
  {
   "cell_type": "code",
   "execution_count": null,
   "metadata": {
    "ExecuteTime": {
     "start_time": "2020-01-08T09:26:05.849Z"
    }
   },
   "outputs": [],
   "source": [
    "pc, occ = pcost(df_tmp.day.values)\n",
    "print(occ)"
   ]
  },
  {
   "cell_type": "code",
   "execution_count": null,
   "metadata": {},
   "outputs": [],
   "source": [
    "ans = df_tmp.day.values"
   ]
  },
  {
   "cell_type": "code",
   "execution_count": null,
   "metadata": {},
   "outputs": [],
   "source": [
    "ans[69]"
   ]
  },
  {
   "cell_type": "code",
   "execution_count": null,
   "metadata": {},
   "outputs": [],
   "source": [
    "print(df_tmp.day.values)"
   ]
  }
 ],
 "metadata": {
  "kernelspec": {
   "display_name": "Python 3",
   "language": "python",
   "name": "python3"
  },
  "language_info": {
   "codemirror_mode": {
    "name": "ipython",
    "version": 3
   },
   "file_extension": ".py",
   "mimetype": "text/x-python",
   "name": "python",
   "nbconvert_exporter": "python",
   "pygments_lexer": "ipython3",
   "version": "3.7.3"
  },
  "toc": {
   "base_numbering": 1,
   "nav_menu": {},
   "number_sections": true,
   "sideBar": true,
   "skip_h1_title": false,
   "title_cell": "Table of Contents",
   "title_sidebar": "Contents",
   "toc_cell": false,
   "toc_position": {
    "height": "calc(100% - 180px)",
    "left": "10px",
    "top": "150px",
    "width": "320px"
   },
   "toc_section_display": true,
   "toc_window_display": false
  }
 },
 "nbformat": 4,
 "nbformat_minor": 4
}
