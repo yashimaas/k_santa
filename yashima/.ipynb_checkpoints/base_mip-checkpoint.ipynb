{
 "cells": [
  {
   "cell_type": "markdown",
   "metadata": {},
   "source": [
    "# Imports"
   ]
  },
  {
   "cell_type": "code",
   "execution_count": 3,
   "metadata": {
    "ExecuteTime": {
     "end_time": "2020-01-06T06:46:56.360839Z",
     "start_time": "2020-01-06T06:46:56.355226Z"
    }
   },
   "outputs": [],
   "source": [
    "import numpy as np\n",
    "import pandas as pd\n",
    "from numba import njit\n",
    "from itertools import product\n",
    "from ortools.linear_solver import pywraplp"
   ]
  },
  {
   "cell_type": "markdown",
   "metadata": {},
   "source": [
    "# Initialize"
   ]
  },
  {
   "cell_type": "markdown",
   "metadata": {},
   "source": [
    "## Load Data"
   ]
  },
  {
   "cell_type": "code",
   "execution_count": 4,
   "metadata": {
    "ExecuteTime": {
     "end_time": "2020-01-06T06:46:58.962310Z",
     "start_time": "2020-01-06T06:46:58.944151Z"
    }
   },
   "outputs": [],
   "source": [
    "data = pd.read_csv('../data/family_data.csv', index_col='family_id')"
   ]
  },
  {
   "cell_type": "markdown",
   "metadata": {},
   "source": [
    "## Set Static Variables"
   ]
  },
  {
   "cell_type": "code",
   "execution_count": 5,
   "metadata": {
    "ExecuteTime": {
     "end_time": "2020-01-06T06:47:01.439272Z",
     "start_time": "2020-01-06T06:47:01.433608Z"
    }
   },
   "outputs": [],
   "source": [
    "N_DAYS = 100\n",
    "N_FAMILIES = 5000\n",
    "MAX_OCCUPANCY = 300\n",
    "MIN_OCCUPANCY = 125\n",
    "\n",
    "FAMILY_SIZE = data.n_people.values\n",
    "DESIRED     = data.values[:, :-1] - 1"
   ]
  },
  {
   "cell_type": "markdown",
   "metadata": {},
   "source": [
    "# CostFunction"
   ]
  },
  {
   "cell_type": "markdown",
   "metadata": {},
   "source": [
    "## Preference Cost"
   ]
  },
  {
   "cell_type": "markdown",
   "metadata": {},
   "source": [
    "### Preference Cost Function"
   ]
  },
  {
   "cell_type": "code",
   "execution_count": 6,
   "metadata": {
    "ExecuteTime": {
     "end_time": "2020-01-06T06:47:09.228471Z",
     "start_time": "2020-01-06T06:47:09.208088Z"
    }
   },
   "outputs": [],
   "source": [
    "def get_penalty(n, choice):\n",
    "    penalty = None\n",
    "    if choice == 0:\n",
    "        penalty = 0\n",
    "    elif choice == 1:\n",
    "        penalty = 50\n",
    "    elif choice == 2:\n",
    "        penalty = 50 + 9 * n\n",
    "    elif choice == 3:\n",
    "        penalty = 100 + 9 * n\n",
    "    elif choice == 4:\n",
    "        penalty = 200 + 9 * n\n",
    "    elif choice == 5:\n",
    "        penalty = 200 + 18 * n\n",
    "    elif choice == 6:\n",
    "        penalty = 300 + 18 * n\n",
    "    elif choice == 7:\n",
    "        penalty = 300 + 36 * n\n",
    "    elif choice == 8:\n",
    "        penalty = 400 + 36 * n\n",
    "    elif choice == 9:\n",
    "        penalty = 500 + 36 * n + 199 * n\n",
    "    else:\n",
    "        penalty = 500 + 36 * n + 398 * n\n",
    "    return penalty"
   ]
  },
  {
   "cell_type": "code",
   "execution_count": 7,
   "metadata": {
    "ExecuteTime": {
     "end_time": "2020-01-06T06:47:09.739701Z",
     "start_time": "2020-01-06T06:47:09.731720Z"
    }
   },
   "outputs": [],
   "source": [
    "def GetPreferenceCostMatrix(data):\n",
    "    cost_matrix = np.zeros((N_FAMILIES, N_DAYS), dtype=np.int64)\n",
    "    for i in range(N_FAMILIES):\n",
    "        desired = data.values[i, :-1]\n",
    "        cost_matrix[i, :] = get_penalty(FAMILY_SIZE[i], 10)\n",
    "        for j, day in enumerate(desired):\n",
    "            cost_matrix[i, day-1] = get_penalty(FAMILY_SIZE[i], j)\n",
    "    return cost_matrix"
   ]
  },
  {
   "cell_type": "markdown",
   "metadata": {},
   "source": [
    "### Make Matrix"
   ]
  },
  {
   "cell_type": "code",
   "execution_count": 8,
   "metadata": {
    "ExecuteTime": {
     "end_time": "2020-01-06T06:47:13.378520Z",
     "start_time": "2020-01-06T06:47:13.245198Z"
    }
   },
   "outputs": [],
   "source": [
    "PCOSTM = GetPreferenceCostMatrix(data)"
   ]
  },
  {
   "cell_type": "code",
   "execution_count": 9,
   "metadata": {
    "ExecuteTime": {
     "end_time": "2020-01-06T06:47:14.830696Z",
     "start_time": "2020-01-06T06:47:14.815085Z"
    }
   },
   "outputs": [
    {
     "name": "stdout",
     "output_type": "stream",
     "text": [
      "(5000, 100)\n"
     ]
    },
    {
     "data": {
      "text/plain": [
       "array([2236, 2236, 2236, 2236, 2236, 2236, 2236, 2236, 2236,  544, 2236,\n",
       "         86, 2236, 2236, 2236, 2236, 2236, 2236, 2236, 2236, 2236, 2236,\n",
       "       2236, 2236, 2236, 2236, 2236, 1440, 2236, 2236, 2236, 2236,  236,\n",
       "       2236, 2236, 2236, 2236,   50, 2236, 2236, 2236, 2236, 2236, 2236,\n",
       "       2236, 2236, 2236, 2236, 2236, 2236, 2236,    0, 2236, 2236, 2236,\n",
       "       2236, 2236, 2236, 2236, 2236, 2236, 2236, 2236,  372, 2236, 2236,\n",
       "       2236, 2236, 2236, 2236, 2236, 2236, 2236, 2236,  272,  444, 2236,\n",
       "       2236, 2236, 2236, 2236,  136, 2236, 2236, 2236, 2236, 2236, 2236,\n",
       "       2236, 2236, 2236, 2236, 2236, 2236, 2236, 2236, 2236, 2236, 2236,\n",
       "       2236])"
      ]
     },
     "execution_count": 9,
     "metadata": {},
     "output_type": "execute_result"
    }
   ],
   "source": [
    "print(PCOSTM.shape)\n",
    "PCOSTM[0]"
   ]
  },
  {
   "cell_type": "markdown",
   "metadata": {},
   "source": [
    "### Caluclate Preference Cost"
   ]
  },
  {
   "cell_type": "code",
   "execution_count": 10,
   "metadata": {
    "ExecuteTime": {
     "end_time": "2020-01-06T06:47:17.229239Z",
     "start_time": "2020-01-06T06:47:17.220788Z"
    }
   },
   "outputs": [],
   "source": [
    "@njit(fastmath=True)\n",
    "def pcost(prediction):\n",
    "    daily_occupancy = np.zeros(N_DAYS+1, dtype=np.int64)\n",
    "    penalty = 0\n",
    "    for (i, p) in enumerate(prediction):\n",
    "        n = FAMILY_SIZE[i]\n",
    "        penalty += PCOSTM[i, p]\n",
    "        daily_occupancy[p] += n\n",
    "    return penalty, daily_occupancy"
   ]
  },
  {
   "cell_type": "markdown",
   "metadata": {},
   "source": [
    "## Accounting Cost"
   ]
  },
  {
   "cell_type": "markdown",
   "metadata": {},
   "source": [
    "### Accounting Cost Function"
   ]
  },
  {
   "cell_type": "code",
   "execution_count": 11,
   "metadata": {
    "ExecuteTime": {
     "end_time": "2020-01-06T06:47:19.367760Z",
     "start_time": "2020-01-06T06:47:19.358711Z"
    }
   },
   "outputs": [],
   "source": [
    "def GetAccountingCostMatrix():\n",
    "    ac = np.zeros((1000, 1000), dtype=np.float64)\n",
    "    for n in range(ac.shape[0]):\n",
    "        for n_p1 in range(ac.shape[1]):\n",
    "            diff = abs(n - n_p1)\n",
    "            ac[n, n_p1] = max(0, (n - 125) / 400 * n**(0.5 + diff / 50.0))\n",
    "    return ac"
   ]
  },
  {
   "cell_type": "markdown",
   "metadata": {},
   "source": [
    "### Make Matrix"
   ]
  },
  {
   "cell_type": "code",
   "execution_count": 12,
   "metadata": {
    "ExecuteTime": {
     "end_time": "2020-01-06T06:47:20.788803Z",
     "start_time": "2020-01-06T06:47:20.135293Z"
    }
   },
   "outputs": [],
   "source": [
    "ACOSTM = GetAccountingCostMatrix() "
   ]
  },
  {
   "cell_type": "code",
   "execution_count": 13,
   "metadata": {
    "ExecuteTime": {
     "end_time": "2020-01-06T06:47:20.803728Z",
     "start_time": "2020-01-06T06:47:20.793849Z"
    }
   },
   "outputs": [
    {
     "name": "stdout",
     "output_type": "stream",
     "text": [
      "(1000, 1000)\n"
     ]
    },
    {
     "data": {
      "text/plain": [
       "array([[0.00000000e+00, 0.00000000e+00, 0.00000000e+00, ...,\n",
       "        0.00000000e+00, 0.00000000e+00, 0.00000000e+00],\n",
       "       [0.00000000e+00, 0.00000000e+00, 0.00000000e+00, ...,\n",
       "        0.00000000e+00, 0.00000000e+00, 0.00000000e+00],\n",
       "       [0.00000000e+00, 0.00000000e+00, 0.00000000e+00, ...,\n",
       "        0.00000000e+00, 0.00000000e+00, 0.00000000e+00],\n",
       "       ...,\n",
       "       [4.28336940e+61, 3.73088297e+61, 3.24965849e+61, ...,\n",
       "        6.88341688e+01, 7.90274513e+01, 9.07302023e+01],\n",
       "       [5.02533626e+61, 4.37706017e+61, 3.81241268e+61, ...,\n",
       "        7.91593344e+01, 6.89476587e+01, 7.91593344e+01],\n",
       "       [5.89593436e+61, 5.13524692e+61, 4.47270259e+61, ...,\n",
       "        9.10367626e+01, 7.92912921e+01, 6.90612103e+01]])"
      ]
     },
     "execution_count": 13,
     "metadata": {},
     "output_type": "execute_result"
    }
   ],
   "source": [
    "print(ACOSTM.shape)\n",
    "ACOSTM"
   ]
  },
  {
   "cell_type": "markdown",
   "metadata": {},
   "source": [
    "### Caluculate Accounting Cost"
   ]
  },
  {
   "cell_type": "code",
   "execution_count": 14,
   "metadata": {
    "ExecuteTime": {
     "end_time": "2020-01-06T06:47:25.000892Z",
     "start_time": "2020-01-06T06:47:24.985307Z"
    }
   },
   "outputs": [],
   "source": [
    "@njit(fastmath=True)\n",
    "def acost(daily_occupancy):\n",
    "    accounting_cost = 0\n",
    "    n_out_of_range = 0\n",
    "    daily_occupancy[-1] = daily_occupancy[-2]\n",
    "    for day in range(N_DAYS):\n",
    "        n_p1 = daily_occupancy[day + 1]\n",
    "        n    = daily_occupancy[day]\n",
    "        n_out_of_range += (n > MAX_OCCUPANCY) or (n < MIN_OCCUPANCY)\n",
    "        accounting_cost += ACOSTM[n, n_p1]\n",
    "    return accounting_cost, n_out_of_range"
   ]
  },
  {
   "cell_type": "markdown",
   "metadata": {},
   "source": [
    "## Total Cost"
   ]
  },
  {
   "cell_type": "code",
   "execution_count": 15,
   "metadata": {
    "ExecuteTime": {
     "end_time": "2020-01-06T06:47:27.985070Z",
     "start_time": "2020-01-06T06:47:27.979513Z"
    }
   },
   "outputs": [],
   "source": [
    "@njit(fastmath=True)\n",
    "def cost_function(prediction):\n",
    "    penalty, daily_occupancy = pcost(prediction)\n",
    "    accounting_cost, n_out_of_range = acost(daily_occupancy)\n",
    "    return penalty + accounting_cost + n_out_of_range*100000000"
   ]
  },
  {
   "cell_type": "markdown",
   "metadata": {},
   "source": [
    "# Solver"
   ]
  },
  {
   "cell_type": "markdown",
   "metadata": {},
   "source": [
    "## Linear Programing Solver"
   ]
  },
  {
   "cell_type": "markdown",
   "metadata": {},
   "source": [
    "### Make Solver"
   ]
  },
  {
   "cell_type": "code",
   "execution_count": 128,
   "metadata": {
    "ExecuteTime": {
     "end_time": "2020-01-05T16:05:03.498741Z",
     "start_time": "2020-01-05T16:05:03.478422Z"
    }
   },
   "outputs": [],
   "source": [
    "# def solveSantaLP():\n",
    "    \n",
    "#     S = pywraplp.Solver('SolveAssignmentProblem', pywraplp.Solver.GLOP_LINEAR_PROGRAMMING)\n",
    "    \n",
    "#     #S.SetNumThreads(NumThreads) \n",
    "#     #S.set_time_limit(limit_in_seconds*1000*NumThreads) #cpu time = wall time * N_threads\n",
    "    \n",
    "#     x = {}\n",
    "#     candidates = [[] for _ in range(N_DAYS)] #families that can be assigned to each day\n",
    "\n",
    "#     for i in range(N_FAMILIES):\n",
    "#         for j in DESIRED[i, :]:\n",
    "#             candidates[j].append(i)\n",
    "#             x[i, j] = S.BoolVar('x[%i,%i]' % (i, j))\n",
    "\n",
    "            \n",
    "#     daily_occupancy = [S.Sum([x[i, j] * FAMILY_SIZE[i] for i in candidates[j]])\n",
    "#                                                                                    for j in range(N_DAYS)]\n",
    "\n",
    "#     family_presence = [S.Sum([x[i, j] for j in DESIRED[i, :]])\n",
    "#                                                         for i in range(N_FAMILIES)]\n",
    "\n",
    "\n",
    "\n",
    "#     # Objective\n",
    "#     preference_cost = S.Sum([PCOSTM[i, j] * x[i,j] for i in range(N_FAMILIES)\n",
    "#                                                                             for j in DESIRED[i, :] ])\n",
    "\n",
    "#     S.Minimize(preference_cost)\n",
    "\n",
    "\n",
    "\n",
    "#     # Constraints\n",
    "#     for j in range(N_DAYS-1):\n",
    "#         S.Add(daily_occupancy[j]   - daily_occupancy[j+1] <= 23)\n",
    "#         S.Add(daily_occupancy[j+1] - daily_occupancy[j]   <= 23)\n",
    "\n",
    "#     for i in range(N_FAMILIES):\n",
    "#         S.Add(family_presence[i] == 1)\n",
    "\n",
    "#     for j in range(N_DAYS):\n",
    "#         S.Add(daily_occupancy[j] >= MIN_OCCUPANCY)\n",
    "#         S.Add(daily_occupancy[j] <= MAX_OCCUPANCY)\n",
    "\n",
    "\n",
    "\n",
    "#     res = S.Solve()\n",
    "\n",
    "#     resdict = {0:'OPTIMAL', 1:'FEASIBLE', 2:'INFEASIBLE', 3:'UNBOUNDED', \n",
    "#                4:'ABNORMAL', 5:'MODEL_INVALID', 6:'NOT_SOLVED'}\n",
    "\n",
    "#     print('LP solver result:', resdict[res])\n",
    "\n",
    "\n",
    "#     l = [(i, j, x[i, j].solution_value()) for i in range(N_FAMILIES)\n",
    "#                                                       for j in DESIRED[i, :] \n",
    "#                                                       if x[i, j].solution_value()>0]\n",
    "\n",
    "#     df = pd.DataFrame(l, columns=['family_id', 'day', 'n'])\n",
    "#     return df"
   ]
  },
  {
   "cell_type": "markdown",
   "metadata": {},
   "source": [
    "### Solve"
   ]
  },
  {
   "cell_type": "code",
   "execution_count": 17,
   "metadata": {
    "ExecuteTime": {
     "end_time": "2020-01-06T06:47:41.290950Z",
     "start_time": "2020-01-06T06:47:41.283233Z"
    }
   },
   "outputs": [],
   "source": [
    "# df_tmp = solveSantaLP()"
   ]
  },
  {
   "cell_type": "markdown",
   "metadata": {},
   "source": [
    "### Check"
   ]
  },
  {
   "cell_type": "code",
   "execution_count": 16,
   "metadata": {
    "ExecuteTime": {
     "end_time": "2020-01-06T06:47:38.968484Z",
     "start_time": "2020-01-06T06:47:38.963969Z"
    }
   },
   "outputs": [],
   "source": [
    "# df_tmp.head(3)"
   ]
  },
  {
   "cell_type": "code",
   "execution_count": 18,
   "metadata": {
    "ExecuteTime": {
     "end_time": "2020-01-06T06:47:43.970314Z",
     "start_time": "2020-01-06T06:47:43.962762Z"
    }
   },
   "outputs": [],
   "source": [
    "# df_tmp[df_tmp.n<=0.999].head()"
   ]
  },
  {
   "cell_type": "code",
   "execution_count": 19,
   "metadata": {
    "ExecuteTime": {
     "end_time": "2020-01-06T06:47:47.655870Z",
     "start_time": "2020-01-06T06:47:47.653584Z"
    }
   },
   "outputs": [],
   "source": [
    "# print('--- About df_tmp.n ---')\n",
    "# print('Over 1.0 : ', len(df_tmp[df_tmp.n > 1.0]))\n",
    "# print('Under 0.999 : ', len(df_tmp[df_tmp.n < 0.999]))"
   ]
  },
  {
   "cell_type": "code",
   "execution_count": 20,
   "metadata": {
    "ExecuteTime": {
     "end_time": "2020-01-06T06:47:52.184525Z",
     "start_time": "2020-01-06T06:47:52.182096Z"
    }
   },
   "outputs": [],
   "source": [
    "# assigned_tmp_df = df_tmp[df_tmp.n > 0.999].copy()\n",
    "# assigned_tmp_df['family_size'] = FAMILY_SIZE[assigned_tmp_df.family_id]\n",
    "# occupancy = assigned_tmp_df.groupby('day').family_size.sum().values\n",
    "# min_occupancy = np.array([max(0, MIN_OCCUPANCY-o) for o in occupancy])\n",
    "# max_occupancy = np.array([MAX_OCCUPANCY - o for o in occupancy])\n",
    "\n",
    "# unassigned_tmp_df = df_tmp[(df_tmp.n <= 0.999) & (df_tmp.n > (1 - 0.999))]"
   ]
  },
  {
   "cell_type": "code",
   "execution_count": 21,
   "metadata": {
    "ExecuteTime": {
     "end_time": "2020-01-06T06:47:55.079670Z",
     "start_time": "2020-01-06T06:47:55.075637Z"
    },
    "scrolled": true
   },
   "outputs": [],
   "source": [
    "# print('Assigened : ', len(assigned_tmp_df.family_id.unique()))\n",
    "# print(' - Under Min Occupancies : ', len(min_occupancy[min_occupancy != 0]))\n",
    "# print('   ', min_occupancy[min_occupancy != 0])\n",
    "# print(' - Over Max Occupancies : ', len(max_occupancy[max_occupancy < 0]))\n",
    "# print('')\n",
    "# print('Unassigned : ', len(unassigned_tmp_df.family_id.unique()))"
   ]
  },
  {
   "cell_type": "markdown",
   "metadata": {},
   "source": [
    "## Mixed Integer Programming Solver"
   ]
  },
  {
   "cell_type": "markdown",
   "metadata": {},
   "source": [
    "### Make Solver"
   ]
  },
  {
   "cell_type": "code",
   "execution_count": 25,
   "metadata": {
    "ExecuteTime": {
     "end_time": "2020-01-06T06:53:24.747612Z",
     "start_time": "2020-01-06T06:53:24.722204Z"
    }
   },
   "outputs": [],
   "source": [
    "def solveSantaIP():\n",
    "\n",
    "    S = pywraplp.Solver('SolveAssignmentProblem', pywraplp.Solver.CBC_MIXED_INTEGER_PROGRAMMING)\n",
    "    \n",
    "    #S.SetNumThreads(NumThreads) \n",
    "    #S.set_time_limit(limit_in_seconds*1000*NumThreads) #cpu time = wall time * N_threads\n",
    "    \n",
    "    x = {}\n",
    "    candidates = [[] for _ in range(N_DAYS)] #families that can be assigned to each day\n",
    "\n",
    "    for i in range(N_FAMILIES):\n",
    "        for j in DESIRED[i, :]:\n",
    "            candidates[j].append(i)\n",
    "            x[i, j] = S.BoolVar('x[%i,%i]' % (i, j))\n",
    "\n",
    "            \n",
    "    daily_occupancy = [S.Sum([x[i, j] * FAMILY_SIZE[i] for i in candidates[j]])\n",
    "                                                                                   for j in range(N_DAYS)]\n",
    "\n",
    "    family_presence = [S.Sum([x[i, j] for j in DESIRED[i, :]])\n",
    "                                                        for i in range(N_FAMILIES)]\n",
    "\n",
    "\n",
    "\n",
    "    # Objective\n",
    "    preference_cost = S.Sum([PCOSTM[i, j] * x[i,j] for i in range(N_FAMILIES)\n",
    "                                                                            for j in DESIRED[i, :] ])\n",
    "    \n",
    "\n",
    "    S.Minimize(preference_cost)\n",
    "\n",
    "\n",
    "    # Constraints\n",
    "    for j in range(N_DAYS-1):\n",
    "        S.Add(daily_occupancy[j]   - daily_occupancy[j+1] <= 23)\n",
    "        S.Add(daily_occupancy[j+1] - daily_occupancy[j]   <= 23)\n",
    "    \n",
    "    for i in range(N_FAMILIES):\n",
    "        S.Add(family_presence[i] == 1)\n",
    "\n",
    "    for j in range(N_DAYS):\n",
    "        S.Add(daily_occupancy[j] >= MIN_OCCUPANCY)\n",
    "        S.Add(daily_occupancy[j] <= MAX_OCCUPANCY)\n",
    "\n",
    "    res = S.Solve()\n",
    "    \n",
    "    resdict = {0:'OPTIMAL', 1:'FEASIBLE', 2:'INFEASIBLE', 3:'UNBOUNDED', \n",
    "               4:'ABNORMAL', 5:'MODEL_INVALID', 6:'NOT_SOLVED'}\n",
    "    \n",
    "    print('MIP solver result:', resdict[res])\n",
    "    \n",
    "                \n",
    "    l = [(i, j) for i in range(N_FAMILIES)\n",
    "                 for j in DESIRED[i, :] \n",
    "                 if x[i, j].solution_value()>0]\n",
    "\n",
    "\n",
    "    df = pd.DataFrame(l, columns=['family_id', 'day'])\n",
    "    return df\n"
   ]
  },
  {
   "cell_type": "markdown",
   "metadata": {},
   "source": [
    "### Solve"
   ]
  },
  {
   "cell_type": "code",
   "execution_count": null,
   "metadata": {
    "ExecuteTime": {
     "start_time": "2020-01-06T09:16:42.892Z"
    }
   },
   "outputs": [],
   "source": [
    "tmp_rdf = solveSantaIP()"
   ]
  },
  {
   "cell_type": "code",
   "execution_count": 142,
   "metadata": {
    "ExecuteTime": {
     "end_time": "2020-01-05T16:11:19.847087Z",
     "start_time": "2020-01-05T16:11:19.834791Z"
    }
   },
   "outputs": [],
   "source": [
    "tmp_df2 = pd.concat((assigned_tmp_df[['family_id', 'day']], tmp_rdf)).sort_values('family_id')\n",
    "tmp_df2['family_size'] = FAMILY_SIZE[tmp_df2.family_id]\n",
    "\n",
    "occupancy2 = tmp_df2.groupby('day').family_size.sum().values\n",
    "min_occupancy2 = np.array([max(0, MIN_OCCUPANCY-o) for o in occupancy2])\n",
    "max_occupancy2 = np.array([MAX_OCCUPANCY - o for o in occupancy2])"
   ]
  },
  {
   "cell_type": "markdown",
   "metadata": {},
   "source": [
    "### Check"
   ]
  },
  {
   "cell_type": "code",
   "execution_count": 143,
   "metadata": {
    "ExecuteTime": {
     "end_time": "2020-01-05T16:11:33.911068Z",
     "start_time": "2020-01-05T16:11:33.899692Z"
    }
   },
   "outputs": [
    {
     "name": "stdout",
     "output_type": "stream",
     "text": [
      "Assigened :  5000\n",
      " - Under Min Occupancies :  0\n",
      " - Over Max Occupancies :  0\n"
     ]
    }
   ],
   "source": [
    "print('Assigened : ', len(tmp_df2.family_id.unique()))\n",
    "print(' - Under Min Occupancies : ', len(min_occupancy2[min_occupancy2 != 0]))\n",
    "print(' - Over Max Occupancies : ', len(max_occupancy2[max_occupancy2 < 0]))"
   ]
  },
  {
   "cell_type": "markdown",
   "metadata": {},
   "source": [
    "## Swapper"
   ]
  },
  {
   "cell_type": "markdown",
   "metadata": {},
   "source": [
    "### Make Solver"
   ]
  },
  {
   "cell_type": "code",
   "execution_count": 151,
   "metadata": {
    "ExecuteTime": {
     "end_time": "2020-01-05T16:31:32.837219Z",
     "start_time": "2020-01-05T16:31:32.822660Z"
    }
   },
   "outputs": [],
   "source": [
    "def findBetterDay4Family(pred):\n",
    "    fobs = np.argsort(FAMILY_SIZE)\n",
    "    score = cost_function(pred)\n",
    "    original_score = np.inf\n",
    "    \n",
    "    while original_score>score:\n",
    "        original_score = score\n",
    "        for family_id in fobs:\n",
    "            for pick in range(10):\n",
    "                day = DESIRED[family_id, pick]\n",
    "                oldvalue = pred[family_id]\n",
    "                pred[family_id] = day\n",
    "                new_score = cost_function(pred)\n",
    "                if new_score<score:\n",
    "                    score = new_score\n",
    "                else:\n",
    "                    pred[family_id] = oldvalue\n",
    "\n",
    "        print(score, end='\\r')\n",
    "    print(score)"
   ]
  },
  {
   "cell_type": "code",
   "execution_count": 155,
   "metadata": {
    "ExecuteTime": {
     "end_time": "2020-01-05T17:24:25.067297Z",
     "start_time": "2020-01-05T17:24:25.046803Z"
    }
   },
   "outputs": [],
   "source": [
    "def stochastic_product_search(top_k, fam_size, original, \n",
    "                              verbose=1000, verbose2=50000,\n",
    "                              n_iter=500, random_state=2019):\n",
    "    \"\"\"\n",
    "    original (np.array): The original day assignments.\n",
    "    \n",
    "    At every iterations, randomly sample fam_size families. Then, given their top_k\n",
    "    choices, compute the Cartesian product of the families' choices, and compute the\n",
    "    score for each of those top_k^fam_size products.\n",
    "    \"\"\"\n",
    "    \n",
    "    best = original.copy()\n",
    "    best_score = cost_function(best)\n",
    "    \n",
    "    np.random.seed(random_state)\n",
    "\n",
    "    for i in range(n_iter):\n",
    "        fam_indices = np.random.choice(range(DESIRED.shape[0]), size=fam_size)\n",
    "        changes = np.array(list(product(*DESIRED[fam_indices, :top_k].tolist())))\n",
    "\n",
    "        for change in changes:\n",
    "            new = best.copy()\n",
    "            new[fam_indices] = change\n",
    "\n",
    "            new_score = cost_function(new)\n",
    "\n",
    "            if new_score < best_score:\n",
    "                best_score = new_score\n",
    "                best = new\n",
    "                \n",
    "        if verbose and i % verbose == 0:\n",
    "            print(f\"Iteration #{i}: Best score is {best_score:.2f}      \", end='\\r')\n",
    "            \n",
    "        if verbose2 and i % verbose2 == 0:\n",
    "            print(f\"Iteration #{i}: Best score is {best_score:.2f}      \")\n",
    "    \n",
    "    print(f\"Final best score is {best_score:.2f}\")\n",
    "    return best"
   ]
  },
  {
   "cell_type": "code",
   "execution_count": 1,
   "metadata": {
    "ExecuteTime": {
     "end_time": "2020-01-06T11:27:39.554766Z",
     "start_time": "2020-01-06T11:27:39.477388Z"
    }
   },
   "outputs": [
    {
     "ename": "NameError",
     "evalue": "name 'np' is not defined",
     "output_type": "error",
     "traceback": [
      "\u001b[0;31m---------------------------------------------------------------------------\u001b[0m",
      "\u001b[0;31mNameError\u001b[0m                                 Traceback (most recent call last)",
      "\u001b[0;32m<ipython-input-1-84374ddee3db>\u001b[0m in \u001b[0;36m<module>\u001b[0;34m\u001b[0m\n\u001b[0;32m----> 1\u001b[0;31m \u001b[0mnp\u001b[0m\u001b[0;34m.\u001b[0m\u001b[0marray\u001b[0m\u001b[0;34m(\u001b[0m\u001b[0;34m[\u001b[0m\u001b[0;36m1\u001b[0m\u001b[0;34m,\u001b[0m\u001b[0;36m2\u001b[0m\u001b[0;34m,\u001b[0m\u001b[0;36m3\u001b[0m\u001b[0;34m,\u001b[0m\u001b[0;36m4\u001b[0m\u001b[0;34m]\u001b[0m\u001b[0;34m)\u001b[0m\u001b[0;34m\u001b[0m\u001b[0;34m\u001b[0m\u001b[0m\n\u001b[0m",
      "\u001b[0;31mNameError\u001b[0m: name 'np' is not defined"
     ]
    }
   ],
   "source": [
    "a  = np.array([1,2,3,4])"
   ]
  },
  {
   "cell_type": "code",
   "execution_count": 156,
   "metadata": {
    "ExecuteTime": {
     "end_time": "2020-01-05T17:24:40.615396Z",
     "start_time": "2020-01-05T17:24:40.598950Z"
    }
   },
   "outputs": [],
   "source": [
    "def seed_finding(seed, prediction_input):\n",
    "    prediction = prediction_input.copy()\n",
    "    np.random.seed(seed)\n",
    "    best_score = cost_function(prediction)\n",
    "    original_score = best_score\n",
    "    best_pred = prediction.copy()\n",
    "    print(\"SEED: {}   ORIGINAL SCORE: {}\".format(seed, original_score))\n",
    "    for t in range(100):\n",
    "        for i in range(5000):\n",
    "            for j in range(10):\n",
    "                di = prediction[i]\n",
    "                prediction[i] = DESIRED[i, j]\n",
    "                cur_score = cost_function(prediction)\n",
    "\n",
    "                KT = 1\n",
    "                if t < 5:\n",
    "                    KT = 1.5\n",
    "                elif t < 10:\n",
    "                    KT = 4.5\n",
    "                else:\n",
    "                    if cur_score > best_score + 100:\n",
    "                        KT = 3\n",
    "                    elif cur_score > best_score + 50 :\n",
    "                        KT = 2.75\n",
    "                    elif cur_score > best_score + 20:\n",
    "                        KT = 2.5\n",
    "                    elif cur_score > best_score + 10:\n",
    "                        KT = 2\n",
    "                    elif cur_score > best_score:\n",
    "                        KT = 1.5\n",
    "                    else:\n",
    "                        KT = 1\n",
    "\n",
    "                prob = np.exp(-(cur_score - best_score) / KT)\n",
    "                if np.random.rand() < prob:\n",
    "                    best_score = cur_score\n",
    "                else:\n",
    "                    prediction[i] = di\n",
    "        if best_score < original_score:\n",
    "            print(\"NEW BEST SCORE on seed {}: {}\".format(seed, best_score))\n",
    "            original_score = best_score\n",
    "            best_pred = prediction.copy()\n",
    "\n",
    "    return prediction\n"
   ]
  },
  {
   "cell_type": "markdown",
   "metadata": {},
   "source": [
    "### Solve"
   ]
  },
  {
   "cell_type": "code",
   "execution_count": 154,
   "metadata": {
    "ExecuteTime": {
     "end_time": "2020-01-05T16:35:54.639801Z",
     "start_time": "2020-01-05T16:35:46.192317Z"
    }
   },
   "outputs": [
    {
     "name": "stdout",
     "output_type": "stream",
     "text": [
      "72934.86843721337\n"
     ]
    }
   ],
   "source": [
    "tmp_new = tmp_df2.day.values.copy()\n",
    "findBetterDay4Family(tmp_new)"
   ]
  },
  {
   "cell_type": "markdown",
   "metadata": {
    "ExecuteTime": {
     "end_time": "2020-01-05T11:43:53.372935Z",
     "start_time": "2020-01-05T11:43:53.362536Z"
    }
   },
   "source": [
    "# Solve"
   ]
  },
  {
   "cell_type": "markdown",
   "metadata": {},
   "source": [
    "## First Optimize"
   ]
  },
  {
   "cell_type": "code",
   "execution_count": 122,
   "metadata": {
    "ExecuteTime": {
     "end_time": "2020-01-05T16:01:36.334731Z",
     "start_time": "2020-01-05T16:01:36.321388Z"
    }
   },
   "outputs": [],
   "source": [
    "def solveSanta():\n",
    "    df = solveSantaLP() # Initial solution for most of families\n",
    "    \n",
    "    THRS = 0.999\n",
    "\n",
    "    assigned_df   = df[df.n>THRS].copy()\n",
    "    unassigned_df = df[(df.n<=THRS)&(df.n>1-THRS)]\n",
    "    unassigned = unassigned_df.family_id.unique()\n",
    "    print('{} unassigned families'.format(len(unassigned)))\n",
    "\n",
    "\n",
    "    assigned_df['family_size'] = FAMILY_SIZE[assigned_df.family_id]\n",
    "    occupancy = assigned_df.groupby('day').family_size.sum().values\n",
    "    min_occupancy = np.array([max(0, MIN_OCCUPANCY-o) for o in occupancy])\n",
    "    max_occupancy = np.array([MAX_OCCUPANCY - o for o in occupancy])\n",
    "\n",
    "    \n",
    "    rdf = solveSantaIP(unassigned, min_occupancy, max_occupancy) # solve the rest with MIP\n",
    "    df = pd.concat((assigned_df[['family_id', 'day']], rdf)).sort_values('family_id')\n",
    "    return df.day.values"
   ]
  },
  {
   "cell_type": "code",
   "execution_count": 123,
   "metadata": {
    "ExecuteTime": {
     "end_time": "2020-01-05T16:02:02.330442Z",
     "start_time": "2020-01-05T16:01:48.684991Z"
    }
   },
   "outputs": [
    {
     "name": "stdout",
     "output_type": "stream",
     "text": [
      "LP solver result: OPTIMAL\n",
      "69 unassigned families\n",
      "MIP solver result: OPTIMAL\n"
     ]
    }
   ],
   "source": [
    "prediction = solveSanta()"
   ]
  },
  {
   "cell_type": "code",
   "execution_count": 146,
   "metadata": {
    "ExecuteTime": {
     "end_time": "2020-01-05T16:15:18.828774Z",
     "start_time": "2020-01-05T16:15:18.816606Z"
    }
   },
   "outputs": [
    {
     "name": "stdout",
     "output_type": "stream",
     "text": [
      "Preferenced Cost :  72826\n",
      "Accounting Cost :  5193.88\n",
      "Total Cost :  78019.88\n",
      "\n",
      "Max Occupancy : 125 , Min Ocupancy : 299\n"
     ]
    }
   ],
   "source": [
    "pc, occ = pcost(prediction)\n",
    "ac, _ = acost(occ)\n",
    "print('Preferenced Cost : ', pc)\n",
    "print('Accounting Cost : {: .2f}'.format(ac))\n",
    "print('Total Cost : {: .2f}'.format(pc+ac))\n",
    "print('')\n",
    "print('Max Occupancy : {} , Min Ocupancy : {}'.format(occ.min(), occ.max()))"
   ]
  },
  {
   "cell_type": "markdown",
   "metadata": {},
   "source": [
    "## Second Optimize"
   ]
  },
  {
   "cell_type": "code",
   "execution_count": 153,
   "metadata": {
    "ExecuteTime": {
     "end_time": "2020-01-05T16:33:28.325463Z",
     "start_time": "2020-01-05T16:33:19.453396Z"
    }
   },
   "outputs": [
    {
     "name": "stdout",
     "output_type": "stream",
     "text": [
      "72934.86843721337\n"
     ]
    }
   ],
   "source": [
    "new = prediction.copy()\n",
    "findBetterDay4Family(new) "
   ]
  },
  {
   "cell_type": "markdown",
   "metadata": {},
   "source": [
    "## Final Optimize"
   ]
  },
  {
   "cell_type": "code",
   "execution_count": 157,
   "metadata": {
    "ExecuteTime": {
     "end_time": "2020-01-05T18:05:07.942054Z",
     "start_time": "2020-01-05T17:25:16.144591Z"
    }
   },
   "outputs": [
    {
     "name": "stdout",
     "output_type": "stream",
     "text": [
      "Iteration #0: Best score is 72934.87      \n",
      "Iteration #50000: Best score is 72680.13      \n",
      "Iteration #100000: Best score is 72453.78      \n",
      "Iteration #150000: Best score is 72337.23      \n",
      "Iteration #200000: Best score is 72238.21      \n",
      "Iteration #250000: Best score is 72186.68      \n",
      "Iteration #300000: Best score is 72184.50      \n",
      "Iteration #350000: Best score is 72111.72      \n",
      "Iteration #400000: Best score is 72106.55      \n",
      "Iteration #450000: Best score is 72106.55      \n",
      "Final best score is 72097.27e is 72097.27      \n"
     ]
    }
   ],
   "source": [
    "final = stochastic_product_search(\n",
    "        top_k=2,\n",
    "        fam_size=8, \n",
    "        original=new, \n",
    "        n_iter=500000,\n",
    "        verbose=1000,\n",
    "        verbose2=50000,\n",
    "        random_state=2019\n",
    "        )"
   ]
  },
  {
   "cell_type": "code",
   "execution_count": 158,
   "metadata": {
    "ExecuteTime": {
     "end_time": "2020-01-05T18:06:37.662530Z",
     "start_time": "2020-01-05T18:05:08.905869Z"
    }
   },
   "outputs": [
    {
     "name": "stdout",
     "output_type": "stream",
     "text": [
      "SEED: 2019   ORIGINAL SCORE: 72097.27141232525\n",
      "NEW BEST SCORE on seed 2019: 72084.74463530997\n",
      "NEW BEST SCORE on seed 2019: 72076.31715706481\n",
      "NEW BEST SCORE on seed 2019: 72073.70958471282\n",
      "NEW BEST SCORE on seed 2019: 72073.33891430435\n",
      "NEW BEST SCORE on seed 2019: 72071.85689141204\n",
      "NEW BEST SCORE on seed 2019: 72065.16937348587\n",
      "NEW BEST SCORE on seed 2019: 72064.54666906428\n",
      "NEW BEST SCORE on seed 2019: 72058.91738628378\n",
      "NEW BEST SCORE on seed 2019: 72056.87895660778\n",
      "NEW BEST SCORE on seed 2019: 72053.58763298433\n"
     ]
    }
   ],
   "source": [
    "final = seed_finding(2019, final)"
   ]
  },
  {
   "cell_type": "markdown",
   "metadata": {},
   "source": [
    "# Submit"
   ]
  },
  {
   "cell_type": "code",
   "execution_count": 159,
   "metadata": {
    "ExecuteTime": {
     "end_time": "2020-01-05T18:06:37.686336Z",
     "start_time": "2020-01-05T18:06:37.664181Z"
    }
   },
   "outputs": [],
   "source": [
    "sub = pd.DataFrame(range(N_FAMILIES), columns=['family_id'])\n",
    "sub['assigned_day'] = final+1\n",
    "sub.to_csv('../submissions/submission_kernel_lp_mip_swap.csv', index=False)"
   ]
  }
 ],
 "metadata": {
  "kernelspec": {
   "display_name": "py37",
   "language": "python",
   "name": "py37"
  },
  "language_info": {
   "codemirror_mode": {
    "name": "ipython",
    "version": 3
   },
   "file_extension": ".py",
   "mimetype": "text/x-python",
   "name": "python",
   "nbconvert_exporter": "python",
   "pygments_lexer": "ipython3",
   "version": "3.7.3"
  },
  "toc": {
   "base_numbering": 1,
   "nav_menu": {},
   "number_sections": true,
   "sideBar": true,
   "skip_h1_title": false,
   "title_cell": "Table of Contents",
   "title_sidebar": "Contents",
   "toc_cell": false,
   "toc_position": {
    "height": "calc(100% - 180px)",
    "left": "10px",
    "top": "150px",
    "width": "320px"
   },
   "toc_section_display": true,
   "toc_window_display": true
  }
 },
 "nbformat": 4,
 "nbformat_minor": 2
}
