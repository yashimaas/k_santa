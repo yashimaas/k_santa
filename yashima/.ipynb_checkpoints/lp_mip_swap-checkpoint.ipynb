{
 "cells": [
  {
   "cell_type": "markdown",
   "metadata": {},
   "source": [
    "# Imports"
   ]
  },
  {
   "cell_type": "code",
   "execution_count": 1,
   "metadata": {
    "ExecuteTime": {
     "end_time": "2020-01-06T07:37:52.694277Z",
     "start_time": "2020-01-06T07:37:51.920984Z"
    }
   },
   "outputs": [],
   "source": [
    "import numpy as np\n",
    "import pandas as pd\n",
    "from numba import njit\n",
    "from itertools import product\n",
    "from ortools.linear_solver import pywraplp"
   ]
  },
  {
   "cell_type": "markdown",
   "metadata": {},
   "source": [
    "# Initialize"
   ]
  },
  {
   "cell_type": "markdown",
   "metadata": {},
   "source": [
    "## Load Data"
   ]
  },
  {
   "cell_type": "code",
   "execution_count": 2,
   "metadata": {
    "ExecuteTime": {
     "end_time": "2020-01-06T07:37:54.083309Z",
     "start_time": "2020-01-06T07:37:54.065037Z"
    }
   },
   "outputs": [],
   "source": [
    "data = pd.read_csv('../data/family_data.csv', index_col='family_id')"
   ]
  },
  {
   "cell_type": "markdown",
   "metadata": {},
   "source": [
    "## Set Static Variables"
   ]
  },
  {
   "cell_type": "code",
   "execution_count": 3,
   "metadata": {
    "ExecuteTime": {
     "end_time": "2020-01-06T07:37:54.883233Z",
     "start_time": "2020-01-06T07:37:54.878321Z"
    }
   },
   "outputs": [],
   "source": [
    "N_DAYS = 100\n",
    "N_FAMILIES = 5000\n",
    "MAX_OCCUPANCY = 300\n",
    "MIN_OCCUPANCY = 125\n",
    "\n",
    "FAMILY_SIZE = data.n_people.values\n",
    "DESIRED     = data.values[:, :-1] - 1"
   ]
  },
  {
   "cell_type": "markdown",
   "metadata": {},
   "source": [
    "# CostFunction"
   ]
  },
  {
   "cell_type": "markdown",
   "metadata": {},
   "source": [
    "## Preference Cost"
   ]
  },
  {
   "cell_type": "markdown",
   "metadata": {},
   "source": [
    "### Preference Cost Function"
   ]
  },
  {
   "cell_type": "code",
   "execution_count": 4,
   "metadata": {
    "ExecuteTime": {
     "end_time": "2020-01-06T07:37:57.537082Z",
     "start_time": "2020-01-06T07:37:57.522263Z"
    }
   },
   "outputs": [],
   "source": [
    "def get_penalty(n, choice):\n",
    "    penalty = None\n",
    "    if choice == 0:\n",
    "        penalty = 0\n",
    "    elif choice == 1:\n",
    "        penalty = 50\n",
    "    elif choice == 2:\n",
    "        penalty = 50 + 9 * n\n",
    "    elif choice == 3:\n",
    "        penalty = 100 + 9 * n\n",
    "    elif choice == 4:\n",
    "        penalty = 200 + 9 * n\n",
    "    elif choice == 5:\n",
    "        penalty = 200 + 18 * n\n",
    "    elif choice == 6:\n",
    "        penalty = 300 + 18 * n\n",
    "    elif choice == 7:\n",
    "        penalty = 300 + 36 * n\n",
    "    elif choice == 8:\n",
    "        penalty = 400 + 36 * n\n",
    "    elif choice == 9:\n",
    "        penalty = 500 + 36 * n + 199 * n\n",
    "    else:\n",
    "        penalty = 500 + 36 * n + 398 * n\n",
    "    return penalty"
   ]
  },
  {
   "cell_type": "code",
   "execution_count": 5,
   "metadata": {
    "ExecuteTime": {
     "end_time": "2020-01-06T07:37:57.734978Z",
     "start_time": "2020-01-06T07:37:57.728392Z"
    }
   },
   "outputs": [],
   "source": [
    "def GetPreferenceCostMatrix(data):\n",
    "    cost_matrix = np.zeros((N_FAMILIES, N_DAYS), dtype=np.int64)\n",
    "    for i in range(N_FAMILIES):\n",
    "        desired = data.values[i, :-1]\n",
    "        cost_matrix[i, :] = get_penalty(FAMILY_SIZE[i], 10)\n",
    "        for j, day in enumerate(desired):\n",
    "            cost_matrix[i, day-1] = get_penalty(FAMILY_SIZE[i], j)\n",
    "    return cost_matrix"
   ]
  },
  {
   "cell_type": "markdown",
   "metadata": {},
   "source": [
    "### Make Matrix"
   ]
  },
  {
   "cell_type": "code",
   "execution_count": 6,
   "metadata": {
    "ExecuteTime": {
     "end_time": "2020-01-06T07:37:58.664320Z",
     "start_time": "2020-01-06T07:37:58.499341Z"
    }
   },
   "outputs": [],
   "source": [
    "PCOSTM = GetPreferenceCostMatrix(data)"
   ]
  },
  {
   "cell_type": "code",
   "execution_count": 7,
   "metadata": {
    "ExecuteTime": {
     "end_time": "2020-01-06T07:37:59.075827Z",
     "start_time": "2020-01-06T07:37:59.053066Z"
    }
   },
   "outputs": [
    {
     "name": "stdout",
     "output_type": "stream",
     "text": [
      "(5000, 100)\n"
     ]
    },
    {
     "data": {
      "text/plain": [
       "array([2236, 2236, 2236, 2236, 2236, 2236, 2236, 2236, 2236,  544, 2236,\n",
       "         86, 2236, 2236, 2236, 2236, 2236, 2236, 2236, 2236, 2236, 2236,\n",
       "       2236, 2236, 2236, 2236, 2236, 1440, 2236, 2236, 2236, 2236,  236,\n",
       "       2236, 2236, 2236, 2236,   50, 2236, 2236, 2236, 2236, 2236, 2236,\n",
       "       2236, 2236, 2236, 2236, 2236, 2236, 2236,    0, 2236, 2236, 2236,\n",
       "       2236, 2236, 2236, 2236, 2236, 2236, 2236, 2236,  372, 2236, 2236,\n",
       "       2236, 2236, 2236, 2236, 2236, 2236, 2236, 2236,  272,  444, 2236,\n",
       "       2236, 2236, 2236, 2236,  136, 2236, 2236, 2236, 2236, 2236, 2236,\n",
       "       2236, 2236, 2236, 2236, 2236, 2236, 2236, 2236, 2236, 2236, 2236,\n",
       "       2236])"
      ]
     },
     "execution_count": 7,
     "metadata": {},
     "output_type": "execute_result"
    }
   ],
   "source": [
    "print(PCOSTM.shape)\n",
    "PCOSTM[0]"
   ]
  },
  {
   "cell_type": "markdown",
   "metadata": {},
   "source": [
    "### Caluclate Preference Cost"
   ]
  },
  {
   "cell_type": "code",
   "execution_count": 8,
   "metadata": {
    "ExecuteTime": {
     "end_time": "2020-01-06T07:38:02.316427Z",
     "start_time": "2020-01-06T07:38:02.307946Z"
    }
   },
   "outputs": [],
   "source": [
    "@njit(fastmath=True)\n",
    "def pcost(prediction):\n",
    "    daily_occupancy = np.zeros(N_DAYS+1, dtype=np.int64)\n",
    "    penalty = 0\n",
    "    for (i, p) in enumerate(prediction):\n",
    "        n = FAMILY_SIZE[i]\n",
    "        penalty += PCOSTM[i, p]\n",
    "        daily_occupancy[p] += n\n",
    "    return penalty, daily_occupancy"
   ]
  },
  {
   "cell_type": "markdown",
   "metadata": {},
   "source": [
    "## Accounting Cost"
   ]
  },
  {
   "cell_type": "markdown",
   "metadata": {},
   "source": [
    "### Accounting Cost Function"
   ]
  },
  {
   "cell_type": "code",
   "execution_count": 9,
   "metadata": {
    "ExecuteTime": {
     "end_time": "2020-01-06T07:38:03.231126Z",
     "start_time": "2020-01-06T07:38:03.224685Z"
    }
   },
   "outputs": [],
   "source": [
    "def GetAccountingCostMatrix():\n",
    "    ac = np.zeros((1000, 1000), dtype=np.float64)\n",
    "    for n in range(ac.shape[0]):\n",
    "        for n_p1 in range(ac.shape[1]):\n",
    "            diff = abs(n - n_p1)\n",
    "            ac[n, n_p1] = max(0, (n - 125) / 400 * n**(0.5 + diff / 50.0))\n",
    "    return ac"
   ]
  },
  {
   "cell_type": "markdown",
   "metadata": {},
   "source": [
    "### Make Matrix"
   ]
  },
  {
   "cell_type": "code",
   "execution_count": 10,
   "metadata": {
    "ExecuteTime": {
     "end_time": "2020-01-06T07:38:06.505123Z",
     "start_time": "2020-01-06T07:38:05.839321Z"
    }
   },
   "outputs": [],
   "source": [
    "ACOSTM = GetAccountingCostMatrix() "
   ]
  },
  {
   "cell_type": "code",
   "execution_count": 11,
   "metadata": {
    "ExecuteTime": {
     "end_time": "2020-01-06T07:38:06.522661Z",
     "start_time": "2020-01-06T07:38:06.507119Z"
    }
   },
   "outputs": [
    {
     "name": "stdout",
     "output_type": "stream",
     "text": [
      "(1000, 1000)\n"
     ]
    },
    {
     "data": {
      "text/plain": [
       "array([[0.00000000e+00, 0.00000000e+00, 0.00000000e+00, ...,\n",
       "        0.00000000e+00, 0.00000000e+00, 0.00000000e+00],\n",
       "       [0.00000000e+00, 0.00000000e+00, 0.00000000e+00, ...,\n",
       "        0.00000000e+00, 0.00000000e+00, 0.00000000e+00],\n",
       "       [0.00000000e+00, 0.00000000e+00, 0.00000000e+00, ...,\n",
       "        0.00000000e+00, 0.00000000e+00, 0.00000000e+00],\n",
       "       ...,\n",
       "       [4.28336940e+61, 3.73088297e+61, 3.24965849e+61, ...,\n",
       "        6.88341688e+01, 7.90274513e+01, 9.07302023e+01],\n",
       "       [5.02533626e+61, 4.37706017e+61, 3.81241268e+61, ...,\n",
       "        7.91593344e+01, 6.89476587e+01, 7.91593344e+01],\n",
       "       [5.89593436e+61, 5.13524692e+61, 4.47270259e+61, ...,\n",
       "        9.10367626e+01, 7.92912921e+01, 6.90612103e+01]])"
      ]
     },
     "execution_count": 11,
     "metadata": {},
     "output_type": "execute_result"
    }
   ],
   "source": [
    "print(ACOSTM.shape)\n",
    "ACOSTM"
   ]
  },
  {
   "cell_type": "markdown",
   "metadata": {},
   "source": [
    "### Caluculate Accounting Cost"
   ]
  },
  {
   "cell_type": "code",
   "execution_count": 12,
   "metadata": {
    "ExecuteTime": {
     "end_time": "2020-01-06T07:38:08.310017Z",
     "start_time": "2020-01-06T07:38:08.304059Z"
    }
   },
   "outputs": [],
   "source": [
    "@njit(fastmath=True)\n",
    "def acost(daily_occupancy):\n",
    "    accounting_cost = 0\n",
    "    n_out_of_range = 0\n",
    "    daily_occupancy[-1] = daily_occupancy[-2]\n",
    "    for day in range(N_DAYS):\n",
    "        n_p1 = daily_occupancy[day + 1]\n",
    "        n    = daily_occupancy[day]\n",
    "        n_out_of_range += (n > MAX_OCCUPANCY) or (n < MIN_OCCUPANCY)\n",
    "        accounting_cost += ACOSTM[n, n_p1]\n",
    "    return accounting_cost, n_out_of_range"
   ]
  },
  {
   "cell_type": "markdown",
   "metadata": {},
   "source": [
    "## Total Cost"
   ]
  },
  {
   "cell_type": "code",
   "execution_count": 13,
   "metadata": {
    "ExecuteTime": {
     "end_time": "2020-01-06T07:38:10.551458Z",
     "start_time": "2020-01-06T07:38:10.547868Z"
    }
   },
   "outputs": [],
   "source": [
    "@njit(fastmath=True)\n",
    "def cost_function(prediction):\n",
    "    penalty, daily_occupancy = pcost(prediction)\n",
    "    accounting_cost, n_out_of_range = acost(daily_occupancy)\n",
    "    return penalty + accounting_cost + n_out_of_range*100000000"
   ]
  },
  {
   "cell_type": "markdown",
   "metadata": {},
   "source": [
    "# Solver"
   ]
  },
  {
   "cell_type": "markdown",
   "metadata": {},
   "source": [
    "## Linear Programming Solver"
   ]
  },
  {
   "cell_type": "markdown",
   "metadata": {},
   "source": [
    "### Make Solver"
   ]
  },
  {
   "cell_type": "code",
   "execution_count": 14,
   "metadata": {
    "ExecuteTime": {
     "end_time": "2020-01-06T07:38:12.527123Z",
     "start_time": "2020-01-06T07:38:12.471784Z"
    }
   },
   "outputs": [],
   "source": [
    "def solveSantaLP():\n",
    "    \n",
    "    S = pywraplp.Solver('SolveAssignmentProblem', pywraplp.Solver.GLOP_LINEAR_PROGRAMMING)\n",
    "    \n",
    "    #S.SetNumThreads(NumThreads) \n",
    "    #S.set_time_limit(limit_in_seconds*1000*NumThreads) #cpu time = wall time * N_threads\n",
    "    \n",
    "    x = {}\n",
    "    candidates = [[] for _ in range(N_DAYS)] #families that can be assigned to each day\n",
    "\n",
    "    for i in range(N_FAMILIES):\n",
    "        for j in DESIRED[i, :]:\n",
    "            candidates[j].append(i)\n",
    "            x[i, j] = S.BoolVar('x[%i,%i]' % (i, j))\n",
    "\n",
    "            \n",
    "    daily_occupancy = [S.Sum([x[i, j] * FAMILY_SIZE[i] for i in candidates[j]])\n",
    "                                                                                   for j in range(N_DAYS)]\n",
    "\n",
    "    family_presence = [S.Sum([x[i, j] for j in DESIRED[i, :]])\n",
    "                                                        for i in range(N_FAMILIES)]\n",
    "\n",
    "\n",
    "\n",
    "    # Objective\n",
    "    preference_cost = S.Sum([PCOSTM[i, j] * x[i,j] for i in range(N_FAMILIES)\n",
    "                                                                            for j in DESIRED[i, :] ])\n",
    "\n",
    "    S.Minimize(preference_cost)\n",
    "\n",
    "\n",
    "\n",
    "    # Constraints\n",
    "    for j in range(N_DAYS-1):\n",
    "        S.Add(daily_occupancy[j]   - daily_occupancy[j+1] <= 23)\n",
    "        S.Add(daily_occupancy[j+1] - daily_occupancy[j]   <= 23)\n",
    "\n",
    "    for i in range(N_FAMILIES):\n",
    "        S.Add(family_presence[i] == 1)\n",
    "\n",
    "    for j in range(N_DAYS):\n",
    "        S.Add(daily_occupancy[j] >= MIN_OCCUPANCY)\n",
    "        S.Add(daily_occupancy[j] <= MAX_OCCUPANCY)\n",
    "\n",
    "\n",
    "\n",
    "    res = S.Solve()\n",
    "\n",
    "    resdict = {0:'OPTIMAL', 1:'FEASIBLE', 2:'INFEASIBLE', 3:'UNBOUNDED', \n",
    "               4:'ABNORMAL', 5:'MODEL_INVALID', 6:'NOT_SOLVED'}\n",
    "\n",
    "    print('LP solver result:', resdict[res])\n",
    "\n",
    "\n",
    "    l = [(i, j, x[i, j].solution_value()) for i in range(N_FAMILIES)\n",
    "                                                      for j in DESIRED[i, :] \n",
    "                                                      if x[i, j].solution_value()>0]\n",
    "\n",
    "    df = pd.DataFrame(l, columns=['family_id', 'day', 'n'])\n",
    "    return df"
   ]
  },
  {
   "cell_type": "markdown",
   "metadata": {},
   "source": [
    "### Solve"
   ]
  },
  {
   "cell_type": "code",
   "execution_count": 15,
   "metadata": {
    "ExecuteTime": {
     "end_time": "2020-01-06T07:38:30.821648Z",
     "start_time": "2020-01-06T07:38:15.051286Z"
    }
   },
   "outputs": [
    {
     "name": "stdout",
     "output_type": "stream",
     "text": [
      "LP solver result: OPTIMAL\n"
     ]
    }
   ],
   "source": [
    "df_tmp = solveSantaLP()"
   ]
  },
  {
   "cell_type": "markdown",
   "metadata": {},
   "source": [
    "### Check"
   ]
  },
  {
   "cell_type": "code",
   "execution_count": 16,
   "metadata": {
    "ExecuteTime": {
     "end_time": "2020-01-06T07:38:30.835888Z",
     "start_time": "2020-01-06T07:38:30.824132Z"
    }
   },
   "outputs": [
    {
     "data": {
      "text/html": [
       "<div>\n",
       "<style scoped>\n",
       "    .dataframe tbody tr th:only-of-type {\n",
       "        vertical-align: middle;\n",
       "    }\n",
       "\n",
       "    .dataframe tbody tr th {\n",
       "        vertical-align: top;\n",
       "    }\n",
       "\n",
       "    .dataframe thead th {\n",
       "        text-align: right;\n",
       "    }\n",
       "</style>\n",
       "<table border=\"1\" class=\"dataframe\">\n",
       "  <thead>\n",
       "    <tr style=\"text-align: right;\">\n",
       "      <th></th>\n",
       "      <th>family_id</th>\n",
       "      <th>day</th>\n",
       "      <th>n</th>\n",
       "    </tr>\n",
       "  </thead>\n",
       "  <tbody>\n",
       "    <tr>\n",
       "      <th>0</th>\n",
       "      <td>0</td>\n",
       "      <td>51</td>\n",
       "      <td>1.0</td>\n",
       "    </tr>\n",
       "    <tr>\n",
       "      <th>1</th>\n",
       "      <td>1</td>\n",
       "      <td>25</td>\n",
       "      <td>1.0</td>\n",
       "    </tr>\n",
       "    <tr>\n",
       "      <th>2</th>\n",
       "      <td>2</td>\n",
       "      <td>99</td>\n",
       "      <td>1.0</td>\n",
       "    </tr>\n",
       "  </tbody>\n",
       "</table>\n",
       "</div>"
      ],
      "text/plain": [
       "   family_id  day    n\n",
       "0          0   51  1.0\n",
       "1          1   25  1.0\n",
       "2          2   99  1.0"
      ]
     },
     "execution_count": 16,
     "metadata": {},
     "output_type": "execute_result"
    }
   ],
   "source": [
    "df_tmp.head(3)"
   ]
  },
  {
   "cell_type": "code",
   "execution_count": 17,
   "metadata": {
    "ExecuteTime": {
     "end_time": "2020-01-06T07:38:33.676046Z",
     "start_time": "2020-01-06T07:38:33.662906Z"
    }
   },
   "outputs": [
    {
     "data": {
      "text/html": [
       "<div>\n",
       "<style scoped>\n",
       "    .dataframe tbody tr th:only-of-type {\n",
       "        vertical-align: middle;\n",
       "    }\n",
       "\n",
       "    .dataframe tbody tr th {\n",
       "        vertical-align: top;\n",
       "    }\n",
       "\n",
       "    .dataframe thead th {\n",
       "        text-align: right;\n",
       "    }\n",
       "</style>\n",
       "<table border=\"1\" class=\"dataframe\">\n",
       "  <thead>\n",
       "    <tr style=\"text-align: right;\">\n",
       "      <th></th>\n",
       "      <th>family_id</th>\n",
       "      <th>day</th>\n",
       "      <th>n</th>\n",
       "    </tr>\n",
       "  </thead>\n",
       "  <tbody>\n",
       "    <tr>\n",
       "      <th>16</th>\n",
       "      <td>16</td>\n",
       "      <td>45</td>\n",
       "      <td>0.333333</td>\n",
       "    </tr>\n",
       "    <tr>\n",
       "      <th>17</th>\n",
       "      <td>16</td>\n",
       "      <td>49</td>\n",
       "      <td>0.666667</td>\n",
       "    </tr>\n",
       "    <tr>\n",
       "      <th>70</th>\n",
       "      <td>69</td>\n",
       "      <td>4</td>\n",
       "      <td>0.041667</td>\n",
       "    </tr>\n",
       "    <tr>\n",
       "      <th>71</th>\n",
       "      <td>69</td>\n",
       "      <td>21</td>\n",
       "      <td>0.958333</td>\n",
       "    </tr>\n",
       "    <tr>\n",
       "      <th>152</th>\n",
       "      <td>150</td>\n",
       "      <td>59</td>\n",
       "      <td>0.750000</td>\n",
       "    </tr>\n",
       "  </tbody>\n",
       "</table>\n",
       "</div>"
      ],
      "text/plain": [
       "     family_id  day         n\n",
       "16          16   45  0.333333\n",
       "17          16   49  0.666667\n",
       "70          69    4  0.041667\n",
       "71          69   21  0.958333\n",
       "152        150   59  0.750000"
      ]
     },
     "execution_count": 17,
     "metadata": {},
     "output_type": "execute_result"
    }
   ],
   "source": [
    "df_tmp[df_tmp.n<=0.999].head()"
   ]
  },
  {
   "cell_type": "code",
   "execution_count": 18,
   "metadata": {
    "ExecuteTime": {
     "end_time": "2020-01-06T07:38:36.117825Z",
     "start_time": "2020-01-06T07:38:36.108760Z"
    }
   },
   "outputs": [
    {
     "name": "stdout",
     "output_type": "stream",
     "text": [
      "--- About df_tmp.n ---\n",
      "Over 1.0 :  0\n",
      "Under 0.999 :  149\n"
     ]
    }
   ],
   "source": [
    "print('--- About df_tmp.n ---')\n",
    "print('Over 1.0 : ', len(df_tmp[df_tmp.n > 1.0]))\n",
    "print('Under 0.999 : ', len(df_tmp[df_tmp.n < 0.999]))"
   ]
  },
  {
   "cell_type": "code",
   "execution_count": 19,
   "metadata": {
    "ExecuteTime": {
     "end_time": "2020-01-06T07:38:37.783403Z",
     "start_time": "2020-01-06T07:38:37.767934Z"
    }
   },
   "outputs": [],
   "source": [
    "assigned_tmp_df = df_tmp[df_tmp.n > 0.999].copy()\n",
    "assigned_tmp_df['family_size'] = FAMILY_SIZE[assigned_tmp_df.family_id]\n",
    "occupancy = assigned_tmp_df.groupby('day').family_size.sum().values\n",
    "min_occupancy = np.array([max(0, MIN_OCCUPANCY-o) for o in occupancy])\n",
    "max_occupancy = np.array([MAX_OCCUPANCY - o for o in occupancy])\n",
    "\n",
    "unassigned_tmp_df = df_tmp[(df_tmp.n <= 0.999) & (df_tmp.n > (1 - 0.999))]"
   ]
  },
  {
   "cell_type": "code",
   "execution_count": 20,
   "metadata": {
    "ExecuteTime": {
     "end_time": "2020-01-06T07:38:38.313492Z",
     "start_time": "2020-01-06T07:38:38.303921Z"
    },
    "scrolled": true
   },
   "outputs": [
    {
     "name": "stdout",
     "output_type": "stream",
     "text": [
      "Assigened :  4931\n",
      " - Under Min Occupancies :  7\n",
      "    [1 4 1 5 2 3 1]\n",
      " - Over Max Occupancies :  0\n",
      "\n",
      "Unassigned :  69\n"
     ]
    }
   ],
   "source": [
    "print('Assigened : ', len(assigned_tmp_df.family_id.unique()))\n",
    "print(' - Under Min Occupancies : ', len(min_occupancy[min_occupancy != 0]))\n",
    "print('   ', min_occupancy[min_occupancy != 0])\n",
    "print(' - Over Max Occupancies : ', len(max_occupancy[max_occupancy < 0]))\n",
    "print('')\n",
    "print('Unassigned : ', len(unassigned_tmp_df.family_id.unique()))"
   ]
  },
  {
   "cell_type": "markdown",
   "metadata": {},
   "source": [
    "## Mixed Integer Programming Solver"
   ]
  },
  {
   "cell_type": "markdown",
   "metadata": {},
   "source": [
    "### Make Solver"
   ]
  },
  {
   "cell_type": "code",
   "execution_count": 21,
   "metadata": {
    "ExecuteTime": {
     "end_time": "2020-01-06T07:38:41.279463Z",
     "start_time": "2020-01-06T07:38:41.255867Z"
    }
   },
   "outputs": [],
   "source": [
    "def solveSantaIP(families, min_occupancy, max_occupancy):\n",
    "\n",
    "    S = pywraplp.Solver('SolveAssignmentProblem', pywraplp.Solver.CBC_MIXED_INTEGER_PROGRAMMING)\n",
    "    \n",
    "    #S.SetNumThreads(NumThreads) \n",
    "    #S.set_time_limit(limit_in_seconds*1000*NumThreads) #cpu time = wall time * N_threads\n",
    "\n",
    "    n_families = len(families)\n",
    "    \n",
    "    x = {}\n",
    "    candidates = [[] for _ in range(N_DAYS)] #families that can be assigned to each day\n",
    "\n",
    "    for i in families:\n",
    "        for j in DESIRED[i, :]:\n",
    "            candidates[j].append(i)\n",
    "            x[i, j] = S.BoolVar('x[%i,%i]' % (i, j))\n",
    "\n",
    "            \n",
    "    daily_occupancy = [S.Sum([x[i, j] * FAMILY_SIZE[i] for i in candidates[j]])\n",
    "                                                                                   for j in range(N_DAYS)]\n",
    "\n",
    "    family_presence = [S.Sum([x[i, j] for j in DESIRED[i, :]])\n",
    "                                                        for i in families]\n",
    "\n",
    "\n",
    "\n",
    "    # Objective\n",
    "    preference_cost = S.Sum([PCOSTM[i, j] * x[i,j] for i in families\n",
    "                                                                            for j in DESIRED[i, :] ])\n",
    "    \n",
    "\n",
    "    S.Minimize(preference_cost)\n",
    "\n",
    "\n",
    "    # Constraints\n",
    "\n",
    "    for i in range(n_families):\n",
    "        S.Add(family_presence[i] == 1)\n",
    "\n",
    "    for j in range(N_DAYS):\n",
    "        S.Add(daily_occupancy[j] >= min_occupancy[j])\n",
    "        S.Add(daily_occupancy[j] <= max_occupancy[j])\n",
    "\n",
    "    res = S.Solve()\n",
    "    \n",
    "    resdict = {0:'OPTIMAL', 1:'FEASIBLE', 2:'INFEASIBLE', 3:'UNBOUNDED', \n",
    "               4:'ABNORMAL', 5:'MODEL_INVALID', 6:'NOT_SOLVED'}\n",
    "    \n",
    "    print('MIP solver result:', resdict[res])\n",
    "    \n",
    "                \n",
    "    l = [(i, j) for i in families\n",
    "                 for j in DESIRED[i, :] \n",
    "                 if x[i, j].solution_value()>0]\n",
    "\n",
    "\n",
    "    df = pd.DataFrame(l, columns=['family_id', 'day'])\n",
    "    return df\n"
   ]
  },
  {
   "cell_type": "markdown",
   "metadata": {},
   "source": [
    "### Solve"
   ]
  },
  {
   "cell_type": "code",
   "execution_count": 22,
   "metadata": {
    "ExecuteTime": {
     "end_time": "2020-01-06T07:38:43.624601Z",
     "start_time": "2020-01-06T07:38:43.498797Z"
    }
   },
   "outputs": [
    {
     "name": "stdout",
     "output_type": "stream",
     "text": [
      "MIP solver result: OPTIMAL\n"
     ]
    }
   ],
   "source": [
    "tmp_rdf = solveSantaIP(unassigned_tmp_df.family_id.unique(), min_occupancy, max_occupancy)"
   ]
  },
  {
   "cell_type": "code",
   "execution_count": 23,
   "metadata": {
    "ExecuteTime": {
     "end_time": "2020-01-06T07:38:43.705557Z",
     "start_time": "2020-01-06T07:38:43.688249Z"
    }
   },
   "outputs": [],
   "source": [
    "tmp_df2 = pd.concat((assigned_tmp_df[['family_id', 'day']], tmp_rdf)).sort_values('family_id')\n",
    "tmp_df2['family_size'] = FAMILY_SIZE[tmp_df2.family_id]\n",
    "\n",
    "occupancy2 = tmp_df2.groupby('day').family_size.sum().values\n",
    "min_occupancy2 = np.array([max(0, MIN_OCCUPANCY-o) for o in occupancy2])\n",
    "max_occupancy2 = np.array([MAX_OCCUPANCY - o for o in occupancy2])"
   ]
  },
  {
   "cell_type": "markdown",
   "metadata": {},
   "source": [
    "### Check"
   ]
  },
  {
   "cell_type": "code",
   "execution_count": 24,
   "metadata": {
    "ExecuteTime": {
     "end_time": "2020-01-06T07:38:46.036641Z",
     "start_time": "2020-01-06T07:38:46.027275Z"
    }
   },
   "outputs": [
    {
     "name": "stdout",
     "output_type": "stream",
     "text": [
      "Assigened :  5000\n",
      " - Under Min Occupancies :  0\n",
      " - Over Max Occupancies :  0\n"
     ]
    }
   ],
   "source": [
    "print('Assigened : ', len(tmp_df2.family_id.unique()))\n",
    "print(' - Under Min Occupancies : ', len(min_occupancy2[min_occupancy2 != 0]))\n",
    "print(' - Over Max Occupancies : ', len(max_occupancy2[max_occupancy2 < 0]))"
   ]
  },
  {
   "cell_type": "markdown",
   "metadata": {},
   "source": [
    "## Swapper"
   ]
  },
  {
   "cell_type": "markdown",
   "metadata": {},
   "source": [
    "### Make Solver"
   ]
  },
  {
   "cell_type": "code",
   "execution_count": 61,
   "metadata": {
    "ExecuteTime": {
     "end_time": "2020-01-06T08:04:50.071655Z",
     "start_time": "2020-01-06T08:04:50.056878Z"
    }
   },
   "outputs": [],
   "source": [
    "def findBetterDay4Family(pred, mode='forward'):\n",
    "    if mode=='forward':\n",
    "        fobs = np.argsort(FAMILY_SIZE)\n",
    "    elif mode=='backward':\n",
    "        fobs = np.argsort(FAMILY_SIZE)[::-1]\n",
    "    elif mode=='same':\n",
    "        fobs = np.arange(0,len(FAMILY_SIZE))\n",
    "    elif mode=='shuffle':\n",
    "        fobs = np.random.permutation(np.arange(0,len(FAMILY_SIZE)))\n",
    "    else:\n",
    "        pass\n",
    "        \n",
    "    _pred = pred.copy()\n",
    "    score = cost_function(_pred)\n",
    "    original_score = np.inf\n",
    "    \n",
    "    while original_score>score:\n",
    "        original_score = score\n",
    "        for family_id in fobs:\n",
    "            for pick in range(10):\n",
    "                day = DESIRED[family_id, pick]\n",
    "                oldvalue = _pred[family_id]\n",
    "                _pred[family_id] = day\n",
    "                new_score = cost_function(_pred)\n",
    "                if new_score<score:\n",
    "                    score = new_score\n",
    "                else:\n",
    "                    _pred[family_id] = oldvalue\n",
    "\n",
    "        print(score, end='\\r')\n",
    "#     print(score)\n",
    "    return score, _pred"
   ]
  },
  {
   "cell_type": "code",
   "execution_count": 97,
   "metadata": {
    "ExecuteTime": {
     "end_time": "2020-01-06T08:40:17.324752Z",
     "start_time": "2020-01-06T08:40:17.320624Z"
    }
   },
   "outputs": [],
   "source": [
    "def shuffle_search(pred, itr=10):\n",
    "    df = pred.copy()\n",
    "    score_best = cost_function(df)\n",
    "    for i in range(itr):\n",
    "        print('ITERATION {}'.format(i+1))\n",
    "        score_new, df_new = findBetterDay4Family(df, mode='shuffle')\n",
    "        print('score : ', score_new)\n",
    "        if score_best > score_new:\n",
    "            score_best = score_new\n",
    "            df_best = df_new.copy()\n",
    "        print('now best score : ', score_best)\n",
    "    return df_best"
   ]
  },
  {
   "cell_type": "code",
   "execution_count": 26,
   "metadata": {
    "ExecuteTime": {
     "end_time": "2020-01-06T07:38:53.159674Z",
     "start_time": "2020-01-06T07:38:53.148739Z"
    }
   },
   "outputs": [],
   "source": [
    "def stochastic_product_search(top_k, fam_size, original, \n",
    "                              verbose=1000, verbose2=50000,\n",
    "                              n_iter=500, random_state=2019):\n",
    "    \"\"\"\n",
    "    original (np.array): The original day assignments.\n",
    "    \n",
    "    At every iterations, randomly sample fam_size families. Then, given their top_k\n",
    "    choices, compute the Cartesian product of the families' choices, and compute the\n",
    "    score for each of those top_k^fam_size products.\n",
    "    \"\"\"\n",
    "    \n",
    "    best = original.copy()\n",
    "    best_score = cost_function(best)\n",
    "    \n",
    "    np.random.seed(random_state)\n",
    "\n",
    "    for i in range(n_iter):\n",
    "        fam_indices = np.random.choice(range(DESIRED.shape[0]), size=fam_size)\n",
    "        changes = np.array(list(product(*DESIRED[fam_indices, :top_k].tolist())))\n",
    "\n",
    "        for change in changes:\n",
    "            new = best.copy()\n",
    "            new[fam_indices] = change\n",
    "\n",
    "            new_score = cost_function(new)\n",
    "\n",
    "            if new_score < best_score:\n",
    "                best_score = new_score\n",
    "                best = new\n",
    "                \n",
    "        if verbose and i % verbose == 0:\n",
    "            print(f\"Iteration #{i}: Best score is {best_score:.2f}      \", end='\\r')\n",
    "            \n",
    "        if verbose2 and i % verbose2 == 0:\n",
    "            print(f\"Iteration #{i}: Best score is {best_score:.2f}      \")\n",
    "    \n",
    "    print(f\"Final best score is {best_score:.2f}\")\n",
    "    return best"
   ]
  },
  {
   "cell_type": "code",
   "execution_count": 103,
   "metadata": {
    "ExecuteTime": {
     "end_time": "2020-01-06T11:30:25.096889Z",
     "start_time": "2020-01-06T11:30:25.091956Z"
    }
   },
   "outputs": [],
   "source": [
    "tmp_list  = np.array([0,2,4,8])\n",
    "tmp_changes = np.array(list(product(*DESIRED[tmp_list, :3].tolist())))"
   ]
  },
  {
   "cell_type": "code",
   "execution_count": 110,
   "metadata": {
    "ExecuteTime": {
     "end_time": "2020-01-06T11:36:18.062517Z",
     "start_time": "2020-01-06T11:36:18.056032Z"
    }
   },
   "outputs": [
    {
     "data": {
      "text/plain": [
       "array([[51, 99, 52, 17],\n",
       "       [51, 99, 52, 59],\n",
       "       [51, 99, 52,  0],\n",
       "       [51, 99,  0, 17],\n",
       "       [51, 99,  0, 59],\n",
       "       [51, 99,  0,  0],\n",
       "       [51, 99, 46, 17],\n",
       "       [51, 99, 46, 59],\n",
       "       [51, 99, 46,  0],\n",
       "       [51, 53, 52, 17],\n",
       "       [51, 53, 52, 59],\n",
       "       [51, 53, 52,  0],\n",
       "       [51, 53,  0, 17],\n",
       "       [51, 53,  0, 59],\n",
       "       [51, 53,  0,  0],\n",
       "       [51, 53, 46, 17],\n",
       "       [51, 53, 46, 59],\n",
       "       [51, 53, 46,  0],\n",
       "       [51, 24, 52, 17],\n",
       "       [51, 24, 52, 59],\n",
       "       [51, 24, 52,  0],\n",
       "       [51, 24,  0, 17],\n",
       "       [51, 24,  0, 59],\n",
       "       [51, 24,  0,  0],\n",
       "       [51, 24, 46, 17],\n",
       "       [51, 24, 46, 59],\n",
       "       [51, 24, 46,  0],\n",
       "       [37, 99, 52, 17],\n",
       "       [37, 99, 52, 59],\n",
       "       [37, 99, 52,  0],\n",
       "       [37, 99,  0, 17],\n",
       "       [37, 99,  0, 59],\n",
       "       [37, 99,  0,  0],\n",
       "       [37, 99, 46, 17],\n",
       "       [37, 99, 46, 59],\n",
       "       [37, 99, 46,  0],\n",
       "       [37, 53, 52, 17],\n",
       "       [37, 53, 52, 59],\n",
       "       [37, 53, 52,  0],\n",
       "       [37, 53,  0, 17],\n",
       "       [37, 53,  0, 59],\n",
       "       [37, 53,  0,  0],\n",
       "       [37, 53, 46, 17],\n",
       "       [37, 53, 46, 59],\n",
       "       [37, 53, 46,  0],\n",
       "       [37, 24, 52, 17],\n",
       "       [37, 24, 52, 59],\n",
       "       [37, 24, 52,  0],\n",
       "       [37, 24,  0, 17],\n",
       "       [37, 24,  0, 59],\n",
       "       [37, 24,  0,  0],\n",
       "       [37, 24, 46, 17],\n",
       "       [37, 24, 46, 59],\n",
       "       [37, 24, 46,  0],\n",
       "       [11, 99, 52, 17],\n",
       "       [11, 99, 52, 59],\n",
       "       [11, 99, 52,  0],\n",
       "       [11, 99,  0, 17],\n",
       "       [11, 99,  0, 59],\n",
       "       [11, 99,  0,  0],\n",
       "       [11, 99, 46, 17],\n",
       "       [11, 99, 46, 59],\n",
       "       [11, 99, 46,  0],\n",
       "       [11, 53, 52, 17],\n",
       "       [11, 53, 52, 59],\n",
       "       [11, 53, 52,  0],\n",
       "       [11, 53,  0, 17],\n",
       "       [11, 53,  0, 59],\n",
       "       [11, 53,  0,  0],\n",
       "       [11, 53, 46, 17],\n",
       "       [11, 53, 46, 59],\n",
       "       [11, 53, 46,  0],\n",
       "       [11, 24, 52, 17],\n",
       "       [11, 24, 52, 59],\n",
       "       [11, 24, 52,  0],\n",
       "       [11, 24,  0, 17],\n",
       "       [11, 24,  0, 59],\n",
       "       [11, 24,  0,  0],\n",
       "       [11, 24, 46, 17],\n",
       "       [11, 24, 46, 59],\n",
       "       [11, 24, 46,  0]])"
      ]
     },
     "execution_count": 110,
     "metadata": {},
     "output_type": "execute_result"
    }
   ],
   "source": [
    "tmp_changes"
   ]
  },
  {
   "cell_type": "code",
   "execution_count": 106,
   "metadata": {
    "ExecuteTime": {
     "end_time": "2020-01-06T11:31:29.142605Z",
     "start_time": "2020-01-06T11:31:29.119472Z"
    }
   },
   "outputs": [
    {
     "name": "stdout",
     "output_type": "stream",
     "text": [
      "[51 99 52 17]\n",
      "[51 99 52 59]\n",
      "[51 99 52  0]\n",
      "[51 99  0 17]\n",
      "[51 99  0 59]\n",
      "[51 99  0  0]\n",
      "[51 99 46 17]\n",
      "[51 99 46 59]\n",
      "[51 99 46  0]\n",
      "[51 53 52 17]\n",
      "[51 53 52 59]\n",
      "[51 53 52  0]\n",
      "[51 53  0 17]\n",
      "[51 53  0 59]\n",
      "[51 53  0  0]\n",
      "[51 53 46 17]\n",
      "[51 53 46 59]\n",
      "[51 53 46  0]\n",
      "[51 24 52 17]\n",
      "[51 24 52 59]\n",
      "[51 24 52  0]\n",
      "[51 24  0 17]\n",
      "[51 24  0 59]\n",
      "[51 24  0  0]\n",
      "[51 24 46 17]\n",
      "[51 24 46 59]\n",
      "[51 24 46  0]\n",
      "[37 99 52 17]\n",
      "[37 99 52 59]\n",
      "[37 99 52  0]\n",
      "[37 99  0 17]\n",
      "[37 99  0 59]\n",
      "[37 99  0  0]\n",
      "[37 99 46 17]\n",
      "[37 99 46 59]\n",
      "[37 99 46  0]\n",
      "[37 53 52 17]\n",
      "[37 53 52 59]\n",
      "[37 53 52  0]\n",
      "[37 53  0 17]\n",
      "[37 53  0 59]\n",
      "[37 53  0  0]\n",
      "[37 53 46 17]\n",
      "[37 53 46 59]\n",
      "[37 53 46  0]\n",
      "[37 24 52 17]\n",
      "[37 24 52 59]\n",
      "[37 24 52  0]\n",
      "[37 24  0 17]\n",
      "[37 24  0 59]\n",
      "[37 24  0  0]\n",
      "[37 24 46 17]\n",
      "[37 24 46 59]\n",
      "[37 24 46  0]\n",
      "[11 99 52 17]\n",
      "[11 99 52 59]\n",
      "[11 99 52  0]\n",
      "[11 99  0 17]\n",
      "[11 99  0 59]\n",
      "[11 99  0  0]\n",
      "[11 99 46 17]\n",
      "[11 99 46 59]\n",
      "[11 99 46  0]\n",
      "[11 53 52 17]\n",
      "[11 53 52 59]\n",
      "[11 53 52  0]\n",
      "[11 53  0 17]\n",
      "[11 53  0 59]\n",
      "[11 53  0  0]\n",
      "[11 53 46 17]\n",
      "[11 53 46 59]\n",
      "[11 53 46  0]\n",
      "[11 24 52 17]\n",
      "[11 24 52 59]\n",
      "[11 24 52  0]\n",
      "[11 24  0 17]\n",
      "[11 24  0 59]\n",
      "[11 24  0  0]\n",
      "[11 24 46 17]\n",
      "[11 24 46 59]\n",
      "[11 24 46  0]\n"
     ]
    }
   ],
   "source": [
    "for change in tmp_changes:\n",
    "    print(change)"
   ]
  },
  {
   "cell_type": "code",
   "execution_count": 27,
   "metadata": {
    "ExecuteTime": {
     "end_time": "2020-01-06T07:38:55.329752Z",
     "start_time": "2020-01-06T07:38:55.315738Z"
    }
   },
   "outputs": [],
   "source": [
    "def seed_finding(seed, prediction_input):\n",
    "    prediction = prediction_input.copy()\n",
    "    np.random.seed(seed)\n",
    "    best_score = cost_function(prediction)\n",
    "    original_score = best_score\n",
    "    best_pred = prediction.copy()\n",
    "    print(\"SEED: {}   ORIGINAL SCORE: {}\".format(seed, original_score))\n",
    "    for t in range(100):\n",
    "        for i in range(5000):\n",
    "            for j in range(10):\n",
    "                di = prediction[i]\n",
    "                prediction[i] = DESIRED[i, j]\n",
    "                cur_score = cost_function(prediction)\n",
    "\n",
    "                KT = 1\n",
    "                if t < 5:\n",
    "                    KT = 1.5\n",
    "                elif t < 10:\n",
    "                    KT = 4.5\n",
    "                else:\n",
    "                    if cur_score > best_score + 100:\n",
    "                        KT = 3\n",
    "                    elif cur_score > best_score + 50 :\n",
    "                        KT = 2.75\n",
    "                    elif cur_score > best_score + 20:\n",
    "                        KT = 2.5\n",
    "                    elif cur_score > best_score + 10:\n",
    "                        KT = 2\n",
    "                    elif cur_score > best_score:\n",
    "                        KT = 1.5\n",
    "                    else:\n",
    "                        KT = 1\n",
    "\n",
    "                prob = np.exp(-(cur_score - best_score) / KT)\n",
    "                if np.random.rand() < prob:\n",
    "                    best_score = cur_score\n",
    "                else:\n",
    "                    prediction[i] = di\n",
    "        if best_score < original_score:\n",
    "            print(\"NEW BEST SCORE on seed {}: {}\".format(seed, best_score))\n",
    "            original_score = best_score\n",
    "            best_pred = prediction.copy()\n",
    "\n",
    "    return prediction\n"
   ]
  },
  {
   "cell_type": "markdown",
   "metadata": {},
   "source": [
    "### Solve"
   ]
  },
  {
   "cell_type": "code",
   "execution_count": 80,
   "metadata": {
    "ExecuteTime": {
     "end_time": "2020-01-06T08:24:32.671318Z",
     "start_time": "2020-01-06T08:24:17.131790Z"
    }
   },
   "outputs": [
    {
     "name": "stdout",
     "output_type": "stream",
     "text": [
      "72934.86843721337\n",
      "73158.51416964241\n"
     ]
    }
   ],
   "source": [
    "tmp_new = tmp_df2.day.values.copy()\n",
    "score, tmp_new = findBetterDay4Family(tmp_new, mode='forward')\n",
    "print(score)\n",
    "score, tmp_new = findBetterDay4Family(tmp_new, mode='backward')\n",
    "print(score)"
   ]
  },
  {
   "cell_type": "code",
   "execution_count": 57,
   "metadata": {
    "ExecuteTime": {
     "end_time": "2020-01-06T08:01:59.158027Z",
     "start_time": "2020-01-06T08:01:51.225169Z"
    }
   },
   "outputs": [
    {
     "name": "stdout",
     "output_type": "stream",
     "text": [
      "73158.51416964241\n",
      "73158.51416964241\n"
     ]
    }
   ],
   "source": [
    "tmp_new = tmp_df2.day.values.copy()\n",
    "score, tmp_new = findBetterDay4Family(tmp_new, mode='backward')\n",
    "print(score)\n",
    "score, tmp_new = findBetterDay4Family(tmp_new, mode='forward')\n",
    "print(score)"
   ]
  },
  {
   "cell_type": "code",
   "execution_count": 59,
   "metadata": {
    "ExecuteTime": {
     "end_time": "2020-01-06T08:02:22.869885Z",
     "start_time": "2020-01-06T08:02:15.000769Z"
    }
   },
   "outputs": [
    {
     "name": "stdout",
     "output_type": "stream",
     "text": [
      "73460.41093328985\n"
     ]
    }
   ],
   "source": [
    "tmp_new = tmp_df2.day.values.copy()\n",
    "score, tmp_new = findBetterDay4Family(tmp_new, mode='same')\n",
    "print(score)"
   ]
  },
  {
   "cell_type": "code",
   "execution_count": 65,
   "metadata": {
    "ExecuteTime": {
     "end_time": "2020-01-06T08:05:40.917038Z",
     "start_time": "2020-01-06T08:05:35.672220Z"
    }
   },
   "outputs": [
    {
     "name": "stdout",
     "output_type": "stream",
     "text": [
      "73049.46507272114\n"
     ]
    }
   ],
   "source": [
    "tmp_new = tmp_df2.day.values.copy()\n",
    "score, tmp_new = findBetterDay4Family(tmp_new, mode='shuffle')\n",
    "print(score)"
   ]
  },
  {
   "cell_type": "code",
   "execution_count": 98,
   "metadata": {
    "ExecuteTime": {
     "end_time": "2020-01-06T08:40:38.468289Z",
     "start_time": "2020-01-06T08:40:25.963520Z"
    },
    "scrolled": true
   },
   "outputs": [
    {
     "name": "stdout",
     "output_type": "stream",
     "text": [
      "ITERATION 1\n",
      "score :  73153.18631374175\n",
      "now best score :  73153.18631374175\n",
      "ITERATION 2\n",
      "73683.59045754375\r"
     ]
    },
    {
     "ename": "KeyboardInterrupt",
     "evalue": "",
     "output_type": "error",
     "traceback": [
      "\u001b[0;31m---------------------------------------------------------------------------\u001b[0m",
      "\u001b[0;31mKeyboardInterrupt\u001b[0m                         Traceback (most recent call last)",
      "\u001b[0;32m<ipython-input-98-b530527e18c3>\u001b[0m in \u001b[0;36m<module>\u001b[0;34m\u001b[0m\n\u001b[1;32m      1\u001b[0m \u001b[0mtmp_new\u001b[0m \u001b[0;34m=\u001b[0m \u001b[0mtmp_df2\u001b[0m\u001b[0;34m.\u001b[0m\u001b[0mday\u001b[0m\u001b[0;34m.\u001b[0m\u001b[0mvalues\u001b[0m\u001b[0;34m.\u001b[0m\u001b[0mcopy\u001b[0m\u001b[0;34m(\u001b[0m\u001b[0;34m)\u001b[0m\u001b[0;34m\u001b[0m\u001b[0;34m\u001b[0m\u001b[0m\n\u001b[0;32m----> 2\u001b[0;31m \u001b[0mtmp_new\u001b[0m \u001b[0;34m=\u001b[0m \u001b[0mshuffle_search\u001b[0m\u001b[0;34m(\u001b[0m\u001b[0mtmp_new\u001b[0m\u001b[0;34m,\u001b[0m \u001b[0mitr\u001b[0m\u001b[0;34m=\u001b[0m\u001b[0;36m10\u001b[0m\u001b[0;34m)\u001b[0m\u001b[0;34m\u001b[0m\u001b[0;34m\u001b[0m\u001b[0m\n\u001b[0m",
      "\u001b[0;32m<ipython-input-97-cb585fe6e193>\u001b[0m in \u001b[0;36mshuffle_search\u001b[0;34m(pred, itr)\u001b[0m\n\u001b[1;32m      4\u001b[0m     \u001b[0;32mfor\u001b[0m \u001b[0mi\u001b[0m \u001b[0;32min\u001b[0m \u001b[0mrange\u001b[0m\u001b[0;34m(\u001b[0m\u001b[0mitr\u001b[0m\u001b[0;34m)\u001b[0m\u001b[0;34m:\u001b[0m\u001b[0;34m\u001b[0m\u001b[0;34m\u001b[0m\u001b[0m\n\u001b[1;32m      5\u001b[0m         \u001b[0mprint\u001b[0m\u001b[0;34m(\u001b[0m\u001b[0;34m'ITERATION {}'\u001b[0m\u001b[0;34m.\u001b[0m\u001b[0mformat\u001b[0m\u001b[0;34m(\u001b[0m\u001b[0mi\u001b[0m\u001b[0;34m+\u001b[0m\u001b[0;36m1\u001b[0m\u001b[0;34m)\u001b[0m\u001b[0;34m)\u001b[0m\u001b[0;34m\u001b[0m\u001b[0;34m\u001b[0m\u001b[0m\n\u001b[0;32m----> 6\u001b[0;31m         \u001b[0mscore_new\u001b[0m\u001b[0;34m,\u001b[0m \u001b[0mdf_new\u001b[0m \u001b[0;34m=\u001b[0m \u001b[0mfindBetterDay4Family\u001b[0m\u001b[0;34m(\u001b[0m\u001b[0mdf\u001b[0m\u001b[0;34m,\u001b[0m \u001b[0mmode\u001b[0m\u001b[0;34m=\u001b[0m\u001b[0;34m'shuffle'\u001b[0m\u001b[0;34m)\u001b[0m\u001b[0;34m\u001b[0m\u001b[0;34m\u001b[0m\u001b[0m\n\u001b[0m\u001b[1;32m      7\u001b[0m         \u001b[0mprint\u001b[0m\u001b[0;34m(\u001b[0m\u001b[0;34m'score : '\u001b[0m\u001b[0;34m,\u001b[0m \u001b[0mscore_new\u001b[0m\u001b[0;34m)\u001b[0m\u001b[0;34m\u001b[0m\u001b[0;34m\u001b[0m\u001b[0m\n\u001b[1;32m      8\u001b[0m         \u001b[0;32mif\u001b[0m \u001b[0mscore_best\u001b[0m \u001b[0;34m>\u001b[0m \u001b[0mscore_new\u001b[0m\u001b[0;34m:\u001b[0m\u001b[0;34m\u001b[0m\u001b[0;34m\u001b[0m\u001b[0m\n",
      "\u001b[0;32m<ipython-input-61-b6611c9034ce>\u001b[0m in \u001b[0;36mfindBetterDay4Family\u001b[0;34m(pred, mode)\u001b[0m\n\u001b[1;32m     22\u001b[0m                 \u001b[0moldvalue\u001b[0m \u001b[0;34m=\u001b[0m \u001b[0m_pred\u001b[0m\u001b[0;34m[\u001b[0m\u001b[0mfamily_id\u001b[0m\u001b[0;34m]\u001b[0m\u001b[0;34m\u001b[0m\u001b[0;34m\u001b[0m\u001b[0m\n\u001b[1;32m     23\u001b[0m                 \u001b[0m_pred\u001b[0m\u001b[0;34m[\u001b[0m\u001b[0mfamily_id\u001b[0m\u001b[0;34m]\u001b[0m \u001b[0;34m=\u001b[0m \u001b[0mday\u001b[0m\u001b[0;34m\u001b[0m\u001b[0;34m\u001b[0m\u001b[0m\n\u001b[0;32m---> 24\u001b[0;31m                 \u001b[0mnew_score\u001b[0m \u001b[0;34m=\u001b[0m \u001b[0mcost_function\u001b[0m\u001b[0;34m(\u001b[0m\u001b[0m_pred\u001b[0m\u001b[0;34m)\u001b[0m\u001b[0;34m\u001b[0m\u001b[0;34m\u001b[0m\u001b[0m\n\u001b[0m\u001b[1;32m     25\u001b[0m                 \u001b[0;32mif\u001b[0m \u001b[0mnew_score\u001b[0m\u001b[0;34m<\u001b[0m\u001b[0mscore\u001b[0m\u001b[0;34m:\u001b[0m\u001b[0;34m\u001b[0m\u001b[0;34m\u001b[0m\u001b[0m\n\u001b[1;32m     26\u001b[0m                     \u001b[0mscore\u001b[0m \u001b[0;34m=\u001b[0m \u001b[0mnew_score\u001b[0m\u001b[0;34m\u001b[0m\u001b[0;34m\u001b[0m\u001b[0m\n",
      "\u001b[0;31mKeyboardInterrupt\u001b[0m: "
     ]
    }
   ],
   "source": [
    "tmp_new = tmp_df2.day.values.copy()\n",
    "tmp_new = shuffle_search(tmp_new, itr=10)"
   ]
  },
  {
   "cell_type": "markdown",
   "metadata": {
    "ExecuteTime": {
     "end_time": "2020-01-05T11:43:53.372935Z",
     "start_time": "2020-01-05T11:43:53.362536Z"
    }
   },
   "source": [
    "# Solve"
   ]
  },
  {
   "cell_type": "markdown",
   "metadata": {},
   "source": [
    "## First Optimize"
   ]
  },
  {
   "cell_type": "code",
   "execution_count": 93,
   "metadata": {
    "ExecuteTime": {
     "end_time": "2020-01-06T08:38:33.689233Z",
     "start_time": "2020-01-06T08:38:33.680076Z"
    }
   },
   "outputs": [],
   "source": [
    "def solveSanta():\n",
    "    df = solveSantaLP() # Initial solution for most of families\n",
    "    \n",
    "    THRS = 0.999\n",
    "\n",
    "    assigned_df   = df[df.n>THRS].copy()\n",
    "    unassigned_df = df[(df.n<=THRS)&(df.n>1-THRS)]\n",
    "    unassigned = unassigned_df.family_id.unique()\n",
    "    print('{} unassigned families'.format(len(unassigned)))\n",
    "\n",
    "\n",
    "    assigned_df['family_size'] = FAMILY_SIZE[assigned_df.family_id]\n",
    "    occupancy = assigned_df.groupby('day').family_size.sum().values\n",
    "    min_occupancy = np.array([max(0, MIN_OCCUPANCY-o) for o in occupancy])\n",
    "    max_occupancy = np.array([MAX_OCCUPANCY - o for o in occupancy])\n",
    "\n",
    "    \n",
    "    rdf = solveSantaIP(unassigned, min_occupancy, max_occupancy) # solve the rest with MIP\n",
    "    df = pd.concat((assigned_df[['family_id', 'day']], rdf)).sort_values('family_id')\n",
    "    return df.day.values"
   ]
  },
  {
   "cell_type": "code",
   "execution_count": 94,
   "metadata": {
    "ExecuteTime": {
     "end_time": "2020-01-06T08:38:49.786996Z",
     "start_time": "2020-01-06T08:38:34.375556Z"
    }
   },
   "outputs": [
    {
     "name": "stdout",
     "output_type": "stream",
     "text": [
      "LP solver result: OPTIMAL\n",
      "69 unassigned families\n",
      "MIP solver result: OPTIMAL\n"
     ]
    }
   ],
   "source": [
    "prediction = solveSanta()"
   ]
  },
  {
   "cell_type": "code",
   "execution_count": 95,
   "metadata": {
    "ExecuteTime": {
     "end_time": "2020-01-06T08:39:38.963733Z",
     "start_time": "2020-01-06T08:39:38.951199Z"
    }
   },
   "outputs": [
    {
     "name": "stdout",
     "output_type": "stream",
     "text": [
      "Preferenced Cost :  72826\n",
      "Accounting Cost :  5193.88\n",
      "Total Cost :  78019.88\n",
      "\n",
      "Max Occupancy : 125 , Min Ocupancy : 299\n"
     ]
    }
   ],
   "source": [
    "pc, occ = pcost(prediction)\n",
    "ac, _ = acost(occ)\n",
    "print('Preferenced Cost : ', pc)\n",
    "print('Accounting Cost : {: .2f}'.format(ac))\n",
    "print('Total Cost : {: .2f}'.format(pc+ac))\n",
    "print('')\n",
    "print('Max Occupancy : {} , Min Ocupancy : {}'.format(occ.min(), occ.max()))"
   ]
  },
  {
   "cell_type": "markdown",
   "metadata": {},
   "source": [
    "## Second Optimize"
   ]
  },
  {
   "cell_type": "code",
   "execution_count": 99,
   "metadata": {
    "ExecuteTime": {
     "end_time": "2020-01-06T08:43:13.012855Z",
     "start_time": "2020-01-06T08:40:48.796038Z"
    },
    "scrolled": true
   },
   "outputs": [
    {
     "name": "stdout",
     "output_type": "stream",
     "text": [
      "ITERATION 1\n",
      "score :  73261.91613423474\n",
      "now best score :  73261.91613423474\n",
      "ITERATION 2\n",
      "score :  72701.3190692931\n",
      "now best score :  72701.3190692931\n",
      "ITERATION 3\n",
      "score :  73354.42955629413\n",
      "now best score :  72701.3190692931\n",
      "ITERATION 4\n",
      "score :  73020.42408893256\n",
      "now best score :  72701.3190692931\n",
      "ITERATION 5\n",
      "score :  73040.07998017133\n",
      "now best score :  72701.3190692931\n",
      "ITERATION 6\n",
      "score :  72702.03170727831\n",
      "now best score :  72701.3190692931\n",
      "ITERATION 7\n",
      "score :  73339.25116655925\n",
      "now best score :  72701.3190692931\n",
      "ITERATION 8\n",
      "score :  73071.69789335103\n",
      "now best score :  72701.3190692931\n",
      "ITERATION 9\n",
      "score :  73427.23173328521\n",
      "now best score :  72701.3190692931\n",
      "ITERATION 10\n",
      "score :  73185.59742471742\n",
      "now best score :  72701.3190692931\n",
      "ITERATION 11\n",
      "score :  72798.10222020408\n",
      "now best score :  72701.3190692931\n",
      "ITERATION 12\n",
      "score :  73386.35525878545\n",
      "now best score :  72701.3190692931\n",
      "ITERATION 13\n",
      "score :  73361.993257703\n",
      "now best score :  72701.3190692931\n",
      "ITERATION 14\n",
      "score :  73355.45284906978\n",
      "now best score :  72701.3190692931\n",
      "ITERATION 15\n",
      "score :  73088.95672817678\n",
      "now best score :  72701.3190692931\n",
      "ITERATION 16\n",
      "score :  72947.75475535695\n",
      "now best score :  72701.3190692931\n",
      "ITERATION 17\n",
      "score :  72927.92781955362\n",
      "now best score :  72701.3190692931\n",
      "ITERATION 18\n",
      "score :  72811.08572870454\n",
      "now best score :  72701.3190692931\n",
      "ITERATION 19\n",
      "score :  73114.34878067998\n",
      "now best score :  72701.3190692931\n",
      "ITERATION 20\n",
      "score :  73153.25816532744\n",
      "now best score :  72701.3190692931\n",
      "72701.3190692931\n"
     ]
    }
   ],
   "source": [
    "new = prediction.copy()\n",
    "# score, new = findBetterDay4Family(new, mode='forward') \n",
    "new = shuffle_search(new, itr=20)"
   ]
  },
  {
   "cell_type": "markdown",
   "metadata": {},
   "source": [
    "## Final Optimize"
   ]
  },
  {
   "cell_type": "code",
   "execution_count": 100,
   "metadata": {
    "ExecuteTime": {
     "end_time": "2020-01-06T10:00:01.936592Z",
     "start_time": "2020-01-06T08:43:34.442728Z"
    }
   },
   "outputs": [
    {
     "name": "stdout",
     "output_type": "stream",
     "text": [
      "Iteration #0: Best score is 72701.32      \n",
      "Iteration #50000: Best score is 72406.76      \n",
      "Iteration #100000: Best score is 72387.43      \n",
      "Iteration #150000: Best score is 72284.88      \n",
      "Iteration #200000: Best score is 72284.88      \n",
      "Iteration #250000: Best score is 72262.27      \n",
      "Iteration #300000: Best score is 72234.08      \n",
      "Iteration #350000: Best score is 72044.80      \n",
      "Iteration #400000: Best score is 71979.60      \n",
      "Iteration #450000: Best score is 71978.51      \n",
      "Final best score is 71950.59e is 71950.59      \n"
     ]
    }
   ],
   "source": [
    "final = stochastic_product_search(\n",
    "        top_k=2,\n",
    "        fam_size=8, \n",
    "        original=new, \n",
    "        n_iter=500000,\n",
    "        verbose=1000,\n",
    "        verbose2=50000,\n",
    "        random_state=2019\n",
    "        )"
   ]
  },
  {
   "cell_type": "code",
   "execution_count": 101,
   "metadata": {
    "ExecuteTime": {
     "end_time": "2020-01-06T11:04:00.781444Z",
     "start_time": "2020-01-06T11:02:22.889212Z"
    }
   },
   "outputs": [
    {
     "name": "stdout",
     "output_type": "stream",
     "text": [
      "SEED: 2019   ORIGINAL SCORE: 71950.58808284665\n",
      "NEW BEST SCORE on seed 2019: 71949.18202655886\n",
      "NEW BEST SCORE on seed 2019: 71944.37893896841\n",
      "NEW BEST SCORE on seed 2019: 71941.2108202308\n",
      "NEW BEST SCORE on seed 2019: 71914.87739263219\n",
      "NEW BEST SCORE on seed 2019: 71914.71605914937\n",
      "NEW BEST SCORE on seed 2019: 71894.29255367897\n",
      "NEW BEST SCORE on seed 2019: 71887.48191785825\n",
      "NEW BEST SCORE on seed 2019: 71884.27305151313\n",
      "NEW BEST SCORE on seed 2019: 71874.69655141022\n",
      "NEW BEST SCORE on seed 2019: 71869.93178956989\n",
      "NEW BEST SCORE on seed 2019: 71869.84241752933\n",
      "NEW BEST SCORE on seed 2019: 71867.50347223185\n",
      "NEW BEST SCORE on seed 2019: 71867.06245284675\n",
      "NEW BEST SCORE on seed 2019: 71863.98631843911\n",
      "NEW BEST SCORE on seed 2019: 71863.545299054\n",
      "NEW BEST SCORE on seed 2019: 71858.60419941196\n",
      "NEW BEST SCORE on seed 2019: 71856.40157461664\n",
      "NEW BEST SCORE on seed 2019: 71848.56922975933\n",
      "NEW BEST SCORE on seed 2019: 71843.210066976\n",
      "NEW BEST SCORE on seed 2019: 71842.44842711452\n",
      "NEW BEST SCORE on seed 2019: 71838.97194861804\n",
      "NEW BEST SCORE on seed 2019: 71838.21030875655\n"
     ]
    }
   ],
   "source": [
    "final = seed_finding(2019, final)"
   ]
  },
  {
   "cell_type": "markdown",
   "metadata": {},
   "source": [
    "# Submit"
   ]
  },
  {
   "cell_type": "code",
   "execution_count": 159,
   "metadata": {
    "ExecuteTime": {
     "end_time": "2020-01-05T18:06:37.686336Z",
     "start_time": "2020-01-05T18:06:37.664181Z"
    }
   },
   "outputs": [],
   "source": [
    "sub = pd.DataFrame(range(N_FAMILIES), columns=['family_id'])\n",
    "sub['assigned_day'] = final+1\n",
    "sub.to_csv('../submissions/submission_lp_mip_swap.csv', index=False)"
   ]
  }
 ],
 "metadata": {
  "kernelspec": {
   "display_name": "py37",
   "language": "python",
   "name": "py37"
  },
  "language_info": {
   "codemirror_mode": {
    "name": "ipython",
    "version": 3
   },
   "file_extension": ".py",
   "mimetype": "text/x-python",
   "name": "python",
   "nbconvert_exporter": "python",
   "pygments_lexer": "ipython3",
   "version": "3.7.3"
  },
  "toc": {
   "base_numbering": 1,
   "nav_menu": {},
   "number_sections": true,
   "sideBar": true,
   "skip_h1_title": false,
   "title_cell": "Table of Contents",
   "title_sidebar": "Contents",
   "toc_cell": false,
   "toc_position": {
    "height": "605px",
    "left": "34px",
    "top": "138.05px",
    "width": "215.333px"
   },
   "toc_section_display": true,
   "toc_window_display": false
  }
 },
 "nbformat": 4,
 "nbformat_minor": 2
}
