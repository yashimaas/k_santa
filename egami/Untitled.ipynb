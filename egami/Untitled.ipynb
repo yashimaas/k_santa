{
 "cells": [
  {
   "cell_type": "code",
   "execution_count": 7,
   "metadata": {},
   "outputs": [],
   "source": [
    "import time\n",
    "import concurrent.futures\n",
    "\n",
    "\n",
    "# 単に時間がかかるだけの処理\n",
    "def killing_time(number):\n",
    "    return_list = []\n",
    "    for i in range(1, number + 1):\n",
    "        if number % i == 1:\n",
    "            if i <= 9999:\n",
    "                return_list.append(i)\n",
    "    return return_list\n",
    "\n",
    "\n",
    "def main():\n",
    "    start = time.time()\n",
    "    num_list = [25000000, 20000000, 20076000, 14500000]\n",
    "    with concurrent.futures.ProcessPoolExecutor(max_workers=10) as excuter:\n",
    "        result_list = list(excuter.map(killing_time, num_list))\n",
    "    stop = time.time()\n",
    "    print('%.3f seconds' % (stop - start))\n",
    "\n",
    "\n",
    "# if __name__ == '__main__':\n",
    "#     main()"
   ]
  },
  {
   "cell_type": "code",
   "execution_count": 8,
   "metadata": {},
   "outputs": [
    {
     "name": "stdout",
     "output_type": "stream",
     "text": [
      "1.444 seconds\n"
     ]
    }
   ],
   "source": [
    "main()"
   ]
  },
  {
   "cell_type": "code",
   "execution_count": null,
   "metadata": {},
   "outputs": [],
   "source": []
  }
 ],
 "metadata": {
  "kernelspec": {
   "display_name": "Python 3",
   "language": "python",
   "name": "python3"
  },
  "language_info": {
   "codemirror_mode": {
    "name": "ipython",
    "version": 3
   },
   "file_extension": ".py",
   "mimetype": "text/x-python",
   "name": "python",
   "nbconvert_exporter": "python",
   "pygments_lexer": "ipython3",
   "version": "3.6.7"
  }
 },
 "nbformat": 4,
 "nbformat_minor": 4
}
