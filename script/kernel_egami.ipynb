{
 "cells": [
  {
   "cell_type": "markdown",
   "metadata": {},
   "source": [
    "# Introduction"
   ]
  },
  {
   "cell_type": "markdown",
   "metadata": {},
   "source": [
    "Your submission is scored according to the <font color='Red'>penalty cost to Santa for suboptimal scheduling</font>. \\\n",
    "The <u>constraints and penalties</u> are as follows:"
   ]
  },
  {
   "cell_type": "markdown",
   "metadata": {},
   "source": [
    "- The total number of people attending the workshop <font color='Red'>each day must be between 125 - 300</font>.\\\n",
    "    If even one day is outside these occupancy constraints, the submission will error and will not be scored.\n",
    "    \n",
    "    \n",
    "- Santa provides consolation gifts (of varying value) to families <u>according to their assigned day relative to their preferences</u>. \\\n",
    "    These sum up per family, and the total represents the ***preferencecost***.\n",
    "    - choice_0: no consolation gifts\n",
    "    - choice_1: one $\\$50$ gift card to Santa's Gift Shop\n",
    "    - choice_2: one $\\$50$ gift card, and 25% off Santa's Buffet (value $\\$9$) for each family member\n",
    "    - choice_3: one $\\$100$ gift card, and 25% off Santa's Buffet (value $\\$9$) for each family member\n",
    "    - choice_4: one $\\$200$ gift card, and 25% off Santa's Buffet (value $\\$9$) for each family member\n",
    "    - choice_5: one $\\$200$ gift card, and 50% off Santa's Buffet (value $\\$18$) for each family member\n",
    "    - choice_6: one $\\$300$ gift card, and 50% off Santa's Buffet (value $\\$18$) for each family member\n",
    "    - choice_7: one $\\$300$ gift card, and free Santa's Buffet (value $\\$36$) for each family member\n",
    "    - choice_8: one $\\$400$ gift card, and free Santa's Buffet (value $\\$36$) for each family member\n",
    "    - choice_9: one $\\$500$ gift card, and free Santa's Buffet (value $\\$36$) for each family member, and 50% off North Pole Helicopter Ride tickets (value $\\$199$) for each family member\n",
    "    - otherwise: one $\\$500$ gift card, and free Santa's Buffet (value $\\$36$) for each family member, and free North Pole Helicopter Ride tickets (value $\\$398$) for each family member\n",
    " \n",
    " \n",
    " -  Santa's accountants have also developed an **empirical equation for cost to Santa** that arise from many different effects such as reduced shopping in the Gift Shop when it gets too crowded, extra cleaning costs, a very complicated North Pole tax code, etc.\\\n",
    " This cost in <font color='Red'>in addition to the consolation gifts</font> Santa provides above, and is defined as:\n",
    " \n",
    " \n",
    " $$\n",
    " accounting\\:penalty = \\sum^1_{d=100}\\frac{(N_d-125)}{400}N_d^{(\\frac{1}{2}+\\frac{|N_d-N_{d+1}|}{50})}\n",
    " $$\n",
    " \n",
    " \n",
    " where $N_d$ is the **occupancy of the current day**, and Nd+1 is the occupancy of the previous day (since we're <font color='Red'>counting backwards from Christmas!</font>). \\\n",
    " For the initial condition of d=100, $N_{101}=N_{100}$."
   ]
  },
  {
   "cell_type": "markdown",
   "metadata": {},
   "source": [
    "To be clear on the above summation, it starts on the date 100 days before Christmas and ends on Christmas Eve.\\\n",
    "And <font color='red'>Finaly</font>:\n",
    "\n",
    "\n",
    "$$\n",
    "score = preference\\:cost + accounting\\:penalty\n",
    "$$"
   ]
  },
  {
   "cell_type": "markdown",
   "metadata": {},
   "source": [
    "# Imports"
   ]
  },
  {
   "cell_type": "code",
   "execution_count": 1,
   "metadata": {},
   "outputs": [],
   "source": [
    "# !kaggle competitions download -c santa-workshop-tour-2019"
   ]
  },
  {
   "cell_type": "code",
   "execution_count": 2,
   "metadata": {},
   "outputs": [],
   "source": [
    "# !unzip santa-workshop-tour-2019.zipa"
   ]
  },
  {
   "cell_type": "code",
   "execution_count": 3,
   "metadata": {},
   "outputs": [],
   "source": [
    "# !rm santa-workshop-tour-2019.zip"
   ]
  },
  {
   "cell_type": "code",
   "execution_count": 4,
   "metadata": {
    "ExecuteTime": {
     "end_time": "2020-01-04T13:52:58.209365Z",
     "start_time": "2020-01-04T13:52:57.884817Z"
    }
   },
   "outputs": [],
   "source": [
    "import pandas as pd\n",
    "import numpy as np"
   ]
  },
  {
   "cell_type": "code",
   "execution_count": 7,
   "metadata": {
    "ExecuteTime": {
     "end_time": "2020-01-04T13:52:58.799239Z",
     "start_time": "2020-01-04T13:52:58.211736Z"
    }
   },
   "outputs": [],
   "source": [
    "import sys\n",
    "sys.path.append('../../modules/yashima/tools/')\n",
    "from tools import Process"
   ]
  },
  {
   "cell_type": "markdown",
   "metadata": {},
   "source": [
    "# Load Data"
   ]
  },
  {
   "cell_type": "code",
   "execution_count": 8,
   "metadata": {
    "ExecuteTime": {
     "end_time": "2020-01-04T13:52:58.818002Z",
     "start_time": "2020-01-04T13:52:58.801100Z"
    }
   },
   "outputs": [],
   "source": [
    "data = pd.read_csv('../input/family_data.csv', index_col='family_id')\n",
    "submission = pd.read_csv('../input/sample_submission.csv', index_col='family_id')"
   ]
  },
  {
   "cell_type": "markdown",
   "metadata": {},
   "source": [
    "# Basic EDA"
   ]
  },
  {
   "cell_type": "code",
   "execution_count": 9,
   "metadata": {
    "ExecuteTime": {
     "end_time": "2020-01-04T13:52:58.883652Z",
     "start_time": "2020-01-04T13:52:58.819733Z"
    },
    "scrolled": true
   },
   "outputs": [
    {
     "name": "stdout",
     "output_type": "stream",
     "text": [
      "----------TOP 5 RECORDS--------\n"
     ]
    },
    {
     "data": {
      "text/html": [
       "<div>\n",
       "<style scoped>\n",
       "    .dataframe tbody tr th:only-of-type {\n",
       "        vertical-align: middle;\n",
       "    }\n",
       "\n",
       "    .dataframe tbody tr th {\n",
       "        vertical-align: top;\n",
       "    }\n",
       "\n",
       "    .dataframe thead th {\n",
       "        text-align: right;\n",
       "    }\n",
       "</style>\n",
       "<table border=\"1\" class=\"dataframe\">\n",
       "  <thead>\n",
       "    <tr style=\"text-align: right;\">\n",
       "      <th></th>\n",
       "      <th>choice_0</th>\n",
       "      <th>choice_1</th>\n",
       "      <th>choice_2</th>\n",
       "      <th>choice_3</th>\n",
       "      <th>choice_4</th>\n",
       "      <th>choice_5</th>\n",
       "      <th>choice_6</th>\n",
       "      <th>choice_7</th>\n",
       "      <th>choice_8</th>\n",
       "      <th>choice_9</th>\n",
       "      <th>n_people</th>\n",
       "    </tr>\n",
       "    <tr>\n",
       "      <th>family_id</th>\n",
       "      <th></th>\n",
       "      <th></th>\n",
       "      <th></th>\n",
       "      <th></th>\n",
       "      <th></th>\n",
       "      <th></th>\n",
       "      <th></th>\n",
       "      <th></th>\n",
       "      <th></th>\n",
       "      <th></th>\n",
       "      <th></th>\n",
       "    </tr>\n",
       "  </thead>\n",
       "  <tbody>\n",
       "    <tr>\n",
       "      <th>0</th>\n",
       "      <td>52</td>\n",
       "      <td>38</td>\n",
       "      <td>12</td>\n",
       "      <td>82</td>\n",
       "      <td>33</td>\n",
       "      <td>75</td>\n",
       "      <td>64</td>\n",
       "      <td>76</td>\n",
       "      <td>10</td>\n",
       "      <td>28</td>\n",
       "      <td>4</td>\n",
       "    </tr>\n",
       "    <tr>\n",
       "      <th>1</th>\n",
       "      <td>26</td>\n",
       "      <td>4</td>\n",
       "      <td>82</td>\n",
       "      <td>5</td>\n",
       "      <td>11</td>\n",
       "      <td>47</td>\n",
       "      <td>38</td>\n",
       "      <td>6</td>\n",
       "      <td>66</td>\n",
       "      <td>61</td>\n",
       "      <td>4</td>\n",
       "    </tr>\n",
       "    <tr>\n",
       "      <th>2</th>\n",
       "      <td>100</td>\n",
       "      <td>54</td>\n",
       "      <td>25</td>\n",
       "      <td>12</td>\n",
       "      <td>27</td>\n",
       "      <td>82</td>\n",
       "      <td>10</td>\n",
       "      <td>89</td>\n",
       "      <td>80</td>\n",
       "      <td>33</td>\n",
       "      <td>3</td>\n",
       "    </tr>\n",
       "    <tr>\n",
       "      <th>3</th>\n",
       "      <td>2</td>\n",
       "      <td>95</td>\n",
       "      <td>1</td>\n",
       "      <td>96</td>\n",
       "      <td>32</td>\n",
       "      <td>6</td>\n",
       "      <td>40</td>\n",
       "      <td>31</td>\n",
       "      <td>9</td>\n",
       "      <td>59</td>\n",
       "      <td>2</td>\n",
       "    </tr>\n",
       "    <tr>\n",
       "      <th>4</th>\n",
       "      <td>53</td>\n",
       "      <td>1</td>\n",
       "      <td>47</td>\n",
       "      <td>93</td>\n",
       "      <td>26</td>\n",
       "      <td>3</td>\n",
       "      <td>46</td>\n",
       "      <td>16</td>\n",
       "      <td>42</td>\n",
       "      <td>39</td>\n",
       "      <td>4</td>\n",
       "    </tr>\n",
       "  </tbody>\n",
       "</table>\n",
       "</div>"
      ],
      "text/plain": [
       "           choice_0  choice_1  choice_2  choice_3  choice_4  choice_5  \\\n",
       "family_id                                                               \n",
       "0                52        38        12        82        33        75   \n",
       "1                26         4        82         5        11        47   \n",
       "2               100        54        25        12        27        82   \n",
       "3                 2        95         1        96        32         6   \n",
       "4                53         1        47        93        26         3   \n",
       "\n",
       "           choice_6  choice_7  choice_8  choice_9  n_people  \n",
       "family_id                                                    \n",
       "0                64        76        10        28         4  \n",
       "1                38         6        66        61         4  \n",
       "2                10        89        80        33         3  \n",
       "3                40        31         9        59         2  \n",
       "4                46        16        42        39         4  "
      ]
     },
     "metadata": {},
     "output_type": "display_data"
    },
    {
     "name": "stdout",
     "output_type": "stream",
     "text": [
      "None\n",
      "----------INFO-----------------\n",
      "<class 'pandas.core.frame.DataFrame'>\n",
      "Int64Index: 5000 entries, 0 to 4999\n",
      "Data columns (total 11 columns):\n",
      "choice_0    5000 non-null int64\n",
      "choice_1    5000 non-null int64\n",
      "choice_2    5000 non-null int64\n",
      "choice_3    5000 non-null int64\n",
      "choice_4    5000 non-null int64\n",
      "choice_5    5000 non-null int64\n",
      "choice_6    5000 non-null int64\n",
      "choice_7    5000 non-null int64\n",
      "choice_8    5000 non-null int64\n",
      "choice_9    5000 non-null int64\n",
      "n_people    5000 non-null int64\n",
      "dtypes: int64(11)\n",
      "memory usage: 468.8 KB\n",
      "None\n",
      "----------Describe-------------\n"
     ]
    },
    {
     "data": {
      "text/html": [
       "<div>\n",
       "<style scoped>\n",
       "    .dataframe tbody tr th:only-of-type {\n",
       "        vertical-align: middle;\n",
       "    }\n",
       "\n",
       "    .dataframe tbody tr th {\n",
       "        vertical-align: top;\n",
       "    }\n",
       "\n",
       "    .dataframe thead th {\n",
       "        text-align: right;\n",
       "    }\n",
       "</style>\n",
       "<table border=\"1\" class=\"dataframe\">\n",
       "  <thead>\n",
       "    <tr style=\"text-align: right;\">\n",
       "      <th></th>\n",
       "      <th>choice_0</th>\n",
       "      <th>choice_1</th>\n",
       "      <th>choice_2</th>\n",
       "      <th>choice_3</th>\n",
       "      <th>choice_4</th>\n",
       "      <th>choice_5</th>\n",
       "      <th>choice_6</th>\n",
       "      <th>choice_7</th>\n",
       "      <th>choice_8</th>\n",
       "      <th>choice_9</th>\n",
       "      <th>n_people</th>\n",
       "    </tr>\n",
       "  </thead>\n",
       "  <tbody>\n",
       "    <tr>\n",
       "      <th>count</th>\n",
       "      <td>5000.000000</td>\n",
       "      <td>5000.000000</td>\n",
       "      <td>5000.000000</td>\n",
       "      <td>5000.000000</td>\n",
       "      <td>5000.000000</td>\n",
       "      <td>5000.00000</td>\n",
       "      <td>5000.000000</td>\n",
       "      <td>5000.000000</td>\n",
       "      <td>5000.00000</td>\n",
       "      <td>5000.000000</td>\n",
       "      <td>5000.00000</td>\n",
       "    </tr>\n",
       "    <tr>\n",
       "      <th>mean</th>\n",
       "      <td>40.715000</td>\n",
       "      <td>41.601000</td>\n",
       "      <td>41.194200</td>\n",
       "      <td>41.595000</td>\n",
       "      <td>41.950600</td>\n",
       "      <td>42.63520</td>\n",
       "      <td>41.965000</td>\n",
       "      <td>42.739600</td>\n",
       "      <td>42.33900</td>\n",
       "      <td>42.608200</td>\n",
       "      <td>4.20060</td>\n",
       "    </tr>\n",
       "    <tr>\n",
       "      <th>std</th>\n",
       "      <td>29.054208</td>\n",
       "      <td>29.518375</td>\n",
       "      <td>28.821878</td>\n",
       "      <td>29.094602</td>\n",
       "      <td>29.045049</td>\n",
       "      <td>28.98729</td>\n",
       "      <td>28.711089</td>\n",
       "      <td>28.959156</td>\n",
       "      <td>28.69832</td>\n",
       "      <td>28.116088</td>\n",
       "      <td>1.53272</td>\n",
       "    </tr>\n",
       "    <tr>\n",
       "      <th>min</th>\n",
       "      <td>1.000000</td>\n",
       "      <td>1.000000</td>\n",
       "      <td>1.000000</td>\n",
       "      <td>1.000000</td>\n",
       "      <td>1.000000</td>\n",
       "      <td>1.00000</td>\n",
       "      <td>1.000000</td>\n",
       "      <td>1.000000</td>\n",
       "      <td>1.00000</td>\n",
       "      <td>1.000000</td>\n",
       "      <td>2.00000</td>\n",
       "    </tr>\n",
       "    <tr>\n",
       "      <th>25%</th>\n",
       "      <td>16.000000</td>\n",
       "      <td>16.000000</td>\n",
       "      <td>17.000000</td>\n",
       "      <td>17.000000</td>\n",
       "      <td>17.000000</td>\n",
       "      <td>18.00000</td>\n",
       "      <td>17.000000</td>\n",
       "      <td>18.000000</td>\n",
       "      <td>17.00000</td>\n",
       "      <td>19.000000</td>\n",
       "      <td>3.00000</td>\n",
       "    </tr>\n",
       "    <tr>\n",
       "      <th>50%</th>\n",
       "      <td>38.000000</td>\n",
       "      <td>38.000000</td>\n",
       "      <td>38.000000</td>\n",
       "      <td>39.000000</td>\n",
       "      <td>39.000000</td>\n",
       "      <td>40.00000</td>\n",
       "      <td>39.000000</td>\n",
       "      <td>39.000000</td>\n",
       "      <td>39.00000</td>\n",
       "      <td>39.000000</td>\n",
       "      <td>4.00000</td>\n",
       "    </tr>\n",
       "    <tr>\n",
       "      <th>75%</th>\n",
       "      <td>62.000000</td>\n",
       "      <td>66.000000</td>\n",
       "      <td>63.000000</td>\n",
       "      <td>66.000000</td>\n",
       "      <td>66.000000</td>\n",
       "      <td>66.00000</td>\n",
       "      <td>66.000000</td>\n",
       "      <td>67.000000</td>\n",
       "      <td>66.00000</td>\n",
       "      <td>66.000000</td>\n",
       "      <td>5.00000</td>\n",
       "    </tr>\n",
       "    <tr>\n",
       "      <th>max</th>\n",
       "      <td>100.000000</td>\n",
       "      <td>100.000000</td>\n",
       "      <td>100.000000</td>\n",
       "      <td>100.000000</td>\n",
       "      <td>100.000000</td>\n",
       "      <td>100.00000</td>\n",
       "      <td>100.000000</td>\n",
       "      <td>100.000000</td>\n",
       "      <td>100.00000</td>\n",
       "      <td>100.000000</td>\n",
       "      <td>8.00000</td>\n",
       "    </tr>\n",
       "  </tbody>\n",
       "</table>\n",
       "</div>"
      ],
      "text/plain": [
       "          choice_0     choice_1     choice_2     choice_3     choice_4  \\\n",
       "count  5000.000000  5000.000000  5000.000000  5000.000000  5000.000000   \n",
       "mean     40.715000    41.601000    41.194200    41.595000    41.950600   \n",
       "std      29.054208    29.518375    28.821878    29.094602    29.045049   \n",
       "min       1.000000     1.000000     1.000000     1.000000     1.000000   \n",
       "25%      16.000000    16.000000    17.000000    17.000000    17.000000   \n",
       "50%      38.000000    38.000000    38.000000    39.000000    39.000000   \n",
       "75%      62.000000    66.000000    63.000000    66.000000    66.000000   \n",
       "max     100.000000   100.000000   100.000000   100.000000   100.000000   \n",
       "\n",
       "         choice_5     choice_6     choice_7    choice_8     choice_9  \\\n",
       "count  5000.00000  5000.000000  5000.000000  5000.00000  5000.000000   \n",
       "mean     42.63520    41.965000    42.739600    42.33900    42.608200   \n",
       "std      28.98729    28.711089    28.959156    28.69832    28.116088   \n",
       "min       1.00000     1.000000     1.000000     1.00000     1.000000   \n",
       "25%      18.00000    17.000000    18.000000    17.00000    19.000000   \n",
       "50%      40.00000    39.000000    39.000000    39.00000    39.000000   \n",
       "75%      66.00000    66.000000    67.000000    66.00000    66.000000   \n",
       "max     100.00000   100.000000   100.000000   100.00000   100.000000   \n",
       "\n",
       "         n_people  \n",
       "count  5000.00000  \n",
       "mean      4.20060  \n",
       "std       1.53272  \n",
       "min       2.00000  \n",
       "25%       3.00000  \n",
       "50%       4.00000  \n",
       "75%       5.00000  \n",
       "max       8.00000  "
      ]
     },
     "metadata": {},
     "output_type": "display_data"
    },
    {
     "name": "stdout",
     "output_type": "stream",
     "text": [
      "None\n",
      "----------Columns--------------\n",
      "Index(['choice_0', 'choice_1', 'choice_2', 'choice_3', 'choice_4', 'choice_5',\n",
      "       'choice_6', 'choice_7', 'choice_8', 'choice_9', 'n_people'],\n",
      "      dtype='object')\n",
      "----------Data Types-----------\n",
      "choice_0    int64\n",
      "choice_1    int64\n",
      "choice_2    int64\n",
      "choice_3    int64\n",
      "choice_4    int64\n",
      "choice_5    int64\n",
      "choice_6    int64\n",
      "choice_7    int64\n",
      "choice_8    int64\n",
      "choice_9    int64\n",
      "n_people    int64\n",
      "dtype: object\n",
      "-------Missing Values----------\n",
      "choice_0    0\n",
      "choice_1    0\n",
      "choice_2    0\n",
      "choice_3    0\n",
      "choice_4    0\n",
      "choice_5    0\n",
      "choice_6    0\n",
      "choice_7    0\n",
      "choice_8    0\n",
      "choice_9    0\n",
      "n_people    0\n",
      "dtype: int64\n",
      "-------NULL values-------------\n",
      "choice_0    0\n",
      "choice_1    0\n",
      "choice_2    0\n",
      "choice_3    0\n",
      "choice_4    0\n",
      "choice_5    0\n",
      "choice_6    0\n",
      "choice_7    0\n",
      "choice_8    0\n",
      "choice_9    0\n",
      "n_people    0\n",
      "dtype: int64\n",
      "-----Shape Of Data-------------\n",
      "(5000, 11)\n"
     ]
    }
   ],
   "source": [
    "Process.basic_eda(data)"
   ]
  },
  {
   "cell_type": "code",
   "execution_count": 10,
   "metadata": {
    "ExecuteTime": {
     "end_time": "2020-01-04T13:52:58.891947Z",
     "start_time": "2020-01-04T13:52:58.885709Z"
    }
   },
   "outputs": [
    {
     "data": {
      "text/html": [
       "<div>\n",
       "<style scoped>\n",
       "    .dataframe tbody tr th:only-of-type {\n",
       "        vertical-align: middle;\n",
       "    }\n",
       "\n",
       "    .dataframe tbody tr th {\n",
       "        vertical-align: top;\n",
       "    }\n",
       "\n",
       "    .dataframe thead th {\n",
       "        text-align: right;\n",
       "    }\n",
       "</style>\n",
       "<table border=\"1\" class=\"dataframe\">\n",
       "  <thead>\n",
       "    <tr style=\"text-align: right;\">\n",
       "      <th></th>\n",
       "      <th>assigned_day</th>\n",
       "    </tr>\n",
       "    <tr>\n",
       "      <th>family_id</th>\n",
       "      <th></th>\n",
       "    </tr>\n",
       "  </thead>\n",
       "  <tbody>\n",
       "    <tr>\n",
       "      <th>4995</th>\n",
       "      <td>5</td>\n",
       "    </tr>\n",
       "    <tr>\n",
       "      <th>4996</th>\n",
       "      <td>4</td>\n",
       "    </tr>\n",
       "    <tr>\n",
       "      <th>4997</th>\n",
       "      <td>3</td>\n",
       "    </tr>\n",
       "    <tr>\n",
       "      <th>4998</th>\n",
       "      <td>2</td>\n",
       "    </tr>\n",
       "    <tr>\n",
       "      <th>4999</th>\n",
       "      <td>1</td>\n",
       "    </tr>\n",
       "  </tbody>\n",
       "</table>\n",
       "</div>"
      ],
      "text/plain": [
       "           assigned_day\n",
       "family_id              \n",
       "4995                  5\n",
       "4996                  4\n",
       "4997                  3\n",
       "4998                  2\n",
       "4999                  1"
      ]
     },
     "execution_count": 10,
     "metadata": {},
     "output_type": "execute_result"
    }
   ],
   "source": [
    "submission.tail()"
   ]
  },
  {
   "cell_type": "markdown",
   "metadata": {
    "ExecuteTime": {
     "end_time": "2020-01-04T09:39:50.516257Z",
     "start_time": "2020-01-04T09:39:50.500445Z"
    },
    "toc-hr-collapsed": false
   },
   "source": [
    "# Preprocess"
   ]
  },
  {
   "cell_type": "markdown",
   "metadata": {},
   "source": [
    "## Create some lookup dictionaries and define constants"
   ]
  },
  {
   "cell_type": "markdown",
   "metadata": {},
   "source": [
    "You don't need to do it this way. :-)"
   ]
  },
  {
   "cell_type": "code",
   "execution_count": 11,
   "metadata": {
    "ExecuteTime": {
     "end_time": "2020-01-04T13:52:58.925879Z",
     "start_time": "2020-01-04T13:52:58.893646Z"
    }
   },
   "outputs": [],
   "source": [
    "family_size_dict = data[['n_people']].to_dict()['n_people']\n",
    "\n",
    "cols = [f'choice_{i}' for i in range(10)]\n",
    "choice_dict = data[cols].to_dict()\n",
    "\n",
    "N_DAYS = 100\n",
    "MAX_OCCUPANCY = 300\n",
    "MIN_OCCUPANCY = 125\n",
    "\n",
    "# from 100 to 1\n",
    "days = list(range(N_DAYS,0,-1))"
   ]
  },
  {
   "cell_type": "markdown",
   "metadata": {},
   "source": [
    "# Cost Function"
   ]
  },
  {
   "cell_type": "code",
   "execution_count": 12,
   "metadata": {
    "ExecuteTime": {
     "end_time": "2020-01-04T13:52:58.940996Z",
     "start_time": "2020-01-04T13:52:58.928136Z"
    }
   },
   "outputs": [],
   "source": [
    "def cost_function(prediction):\n",
    "\n",
    "    penalty = 0\n",
    "\n",
    "    # We'll use this to count the number of people scheduled each day\n",
    "    daily_occupancy = {k:0 for k in days}\n",
    "    \n",
    "    # Looping over each family; d is the day for each family f\n",
    "    for f, d in enumerate(prediction):\n",
    "\n",
    "        # Using our lookup dictionaries to make simpler variable names\n",
    "        n = family_size_dict[f]\n",
    "        choice_0 = choice_dict['choice_0'][f]\n",
    "        choice_1 = choice_dict['choice_1'][f]\n",
    "        choice_2 = choice_dict['choice_2'][f]\n",
    "        choice_3 = choice_dict['choice_3'][f]\n",
    "        choice_4 = choice_dict['choice_4'][f]\n",
    "        choice_5 = choice_dict['choice_5'][f]\n",
    "        choice_6 = choice_dict['choice_6'][f]\n",
    "        choice_7 = choice_dict['choice_7'][f]\n",
    "        choice_8 = choice_dict['choice_8'][f]\n",
    "        choice_9 = choice_dict['choice_9'][f]\n",
    "\n",
    "        # add the family member count to the daily occupancy\n",
    "        daily_occupancy[d] += n\n",
    "\n",
    "        # Calculate the penalty for not getting top preference\n",
    "        if d == choice_0:\n",
    "            penalty += 0\n",
    "        elif d == choice_1:\n",
    "            penalty += 50\n",
    "        elif d == choice_2:\n",
    "            penalty += 50 + 9 * n\n",
    "        elif d == choice_3:\n",
    "            penalty += 100 + 9 * n\n",
    "        elif d == choice_4:\n",
    "            penalty += 200 + 9 * n\n",
    "        elif d == choice_5:\n",
    "            penalty += 200 + 18 * n\n",
    "        elif d == choice_6:\n",
    "            penalty += 300 + 18 * n\n",
    "        elif d == choice_7:\n",
    "            penalty += 300 + 36 * n\n",
    "        elif d == choice_8:\n",
    "            penalty += 400 + 36 * n\n",
    "        elif d == choice_9:\n",
    "            penalty += 500 + 36 * n + 199 * n\n",
    "        else:\n",
    "            penalty += 500 + 36 * n + 398 * n\n",
    "\n",
    "    # for each date, check total occupancy\n",
    "    #  (using soft constraints instead of hard constraints)\n",
    "    for _, v in daily_occupancy.items():\n",
    "        if (v > MAX_OCCUPANCY) or (v < MIN_OCCUPANCY):\n",
    "            penalty += 100000000\n",
    "\n",
    "    # Calculate the accounting cost\n",
    "    # The first day (day 100) is treated special\n",
    "    accounting_cost = (daily_occupancy[days[0]]-125.0) / 400.0 * daily_occupancy[days[0]]**(0.5)\n",
    "    # using the max function because the soft constraints might allow occupancy to dip below 125\n",
    "    accounting_cost = max(0, accounting_cost)\n",
    "    \n",
    "    # Loop over the rest of the days, keeping track of previous count\n",
    "    yesterday_count = daily_occupancy[days[0]]\n",
    "    for day in days[1:]:\n",
    "        today_count = daily_occupancy[day]\n",
    "        diff = abs(today_count - yesterday_count)\n",
    "        accounting_cost += max(0, (daily_occupancy[day]-125.0) / 400.0 * daily_occupancy[day]**(0.5 + diff / 50.0))\n",
    "        yesterday_count = today_count\n",
    "\n",
    "    penalty += accounting_cost\n",
    "\n",
    "    return penalty"
   ]
  },
  {
   "cell_type": "markdown",
   "metadata": {},
   "source": [
    "# Optimize"
   ]
  },
  {
   "cell_type": "markdown",
   "metadata": {},
   "source": [
    "For each family, loop over their choices, and if keep it if the score improves. \\\n",
    "There's a lot of easy improvement that can be made to this code."
   ]
  },
  {
   "cell_type": "code",
   "execution_count": 9,
   "metadata": {
    "ExecuteTime": {
     "end_time": "2020-01-04T13:58:14.988945Z",
     "start_time": "2020-01-04T13:52:58.943118Z"
    }
   },
   "outputs": [
    {
     "name": "stdout",
     "output_type": "stream",
     "text": [
      "Score: 672254.0276683343\n"
     ]
    }
   ],
   "source": [
    "# Start with the sample submission values\n",
    "best = submission['assigned_day'].tolist()\n",
    "start_score = cost_function(best)\n",
    "\n",
    "new = best.copy()\n",
    "# loop over each family\n",
    "for fam_id, _ in enumerate(best):\n",
    "    # loop over each family choice\n",
    "    for pick in range(10):\n",
    "        day = choice_dict[f'choice_{pick}'][fam_id]\n",
    "        temp = new.copy()\n",
    "        temp[fam_id] = day # add in the new pick\n",
    "        if cost_function(temp) < start_score:\n",
    "            new = temp.copy()\n",
    "            start_score = cost_function(new)\n",
    "\n",
    "submission['assigned_day'] = new\n",
    "score = cost_function(new)\n",
    "submission.to_csv('../submissions/submission_starter.csv')\n",
    "print(f'Score: {score}')"
   ]
  },
  {
   "cell_type": "code",
   "execution_count": 10,
   "metadata": {
    "ExecuteTime": {
     "end_time": "2020-01-04T14:38:38.860757Z",
     "start_time": "2020-01-04T14:38:38.621808Z"
    }
   },
   "outputs": [
    {
     "data": {
      "text/plain": [
       "<matplotlib.axes._subplots.AxesSubplot at 0x7efb85058f28>"
      ]
     },
     "execution_count": 10,
     "metadata": {},
     "output_type": "execute_result"
    },
    {
     "data": {
      "image/png": "[encoded data removed]",
      "text/plain": [
       "<Figure size 432x288 with 1 Axes>"
      ]
     },
     "metadata": {
      "needs_background": "light"
     },
     "output_type": "display_data"
    }
   ],
   "source": [
    "submission.assigned_day.value_counts().hist()"
   ]
  },
  {
   "cell_type": "markdown",
   "metadata": {},
   "source": [
    "# submit"
   ]
  },
  {
   "cell_type": "code",
   "execution_count": 13,
   "metadata": {},
   "outputs": [
    {
     "name": "stdout",
     "output_type": "stream",
     "text": [
      "100%|██████████████████████████████████████| 37.4k/37.4k [00:04<00:00, 8.42kB/s]\n",
      "Successfully submitted to Santa's Workshop Tour 2019"
     ]
    }
   ],
   "source": [
    "!kaggle competitions submit -c santa-workshop-tour-2019 -f ../submissions/submission_starter.csv -m \"Message\""
   ]
  },
  {
   "cell_type": "markdown",
   "metadata": {},
   "source": [
    "# test"
   ]
  },
  {
   "cell_type": "code",
   "execution_count": 24,
   "metadata": {},
   "outputs": [],
   "source": [
    "submission = pd.read_csv('../script/submission.csv', index_col='family_id')\n",
    "sub = submission['assigned_day'].tolist()"
   ]
  },
  {
   "cell_type": "code",
   "execution_count": 25,
   "metadata": {},
   "outputs": [
    {
     "name": "stdout",
     "output_type": "stream",
     "text": [
      "CPU times: user 2 µs, sys: 0 ns, total: 2 µs\n",
      "Wall time: 5.72 µs\n"
     ]
    },
    {
     "data": {
      "text/plain": [
       "69866.40560765083"
      ]
     },
     "execution_count": 25,
     "metadata": {},
     "output_type": "execute_result"
    }
   ],
   "source": [
    "%time\n",
    "score = cost_function(sub)\n",
    "score"
   ]
  },
  {
   "cell_type": "markdown",
   "metadata": {},
   "source": [
    "# References"
   ]
  },
  {
   "cell_type": "markdown",
   "metadata": {},
   "source": [
    "- Referenced Kernel\\\n",
    "https://www.kaggle.com/inversion/santa-s-2019-starter-notebook"
   ]
  }
 ],
 "metadata": {
  "kernelspec": {
   "display_name": "Python 3",
   "language": "python",
   "name": "python3"
  },
  "language_info": {
   "codemirror_mode": {
    "name": "ipython",
    "version": 3
   },
   "file_extension": ".py",
   "mimetype": "text/x-python",
   "name": "python",
   "nbconvert_exporter": "python",
   "pygments_lexer": "ipython3",
   "version": "3.6.7"
  },
  "toc": {
   "base_numbering": 1,
   "nav_menu": {},
   "number_sections": true,
   "sideBar": true,
   "skip_h1_title": false,
   "title_cell": "Table of Contents",
   "title_sidebar": "Contents",
   "toc_cell": false,
   "toc_position": {},
   "toc_section_display": true,
   "toc_window_display": true
  }
 },
 "nbformat": 4,
 "nbformat_minor": 4
}
